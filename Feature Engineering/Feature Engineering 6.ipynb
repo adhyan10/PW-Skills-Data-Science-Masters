{
 "cells": [
  {
   "cell_type": "markdown",
   "id": "687cbbcc-e931-46a2-a320-41ce10695338",
   "metadata": {},
   "source": [
    "## Feature Engineering 6"
   ]
  },
  {
   "cell_type": "markdown",
   "id": "513d99db-86ba-4e22-baea-20e048c34b25",
   "metadata": {},
   "source": [
    "Q1. Pearson correlation coefficient is a measure of the linear relationship between two variables. Suppose\n",
    "you have collected data on the amount of time students spend studying for an exam and their final exam\n",
    "scores. Calculate the Pearson correlation coefficient between these two variables and interpret the result."
   ]
  },
  {
   "cell_type": "markdown",
   "id": "572bab66-d554-4247-9d3c-002cfb67796f",
   "metadata": {},
   "source": [
    "Ans:  \n",
    "  \n",
    "### Pearson Correlation Coefficient Calculation Using Covariance\n",
    "\n",
    "The Pearson correlation coefficient (\\( r \\)) measures the linear relationship between two variables. It can be expressed using covariance and standard deviations as follows:\n",
    "\n",
    "$$\n",
    "r = \\frac{\\text{Cov}(X, Y)}{\\sigma_X \\sigma_Y}\n",
    "$$\n",
    "\n",
    "where:\n",
    "- $\\text{Cov}(X, Y)$ is the covariance of X and Y,\n",
    "- $\\sigma_X is$ the standard deviation of X,\n",
    "- $\\sigma_Y$ is the standard deviation of \\(Y\\).\n",
    "\n",
    "### Example Data\n",
    "\n",
    "Let's use the following data for our calculation:\n",
    "\n",
    "| Student | Time Studied (X) | Exam Score (Y) |\n",
    "|---------|------------------|----------------|\n",
    "| 1       | 2                | 50             |\n",
    "| 2       | 3                | 60             |\n",
    "| 3       | 5                | 70             |\n",
    "| 4       | 7                | 80             |\n",
    "| 5       | 8                | 85             |\n",
    "\n",
    "### Step-by-Step Calculation\n",
    "\n",
    "#### 1. Calculate the Means\n",
    "\n",
    "$$\n",
    "\\bar{X} = \\frac{2 + 3 + 5 + 7 + 8}{5} = \\frac{25}{5} = 5\n",
    "$$\n",
    "\n",
    "$$\n",
    "\\bar{Y} = \\frac{50 + 60 + 70 + 80 + 85}{5} = \\frac{345}{5} = 69\n",
    "$$\n",
    "\n",
    "#### 2. Calculate the Covariance\n",
    "\n",
    "$$\n",
    "\\text{Cov}(X, Y) = \\frac{(2 - 5)(50 - 69) + (3 - 5)(60 - 69) + (5 - 5)(70 - 69) + (7 - 5)(80 - 69) + (8 - 5)(85 - 69)}{5}\n",
    "$$\n",
    "\n",
    "$$\n",
    "= \\frac{(-3 \\cdot -19) + (-2 \\cdot -9) + (0 \\cdot 1) + (2 \\cdot 11) + (3 \\cdot 16)}{5}\n",
    "$$\n",
    "\n",
    "$$\n",
    "= \\frac{57 + 18 + 0 + 22 + 48}{5}\n",
    "$$\n",
    "\n",
    "$$\n",
    "= \\frac{145}{5} = 29\n",
    "$$\n",
    "\n",
    "#### 3. Calculate the Standard Deviations\n",
    "\n",
    "For \\(X\\):\n",
    "\n",
    "$$\n",
    "\\sigma_X = \\sqrt{\\frac{(2 - 5)^2 + (3 - 5)^2 + (5 - 5)^2 + (7 - 5)^2 + (8 - 5)^2}{5}}\n",
    "$$\n",
    "\n",
    "$$\n",
    "= \\sqrt{\\frac{9 + 4 + 0 + 4 + 9}{5}}\n",
    "$$\n",
    "\n",
    "$$\n",
    "= \\sqrt{\\frac{26}{5}} \\approx \\sqrt{5.2} \\approx 2.28\n",
    "$$\n",
    "\n",
    "For \\(Y\\):\n",
    "\n",
    "$$\n",
    "\\sigma_Y = \\sqrt{\\frac{(50 - 69)^2 + (60 - 69)^2 + (70 - 69)^2 + (80 - 69)^2 + (85 - 69)^2}{5}}\n",
    "$$\n",
    "\n",
    "$$\n",
    "= \\sqrt{\\frac{361 + 81 + 1 + 121 + 256}{5}}\n",
    "$$\n",
    "\n",
    "$$\n",
    "= \\sqrt{\\frac{820}{5}} \\approx \\sqrt{164} \\approx 12.81\n",
    "$$\n",
    "\n",
    "#### 4. Calculate \\( r \\)\n",
    "\n",
    "$$\n",
    "r = \\frac{\\text{Cov}(X, Y)}{\\sigma_X \\sigma_Y} = \\frac{29}{2.28 \\cdot 12.81}\n",
    "$$\n",
    "\n",
    "$$\n",
    "= \\frac{29}{29.16} \\approx 0.994\n",
    "$$\n",
    "\n",
    "### Summary\n",
    "\n",
    "The Pearson correlation coefficient \\( r \\) is approximately \\( 0.994 \\), which indicates a very strong positive linear relationship between the amount of time students spend studying and their final exam scores. This result suggests that as study time increases, exam scores tend to increase significantly.\n"
   ]
  },
  {
   "cell_type": "markdown",
   "id": "9b471a10-f5a3-4c2d-81e3-e44537a85489",
   "metadata": {},
   "source": [
    "Q2. Spearman's rank correlation is a measure of the monotonic relationship between two variables.\n",
    "Suppose you have collected data on the amount of sleep individuals get each night and their overall job\n",
    "satisfaction level on a scale of 1 to 10. Calculate the Spearman's rank correlation between these two\n",
    "variables and interpret the result."
   ]
  },
  {
   "cell_type": "markdown",
   "id": "59e84299-66aa-4d3f-861f-346f528bf7f1",
   "metadata": {},
   "source": [
    "Ans: \n",
    "  \n",
    "#### Spearman's Rank Correlation Coefficient Calculation\n",
    "\n",
    "Spearman's rank correlation coefficient (\\( \\rho \\)) measures the monotonic relationship between two variables. It is calculated using:\n",
    "\n",
    "$$\n",
    "\\rho = 1 - \\frac{6 \\sum d_i^2}{n(n^2 - 1)}\n",
    "$$\n",
    "\n",
    "where:\n",
    "- \\( d_i \\) is the difference between the ranks of each pair of values,\n",
    "- \\( n \\) is the number of data points.\n",
    "\n",
    "**Example Data**  \n",
    "\n",
    "Let's use the following revised data on sleep and job satisfaction:\n",
    "\n",
    "| Individual | Sleep (hours) | Job Satisfaction (1-10) |\n",
    "|------------|---------------|-------------------------|\n",
    "| 1          | 5             | 6                       |\n",
    "| 2          | 6             | 7                       |\n",
    "| 3          | 8             | 9                       |\n",
    "| 4          | 7             | 6                       |\n",
    "| 5          | 4             | 8                       |\n",
    "\n",
    "**1. Rank the Data**\n",
    "\n",
    "**Ranks for Sleep:**\n",
    "\n",
    "| Individual | Sleep (hours) | Rank |\n",
    "|------------|---------------|------|\n",
    "| 1          | 5             | 2    |\n",
    "| 2          | 6             | 3    |\n",
    "| 3          | 8             | 5    |\n",
    "| 4          | 7             | 4    |\n",
    "| 5          | 4             | 1    |\n",
    "\n",
    "**Ranks for Job Satisfaction:**\n",
    "\n",
    "| Individual | Job Satisfaction (1-10) | Rank |\n",
    "|------------|-------------------------|------|\n",
    "| 1          | 6                       | 2    |\n",
    "| 2          | 7                       | 3    |\n",
    "| 3          | 9                       | 5    |\n",
    "| 4          | 6                       | 2    |\n",
    "| 5          | 8                       | 4    |\n",
    "\n",
    "**2. Calculate the Difference in Ranks**\n",
    "\n",
    "Compute \\( d_i \\) and \\( d_i^2 \\):\n",
    "\n",
    "| Individual | Rank (Sleep) | Rank (Satisfaction) | \\( d_i \\) | \\( d_i^2 \\) |\n",
    "|------------|--------------|---------------------|-----------|-------------|\n",
    "| 1          | 2            | 2                   | 0         | 0           |\n",
    "| 2          | 3            | 3                   | 0         | 0           |\n",
    "| 3          | 5            | 5                   | 0         | 0           |\n",
    "| 4          | 4            | 2                   | 2         | 4           |\n",
    "| 5          | 1            | 4                   | -3        | 9           |\n",
    "\n",
    "**3. Sum of Squared Differences**\n",
    "\n",
    "$$\n",
    "\\sum d_i^2 = 0 + 0 + 0 + 4 + 9 = 13\n",
    "$$\n",
    "\n",
    "**4. Calculate $\\rho$**\n",
    "\n",
    "Substitute into the formula:\n",
    "\n",
    "$$\n",
    "\\rho = 1 - \\frac{6 \\sum d_i^2}{n(n^2 - 1)}\n",
    "$$\n",
    "\n",
    "where \\( n = 5 \\).\n",
    "\n",
    "$$\n",
    "\\rho = 1 - \\frac{6 \\times 13}{5 \\times (5^2 - 1)}\n",
    "$$\n",
    "\n",
    "$$\n",
    "\\rho = 1 - \\frac{78}{5 \\times 24}\n",
    "$$\n",
    "\n",
    "$$\n",
    "\\rho = 1 - \\frac{78}{120}\n",
    "$$\n",
    "\n",
    "$$\n",
    "\\rho = 1 - 0.65\n",
    "$$\n",
    "\n",
    "$$\n",
    "\\rho = 0.35\n",
    "$$\n",
    "\n",
    "**Interpretation:**  \n",
    "\n",
    "A Spearman's rank correlation coefficient $\\rho$ of 0.35 indicates a moderate positive monotonic relationship between the amount of sleep and job satisfaction. As sleep increases, job satisfaction tends to increase, but the relationship is not as strong as in a perfect monotonic relationship.\n"
   ]
  },
  {
   "cell_type": "markdown",
   "id": "51cdf84b-f67d-406e-8ef2-da2c414c19ce",
   "metadata": {},
   "source": [
    "Q3. Suppose you are conducting a study to examine the relationship between the number of hours of\n",
    "exercise per week and body mass index (BMI) in a sample of adults. You collected data on both variables\n",
    "for 50 participants. Calculate the Pearson correlation coefficient and the Spearman's rank correlation\n",
    "between these two variables and compare the results."
   ]
  },
  {
   "cell_type": "markdown",
   "id": "d6f12009-c094-4fc3-9638-0d241661f8dc",
   "metadata": {},
   "source": [
    "Ans:  \n",
    "\n",
    "To calculate both the Pearson correlation coefficient and Spearman's rank correlation coefficient using Python, you'll need to use the pandas library for handling the data and scipy for statistical computations"
   ]
  },
  {
   "cell_type": "code",
   "execution_count": 2,
   "id": "43cacab5-6343-4c1d-b633-e3959624d613",
   "metadata": {},
   "outputs": [
    {
     "name": "stdout",
     "output_type": "stream",
     "text": [
      "Pearson Correlation Coefficient: -0.0592\n",
      "Spearman's Rank Correlation Coefficient: -0.0742\n"
     ]
    }
   ],
   "source": [
    "import numpy as np\n",
    "import pandas as pd\n",
    "from scipy.stats import pearsonr, spearmanr\n",
    "\n",
    "# Generate synthetic data for demonstration\n",
    "np.random.seed(0)\n",
    "exercise_hours = np.random.normal(loc=3, scale=1, size=50)  # Mean = 3 hours, SD = 1 hour\n",
    "bmi = np.random.normal(loc=25, scale=5, size=50)  # Mean = 25 BMI, SD = 5 BMI\n",
    "\n",
    "# Create a DataFrame\n",
    "data = pd.DataFrame({\n",
    "    'Exercise Hours': exercise_hours,\n",
    "    'BMI': bmi\n",
    "})\n",
    "\n",
    "# Calculate Pearson Correlation\n",
    "pearson_corr, _ = pearsonr(data['Exercise Hours'], data['BMI'])\n",
    "\n",
    "# Calculate Spearman's Rank Correlation\n",
    "spearman_corr, _ = spearmanr(data['Exercise Hours'], data['BMI'])\n",
    "\n",
    "# Print results\n",
    "print(f\"Pearson Correlation Coefficient: {pearson_corr:.4f}\")\n",
    "print(f\"Spearman's Rank Correlation Coefficient: {spearman_corr:.4f}\")\n"
   ]
  },
  {
   "cell_type": "markdown",
   "id": "accd2bda-9cce-4ca8-8efd-2ce731b97b72",
   "metadata": {},
   "source": [
    "Q4. A researcher is interested in examining the relationship between the number of hours individuals\n",
    "spend watching television per day and their level of physical activity. The researcher collected data on\n",
    "both variables from a sample of 50 participants. Calculate the Pearson correlation coefficient between\n",
    "these two variables."
   ]
  },
  {
   "cell_type": "markdown",
   "id": "bf295ab1-d0d7-4738-b85c-555018492431",
   "metadata": {},
   "source": [
    "Ans:  \n",
    "\n",
    "To calculate the Pearson correlation coefficient between the number of hours individuals spend watching television per day and their level of physical activity, you'll need to follow these steps in Python:"
   ]
  },
  {
   "cell_type": "code",
   "execution_count": 11,
   "id": "9884f0b4-d2e3-4ea1-9175-c8ea43bc379c",
   "metadata": {},
   "outputs": [
    {
     "name": "stdout",
     "output_type": "stream",
     "text": [
      "Pearson Correlation Coefficient: -0.9356\n",
      "P-value: 2.414147589032731e-23\n"
     ]
    }
   ],
   "source": [
    "import numpy as np\n",
    "import pandas as pd\n",
    "from scipy.stats import pearsonr\n",
    "\n",
    "# Set a random seed for reproducibility\n",
    "np.random.seed(0)\n",
    "\n",
    "# Generate synthetic data with a stronger relationship\n",
    "# Here we create a linear relationship with added noise\n",
    "n = 50  # Number of participants\n",
    "tv_hours = np.linspace(1, 5, n)  # TV hours ranging from 1 to 5\n",
    "# Generate physical activity that is inversely related to TV hours with some noise\n",
    "physical_activity = 10 - 2 * tv_hours + np.random.normal(0, 1, n)  # Linear relationship with noise\n",
    "\n",
    "# Create a DataFrame\n",
    "data = pd.DataFrame({\n",
    "    'TV Hours': tv_hours,\n",
    "    'Physical Activity (hours)': physical_activity\n",
    "})\n",
    "\n",
    "# Calculate Pearson Correlation\n",
    "pearson_corr, p_value = pearsonr(data['TV Hours'], data['Physical Activity (hours)'])\n",
    "\n",
    "# Print results\n",
    "print(f\"Pearson Correlation Coefficient: {pearson_corr:.4f}\")\n",
    "print(f\"P-value: {p_value}\")\n"
   ]
  },
  {
   "cell_type": "code",
   "execution_count": 12,
   "id": "35f564fa-1ea0-43e0-b948-b00898a329c5",
   "metadata": {},
   "outputs": [
    {
     "name": "stdout",
     "output_type": "stream",
     "text": [
      "P-value:  0.0000\n"
     ]
    }
   ],
   "source": [
    "print(f\"P-value: {p_value: .4f}\")"
   ]
  },
  {
   "cell_type": "markdown",
   "id": "f6d9840a-d991-4022-82ed-6fd4a65f4521",
   "metadata": {},
   "source": [
    "**Interpretation:**  \n",
    "Pearson Correlation Coefficient: A value of -0.9356 indicates a strong negative linear relationship between TV hours and physical activity. As TV hours increase, physical activity decreases.  \n",
    "P-value: A p-value of $2.4141*10^{-10}$ is much smaller than 0.05 as it is almost equal to 0, indicating that the correlation is statistically significant. This suggests that the observed relationship is unlikely due to random chance and is a meaningful finding."
   ]
  },
  {
   "cell_type": "markdown",
   "id": "81deb550-2b05-46ea-b6b6-f85c1212afcd",
   "metadata": {},
   "source": [
    "Q5. A survey was conducted to examine the relationship between age and preference for a particular\n",
    "brand of soft drink. The survey results are shown below:"
   ]
  },
  {
   "cell_type": "markdown",
   "id": "e97fea71-9c05-4e33-bf20-fd4676ea63d6",
   "metadata": {},
   "source": [
    "Age = [25,42,37,19,31,28]  \n",
    "soft drink preference = [coke, pepsi, mountain dew, coke, pepsi, coke]"
   ]
  },
  {
   "cell_type": "code",
   "execution_count": 13,
   "id": "58ccf9a7-beca-446b-acc4-ec83760fee6d",
   "metadata": {},
   "outputs": [
    {
     "name": "stdout",
     "output_type": "stream",
     "text": [
      "Pearson Correlation Coefficient: 0.77\n",
      "P-value: 0.07\n"
     ]
    }
   ],
   "source": [
    "import numpy as np\n",
    "import pandas as pd\n",
    "from scipy.stats import pearsonr\n",
    "from sklearn.preprocessing import LabelEncoder\n",
    "\n",
    "# Given data\n",
    "age = [25, 42, 37, 19, 31, 28]\n",
    "soft_drink_preference = ['coke', 'pepsi', 'mountain dew', 'coke', 'pepsi', 'coke']\n",
    "\n",
    "# Encode categorical data\n",
    "label_encoder = LabelEncoder()\n",
    "encoded_preferences = label_encoder.fit_transform(soft_drink_preference)\n",
    "\n",
    "# Create a DataFrame\n",
    "data = pd.DataFrame({\n",
    "    'Age': age,\n",
    "    'Soft Drink Preference': encoded_preferences\n",
    "})\n",
    "\n",
    "# Calculate Pearson Correlation\n",
    "pearson_corr, p_value = pearsonr(data['Age'], data['Soft Drink Preference'])\n",
    "\n",
    "# Print results with formatting to 2 decimal places\n",
    "print(f\"Pearson Correlation Coefficient: {pearson_corr:.2f}\")\n",
    "print(f\"P-value: {p_value:.2f}\")\n"
   ]
  },
  {
   "cell_type": "markdown",
   "id": "52bf6cec-3618-4fab-903c-1897a5a078ba",
   "metadata": {},
   "source": [
    "**Interpretation:**:    \n",
    "1. Pearson Correlation Coefficient: A value of 0.77 suggests a moderate positive linear relationship between age and the encoded soft drink preferences.\n",
    "2. P-value: A p-value of 0.07 indicates that the correlation is not statistically significant at the 0.05 level, implying that the observed relationship may not be meaningful or could be due to random chance."
   ]
  },
  {
   "cell_type": "markdown",
   "id": "f5491c89-4eb0-4a8e-9b70-8dc441e12d0d",
   "metadata": {},
   "source": [
    "Q6. A company is interested in examining the relationship between the number of sales calls made per day\n",
    "and the number of sales made per week. The company collected data on both variables from a sample of\n",
    "30 sales representatives. Calculate the Pearson correlation coefficient between these two variables."
   ]
  },
  {
   "cell_type": "markdown",
   "id": "2aaf433a-754b-4d00-ba03-53e488df8756",
   "metadata": {},
   "source": [
    "Ans:  \n",
    "\n",
    "To calculate the Pearson correlation coefficient between the number of sales calls made per day and the number of sales made per week, you'll need to follow these steps:"
   ]
  },
  {
   "cell_type": "code",
   "execution_count": 14,
   "id": "864b7eb9-2d3d-4fad-b230-5a00f9ccf473",
   "metadata": {},
   "outputs": [
    {
     "name": "stdout",
     "output_type": "stream",
     "text": [
      "Pearson Correlation Coefficient: 0.85\n",
      "P-value: 0.00\n"
     ]
    }
   ],
   "source": [
    "import numpy as np\n",
    "from scipy.stats import pearsonr\n",
    "\n",
    "# Set a random seed for reproducibility\n",
    "np.random.seed(0)\n",
    "\n",
    "# Generate synthetic data\n",
    "n = 30  # Number of sales representatives\n",
    "\n",
    "# Generate the number of sales calls made per day\n",
    "# Assume a normal distribution for sales calls\n",
    "mean_calls = 70\n",
    "std_calls = 15\n",
    "sales_calls_per_day = np.random.normal(mean_calls, std_calls, n)\n",
    "\n",
    "# Generate the number of sales made per week\n",
    "# Assume a linear relationship with some added noise\n",
    "mean_sales = 30\n",
    "std_sales = 5\n",
    "sales_per_week = 0.5 * sales_calls_per_day + np.random.normal(mean_sales, std_sales, n)\n",
    "\n",
    "# Calculate Pearson Correlation Coefficient\n",
    "pearson_corr, p_value = pearsonr(sales_calls_per_day, sales_per_week)\n",
    "\n",
    "# Print results with formatting to 2 decimal places\n",
    "print(f\"Pearson Correlation Coefficient: {pearson_corr:.2f}\")\n",
    "print(f\"P-value: {p_value:.2f}\")\n"
   ]
  },
  {
   "cell_type": "markdown",
   "id": "97629bbe-b089-4694-8fbe-78e62164e3fa",
   "metadata": {},
   "source": [
    "**Interpretation:**  \n",
    "1. Pearson Correlation Coefficient: A value of 0.85 indicates a strong positive linear relationship between the number of sales calls made per day and the number of sales made per week. This suggests that as the number of sales calls increases, the number of sales made per week tends to increase as well.   \n",
    "2. P-value: A p-value of 0.00 indicates that the correlation is statistically significant, meaning the observed relationship is very unlikely to be due to random chance.  "
   ]
  },
  {
   "cell_type": "code",
   "execution_count": null,
   "id": "5b607f36-137c-4afe-9493-4d23c4e7a2fe",
   "metadata": {},
   "outputs": [],
   "source": []
  }
 ],
 "metadata": {
  "kernelspec": {
   "display_name": "Python 3 (ipykernel)",
   "language": "python",
   "name": "python3"
  },
  "language_info": {
   "codemirror_mode": {
    "name": "ipython",
    "version": 3
   },
   "file_extension": ".py",
   "mimetype": "text/x-python",
   "name": "python",
   "nbconvert_exporter": "python",
   "pygments_lexer": "ipython3",
   "version": "3.9.18"
  }
 },
 "nbformat": 4,
 "nbformat_minor": 5
}
