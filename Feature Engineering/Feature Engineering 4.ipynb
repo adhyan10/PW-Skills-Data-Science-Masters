{
 "cells": [
  {
   "cell_type": "markdown",
   "id": "56664904-15d5-4406-82d1-15be29fd1520",
   "metadata": {},
   "source": [
    "## Feature Engineering 4"
   ]
  },
  {
   "cell_type": "markdown",
   "id": "39aad8d5-a055-4c8f-b88b-d7b8bfa27dcd",
   "metadata": {},
   "source": [
    "Q1. What is data encoding? How is it useful in data science?"
   ]
  },
  {
   "cell_type": "markdown",
   "id": "35aae512-5b85-4634-838e-55dc6850b2e4",
   "metadata": {},
   "source": [
    "Ans:  \n",
    "\n",
    "Data encoding is a process used to convert data from one format to another, typically to make it more suitable for a particular use case, such as storage, transmission, or analysis..In data science, encoding is especially important when dealing with categorical data, which consists of variables that represent categories or classes.While training a machine learning algorithm, it requires its feature inputs to be numerical,therfore we convert cattegorical features to numerical, this process is called data encoding.\n",
    "  \n",
    "**How Data Encoding is Useful in Data Science:**  \n",
    "1. Model Compatibility:  \n",
    "Many machine learning algorithms require numerical input. Encoding categorical features allows these algorithms to work with non-numerical data.  \n",
    "2. Performance Improvement:  \n",
    "Proper encoding can improve model performance by better capturing the relationships between features and the target variable.  \n",
    "3. Feature Engineering:  \n",
    "Encoding can help in creating meaningful features from categorical data, enabling more effective feature engineering.  \n",
    "4. Data Preprocessing:  \n",
    "Encoding is a crucial step in data preprocessing, ensuring that data is in the right format for analysis and model training.  \n",
    "5. Handling High Cardinality:  \n",
    "Techniques like binary encoding and frequency encoding can manage features with many categories efficiently, reducing dimensionality and improving computational efficiency.  \n",
    "In summary, data encoding transforms categorical data into a format that machine learning algorithms can work with effectively, facilitating better model training and performance.\n",
    "\n",
    "\n",
    "\n",
    "\n",
    "\n",
    "\n"
   ]
  },
  {
   "cell_type": "markdown",
   "id": "9b9d25f6-d4cd-4208-8482-b64b0758d49b",
   "metadata": {},
   "source": [
    "Q2. What is nominal encoding? Provide an example of how you would use it in a real-world scenario."
   ]
  },
  {
   "cell_type": "markdown",
   "id": "50fe9298-b250-4782-baff-51ddb9d36887",
   "metadata": {},
   "source": [
    "Ans:    \n",
    "  \n",
    "**Nominal encoding** is a method used to convert categorical data, where the categories have no intrinsic order, into a numerical format that can be used in machine learning algorithms. This type of encoding is applied to nominal data, which consists of categories that represent different types or groups without any inherent ranking or ordering.    \n",
    "  \n",
    "**Characteristics of Nominal Data:**  \n",
    "* No Order: The categories are unordered. For instance, 'Red', 'Blue', and 'Green' do not have any meaningful sequence.  \n",
    "* Distinct Groups: Each category is distinct and represents a different group or type.  \n",
    "  \n",
    "**Common Methods of Nominal Encoding:**  \n",
    "* One-Hot Encoding: This is the most common method for nominal encoding. It transforms each category into a binary vector, where each category is represented by a unique combination of binary values (0s and 1s).  \n",
    "  \n",
    "* Label Encoding: Although more commonly used for ordinal data, label encoding can also be used for nominal data by assigning a unique integer to each category. However, this method might not be as effective for nominal data in many machine learning algorithms since it might introduce unintended ordinal relationships.  "
   ]
  },
  {
   "cell_type": "code",
   "execution_count": 1,
   "id": "04a1e667-5b0a-4979-a26b-3546cb25de74",
   "metadata": {},
   "outputs": [
    {
     "name": "stdout",
     "output_type": "stream",
     "text": [
      "Original DataFrame:\n",
      "   Customer_ID Favorite_Fruit\n",
      "0            1          Apple\n",
      "1            2         Banana\n",
      "2            3         Orange\n",
      "3            4          Apple\n",
      "\n",
      "One-Hot Encoded DataFrame:\n"
     ]
    },
    {
     "data": {
      "text/html": [
       "<div>\n",
       "<style scoped>\n",
       "    .dataframe tbody tr th:only-of-type {\n",
       "        vertical-align: middle;\n",
       "    }\n",
       "\n",
       "    .dataframe tbody tr th {\n",
       "        vertical-align: top;\n",
       "    }\n",
       "\n",
       "    .dataframe thead th {\n",
       "        text-align: right;\n",
       "    }\n",
       "</style>\n",
       "<table border=\"1\" class=\"dataframe\">\n",
       "  <thead>\n",
       "    <tr style=\"text-align: right;\">\n",
       "      <th></th>\n",
       "      <th>Customer_ID</th>\n",
       "      <th>Favorite_Fruit</th>\n",
       "      <th>Favorite_Fruit_Apple</th>\n",
       "      <th>Favorite_Fruit_Banana</th>\n",
       "      <th>Favorite_Fruit_Orange</th>\n",
       "    </tr>\n",
       "  </thead>\n",
       "  <tbody>\n",
       "    <tr>\n",
       "      <th>0</th>\n",
       "      <td>1</td>\n",
       "      <td>Apple</td>\n",
       "      <td>1.0</td>\n",
       "      <td>0.0</td>\n",
       "      <td>0.0</td>\n",
       "    </tr>\n",
       "    <tr>\n",
       "      <th>1</th>\n",
       "      <td>2</td>\n",
       "      <td>Banana</td>\n",
       "      <td>0.0</td>\n",
       "      <td>1.0</td>\n",
       "      <td>0.0</td>\n",
       "    </tr>\n",
       "    <tr>\n",
       "      <th>2</th>\n",
       "      <td>3</td>\n",
       "      <td>Orange</td>\n",
       "      <td>0.0</td>\n",
       "      <td>0.0</td>\n",
       "      <td>1.0</td>\n",
       "    </tr>\n",
       "    <tr>\n",
       "      <th>3</th>\n",
       "      <td>4</td>\n",
       "      <td>Apple</td>\n",
       "      <td>1.0</td>\n",
       "      <td>0.0</td>\n",
       "      <td>0.0</td>\n",
       "    </tr>\n",
       "  </tbody>\n",
       "</table>\n",
       "</div>"
      ],
      "text/plain": [
       "   Customer_ID Favorite_Fruit  Favorite_Fruit_Apple  Favorite_Fruit_Banana  \\\n",
       "0            1          Apple                   1.0                    0.0   \n",
       "1            2         Banana                   0.0                    1.0   \n",
       "2            3         Orange                   0.0                    0.0   \n",
       "3            4          Apple                   1.0                    0.0   \n",
       "\n",
       "   Favorite_Fruit_Orange  \n",
       "0                    0.0  \n",
       "1                    0.0  \n",
       "2                    1.0  \n",
       "3                    0.0  "
      ]
     },
     "execution_count": 1,
     "metadata": {},
     "output_type": "execute_result"
    }
   ],
   "source": [
    "##Real world scenario\n",
    "\n",
    "import pandas as pd\n",
    "from sklearn.preprocessing import OneHotEncoder\n",
    "\n",
    "# Sample data\n",
    "data = {\n",
    "    'Customer_ID': [1, 2, 3, 4],\n",
    "    'Favorite_Fruit': ['Apple', 'Banana', 'Orange', 'Apple']\n",
    "}\n",
    "\n",
    "# Create DataFrame\n",
    "df = pd.DataFrame(data)\n",
    "\n",
    "# Display original DataFrame\n",
    "print(\"Original DataFrame:\")\n",
    "print(df)\n",
    "\n",
    "# Initialize OneHotEncoder\n",
    "encoder = OneHotEncoder()\n",
    "\n",
    "# Fit and transform the data\n",
    "encoded_fruits = encoder.fit_transform(df[['Favorite_Fruit']])\n",
    "\n",
    "# Create a DataFrame with the encoded data\n",
    "encoded_df = pd.DataFrame(encoded_fruits.toarray(), columns=encoder.get_feature_names_out(['Favorite_Fruit']))\n",
    "\n",
    "# Concatenate the original Customer_ID with the encoded features\n",
    "result_df = pd.concat([df, encoded_df], axis=1)\n",
    "\n",
    "# Display the encoded DataFrame\n",
    "print(\"\\nOne-Hot Encoded DataFrame:\")\n",
    "result_df"
   ]
  },
  {
   "cell_type": "markdown",
   "id": "fec4794e-0cb6-4b94-8713-e3ca48d64b84",
   "metadata": {},
   "source": [
    "Q3. In what situations is nominal encoding preferred over one-hot encoding? Provide a practical example."
   ]
  },
  {
   "cell_type": "markdown",
   "id": "3df971b4-df81-48da-9875-cfb46f9b58f1",
   "metadata": {},
   "source": [
    "Ans:  \n",
    "\n",
    "**Nominal encoding**, particularly when referring to label encoding, is preferred over one-hot encoding in specific situations where the benefits of a simpler encoding method outweigh those of creating multiple binary features. Here are some scenarios where nominal encoding might be more appropriate, along with a practical example:  \n",
    "  \n",
    "**Situations Where Nominal Encoding is Preferred::**  \n",
    "1. High Cardinality Features:  \n",
    "Description: When a categorical feature has a very large number of unique categories, one-hot encoding can result in a large number of binary columns, which can lead to high-dimensional data and increased computational complexity.  \n",
    "Example: Features like ZIP codes, user IDs, or product SKUs, which can have thousands or even millions of unique values.  \n",
    "2. Tree-Based Models:  \n",
    "Description: Some machine learning algorithms, such as decision trees and random forests, can handle categorical features directly and do not require one-hot encoding. These models can benefit from label encoding, as they can use the encoded integer values to make splits based on the integer values.  \n",
    "Example: A decision tree might not need one-hot encoding for features like \"Country\" or \"Product Category\" and can work with label-encoded values.  \n",
    "3. Low-Dimensional Categorical Data:  \n",
    "Description: When the categorical feature has only a few unique values and is not likely to cause issues with multicollinearity or dimensionality.  \n",
    "Example: Binary features or features with a small number of distinct categories, such as \"Gender\" with values \"Male\" and \"Female\".  \n",
    "4. Ordinal Data (when not using explicit ordinal encoding):  \n",
    "Description: If the categorical feature is ordinal (i.e., the categories have a meaningful order), label encoding might be used as it can implicitly capture the order, though explicit ordinal encoding is typically preferred.  \n",
    "Example: A feature like \"Education Level\" with categories \"High School\", \"Bachelor's\", \"Master's\", and \"PhD\" might use label encoding if the model benefits from understanding the order.\n",
    "\n",
    "Scenario: Suppose you are working on a machine learning model to predict customer churn, and you have a categorical feature Customer_Type with a large number of unique values, such as different customer IDs.  "
   ]
  },
  {
   "cell_type": "code",
   "execution_count": 2,
   "id": "be79eb52-5bdd-4219-bc8c-12a8f96421a1",
   "metadata": {},
   "outputs": [
    {
     "name": "stdout",
     "output_type": "stream",
     "text": [
      "Label Encoded DataFrame:\n",
      "   Customer_ID Customer_Type  Customer_Type_Encoded\n",
      "0          101          A123                      0\n",
      "1          102          B456                      1\n",
      "2          103          C789                      2\n",
      "3          104          A123                      0\n",
      "4          105          B456                      1\n"
     ]
    }
   ],
   "source": [
    "import pandas as pd\n",
    "from sklearn.preprocessing import LabelEncoder\n",
    "\n",
    "# Sample data with high cardinality\n",
    "data = {\n",
    "    'Customer_ID': [101, 102, 103, 104, 105],\n",
    "    'Customer_Type': ['A123', 'B456', 'C789', 'A123', 'B456']\n",
    "}\n",
    "\n",
    "# Create DataFrame\n",
    "df = pd.DataFrame(data)\n",
    "\n",
    "# Initialize LabelEncoder\n",
    "label_encoder = LabelEncoder()\n",
    "\n",
    "# Fit and transform the data\n",
    "df['Customer_Type_Encoded'] = label_encoder.fit_transform(df['Customer_Type'])\n",
    "\n",
    "# Display the encoded DataFrame\n",
    "print(\"Label Encoded DataFrame:\")\n",
    "print(df)\n"
   ]
  },
  {
   "cell_type": "markdown",
   "id": "db044795-300b-41e0-ba73-7f9516fac89b",
   "metadata": {},
   "source": [
    "Q4. Suppose you have a dataset containing categorical data with 5 unique values. Which encoding\n",
    "technique would you use to transform this data into a format suitable for machine learning algorithms?\n",
    "Explain why you made this choice."
   ]
  },
  {
   "cell_type": "markdown",
   "id": "9e3aa6e3-2c93-4c86-9c79-8674025dab67",
   "metadata": {},
   "source": [
    "Ans:  \n",
    "\n",
    "When dealing with categorical data that contains 5 unique values, the choice of encoding technique depends on several factors, including the nature of the data (nominal vs. ordinal), the machine learning algorithm being used, and the potential impact on model performance and computational efficiency.\n",
    "  \n",
    "Here are some common encoding techniques that can be used for this problem:  \n",
    "1. One-Hot Encoding  \n",
    "2. Label Encoding  \n",
    "  \n",
    "Given that the dataset contains only 5 unique values, One-Hot Encoding is generally the most straightforward and widely applicable choice, especially if the categorical data is nominal (no inherent order). Here’s why:  \n",
    "One Hot Encoding:  Converts each category into a binary vector. For 5 unique values, this will create 5 new binary features, one for each category.\n",
    "Use Case: Ideal for nominal data (categories with no intrinsic order) when you need to avoid introducing any ordinal relationships and ensure the algorithm can interpret the data correctly.\n",
    "reasons:  \n",
    "1. Avoids Ordinal Assumptions: One-hot encoding prevents the algorithm from assuming any ordinal relationship between the categories, which is crucial if the data is nominal.    \n",
    "2. Compatibility: Most machine learning algorithms, particularly linear models and neural networks, work well with one-hot encoded data and interpret the binary vectors correctly.    \n",
    "  \n",
    "Pros:  \n",
    "Avoids introducing ordinal relationships.  \n",
    "Suitable for algorithms that do not handle categorical variables natively.  \n",
    "Cons:  \n",
    "Increases dimensionality, which can impact performance and memory usage.  \n",
    "Can lead to a sparse matrix, which might be inefficient for some algorithms.  \n"
   ]
  },
  {
   "cell_type": "markdown",
   "id": "3c703ca4-c85c-4b0c-aa49-e60d928d843e",
   "metadata": {},
   "source": [
    "Q5. In a machine learning project, you have a dataset with 1000 rows and 5 columns. Two of the columns\n",
    "are categorical, and the remaining three columns are numerical. If you were to use nominal encoding to\n",
    "transform the categorical data, how many new columns would be created? Show your calculations."
   ]
  },
  {
   "cell_type": "markdown",
   "id": "c7f79c7c-d18d-4991-97f6-dd9a7569f380",
   "metadata": {},
   "source": [
    "Ans:  \n",
    "The number of columns depend on the type of nominial encoding performed.  \n",
    "if cardenality of the categories in the 2 categorical columns is very high we can perform Label encoding which will result in same number of columns ,i.e. 5 columns.  \n",
    "if cardenality of categories is not that high we can perform One hot encoding \n",
    "Example Calculation:\n",
    "Let’s assume the following for the two categorical columns:\n",
    "  \n",
    "Categorical Column 1 has x unique values.  \n",
    "Categorical Column 2 has y unique values.  \n",
    "Calculation for Categorical Column 1:  \n",
    "Original Column: 1 column.  \n",
    "After One-Hot Encoding: Creates x new binary columns (one for each unique value).    \n",
    "Calculation for Categorical Column 2:  \n",
    "Original Column: 1 column.  \n",
    "After One-Hot Encoding: Creates y new binary columns (one for each unique value).    \n",
    "Total Number of New Columns = x + y  \n",
    "Total Number of Columns in dataframe or table = x + y + 3(these are 3 numerical columns )"
   ]
  },
  {
   "cell_type": "markdown",
   "id": "78eec9eb-aca7-4d91-9a33-7f7a05831e2c",
   "metadata": {},
   "source": [
    "Q6. You are working with a dataset containing information about different types of animals, including their\n",
    "species, habitat, and diet. Which encoding technique would you use to transform the categorical data into\n",
    "a format suitable for machine learning algorithms? Justify your answer."
   ]
  },
  {
   "cell_type": "markdown",
   "id": "78977acd-7727-4ef0-b978-a59a290d31a0",
   "metadata": {},
   "source": [
    "Ans:  \n",
    "\n",
    "When working with a dataset containing information about different types of animals, including categorical features like species, habitat, and diet, the choice of encoding technique depends on the nature of the categorical data and the requirements of the machine learning algorithms you plan to use. Here’s a breakdown of the encoding techniques and how they might apply to each feature in this context:  \n",
    "  \n",
    "1. One-Hot Encoding:  \n",
    "Use Case:  \n",
    "Nominal Data: Suitable for categorical features with no intrinsic order, where each category is distinct and does not have a meaningful ranking.\n",
    "Example:  \n",
    "Species: Different species of animals (e.g., 'Lion', 'Tiger', 'Bear') typically do not have a natural order.  \n",
    "Habitat: Different types of habitats (e.g., 'Forest', 'Desert', 'Ocean') also have no intrinsic order.  \n",
    "Diet: Different diets (e.g., 'Carnivore', 'Herbivore', 'Omnivore') are categorical with no natural ranking.  \n",
    "Justification:  \n",
    "Avoids Ordinal Assumptions: One-hot encoding prevents any unintended ordinal relationships. It represents each category with a separate binary feature, which is ideal for nominal data.  \n",
    "Compatibility: It works well with algorithms that require numerical input, such as linear models and neural networks.\n",
    "\n",
    "2. Label Encoding:  \n",
    "Use Case:  \n",
    "Ordinal Data: Suitable for categorical features where there is a meaningful order or ranking among the categories.  \n",
    "Example:\n",
    "If Diet had categories like 'Carnivore', 'Omnivore', 'Herbivore' and there was a meaningful ranking in some context like food pyramid, label encoding might be considered. However, in most cases, diet is considered nominal as the categories do not have an inherent order.    \n",
    "Justification:  \n",
    "Label encoding is not typically used for nominal data as it imposes an ordinal relationship, which might mislead some machine learning algorithms into assuming a ranking or order where none exists.  "
   ]
  },
  {
   "cell_type": "markdown",
   "id": "1b967e67-557c-447c-9480-b81818254e5b",
   "metadata": {},
   "source": [
    "Q7.You are working on a project that involves predicting customer churn for a telecommunications\n",
    "company. You have a dataset with 5 features, including the customer's gender, age, contract type,\n",
    "monthly charges, and tenure. Which encoding technique(s) would you use to transform the categorical\n",
    "data into numerical data? Provide a step-by-step explanation of how you would implement the encoding."
   ]
  },
  {
   "cell_type": "markdown",
   "id": "efa08bd6-7b67-4527-8b5f-686b3adc23ea",
   "metadata": {},
   "source": [
    "Ans:    \n",
    "\n",
    "To predict customer churn, you need to transform categorical data into numerical data so that it can be used effectively by machine learning algorithms. In your dataset, you have the following features:  \n",
    "1. Gender (Categorical)\n",
    "2. Age (Numerical)\n",
    "3. Contract Type (Categorical)\n",
    "4. Monthly Charges (Numerical)\n",
    "5. Tenure (Numerical)\n",
    "\n",
    "We have 2 categorical features in the dataset, gender and contract type.We can perform any one of the two, Label encoding or One Hot Encoding for Gender column.One Hot Encoding have to be used for Contract type featue. We can not use Ordinal Encoding as both of the features do not have intrinsic rank or order between their categories.  "
   ]
  },
  {
   "cell_type": "markdown",
   "id": "03b4c8be-b75f-4688-aa6f-6fb8b19c7eb1",
   "metadata": {},
   "source": [
    "Steps:"
   ]
  },
  {
   "cell_type": "code",
   "execution_count": 3,
   "id": "973fcc97-8b57-4199-9cfb-42aca9adb035",
   "metadata": {},
   "outputs": [
    {
     "name": "stdout",
     "output_type": "stream",
     "text": [
      "Final Encoded DataFrame:\n"
     ]
    },
    {
     "data": {
      "text/html": [
       "<div>\n",
       "<style scoped>\n",
       "    .dataframe tbody tr th:only-of-type {\n",
       "        vertical-align: middle;\n",
       "    }\n",
       "\n",
       "    .dataframe tbody tr th {\n",
       "        vertical-align: top;\n",
       "    }\n",
       "\n",
       "    .dataframe thead th {\n",
       "        text-align: right;\n",
       "    }\n",
       "</style>\n",
       "<table border=\"1\" class=\"dataframe\">\n",
       "  <thead>\n",
       "    <tr style=\"text-align: right;\">\n",
       "      <th></th>\n",
       "      <th>Age</th>\n",
       "      <th>Monthly Charges</th>\n",
       "      <th>Tenure</th>\n",
       "      <th>Gender_Female</th>\n",
       "      <th>Gender_Male</th>\n",
       "      <th>Contract Type_Month-to-month</th>\n",
       "      <th>Contract Type_One year</th>\n",
       "      <th>Contract Type_Two year</th>\n",
       "    </tr>\n",
       "  </thead>\n",
       "  <tbody>\n",
       "    <tr>\n",
       "      <th>0</th>\n",
       "      <td>25</td>\n",
       "      <td>70.0</td>\n",
       "      <td>12</td>\n",
       "      <td>0.0</td>\n",
       "      <td>1.0</td>\n",
       "      <td>1.0</td>\n",
       "      <td>0.0</td>\n",
       "      <td>0.0</td>\n",
       "    </tr>\n",
       "    <tr>\n",
       "      <th>1</th>\n",
       "      <td>34</td>\n",
       "      <td>85.5</td>\n",
       "      <td>24</td>\n",
       "      <td>1.0</td>\n",
       "      <td>0.0</td>\n",
       "      <td>0.0</td>\n",
       "      <td>1.0</td>\n",
       "      <td>0.0</td>\n",
       "    </tr>\n",
       "    <tr>\n",
       "      <th>2</th>\n",
       "      <td>45</td>\n",
       "      <td>90.0</td>\n",
       "      <td>36</td>\n",
       "      <td>1.0</td>\n",
       "      <td>0.0</td>\n",
       "      <td>0.0</td>\n",
       "      <td>0.0</td>\n",
       "      <td>1.0</td>\n",
       "    </tr>\n",
       "    <tr>\n",
       "      <th>3</th>\n",
       "      <td>29</td>\n",
       "      <td>60.0</td>\n",
       "      <td>8</td>\n",
       "      <td>0.0</td>\n",
       "      <td>1.0</td>\n",
       "      <td>1.0</td>\n",
       "      <td>0.0</td>\n",
       "      <td>0.0</td>\n",
       "    </tr>\n",
       "  </tbody>\n",
       "</table>\n",
       "</div>"
      ],
      "text/plain": [
       "   Age  Monthly Charges  Tenure  Gender_Female  Gender_Male  \\\n",
       "0   25             70.0      12            0.0          1.0   \n",
       "1   34             85.5      24            1.0          0.0   \n",
       "2   45             90.0      36            1.0          0.0   \n",
       "3   29             60.0       8            0.0          1.0   \n",
       "\n",
       "   Contract Type_Month-to-month  Contract Type_One year  \\\n",
       "0                           1.0                     0.0   \n",
       "1                           0.0                     1.0   \n",
       "2                           0.0                     0.0   \n",
       "3                           1.0                     0.0   \n",
       "\n",
       "   Contract Type_Two year  \n",
       "0                     0.0  \n",
       "1                     0.0  \n",
       "2                     1.0  \n",
       "3                     0.0  "
      ]
     },
     "execution_count": 3,
     "metadata": {},
     "output_type": "execute_result"
    }
   ],
   "source": [
    "import pandas as pd\n",
    "from sklearn.preprocessing import OneHotEncoder\n",
    "\n",
    "data = {\n",
    "    'Gender': ['Male', 'Female', 'Female', 'Male'],\n",
    "    'Age': [25, 34, 45, 29],\n",
    "    'Contract Type': ['Month-to-month', 'One year', 'Two year', 'Month-to-month'],\n",
    "    'Monthly Charges': [70.0, 85.5, 90.0, 60.0],\n",
    "    'Tenure': [12, 24, 36, 8]\n",
    "}\n",
    "\n",
    "df = pd.DataFrame(data)\n",
    "##initialize the encoder\n",
    "encoder = OneHotEncoder()\n",
    "\n",
    "categorical_features = ['Gender', 'Contract Type']\n",
    "encoded_data = encoder.fit_transform(df[categorical_features])\n",
    "\n",
    "encoded_df = pd.DataFrame(encoded_data.toarray(), columns=encoder.get_feature_names_out(categorical_features))\n",
    "\n",
    "df_numerical = df[['Age', 'Monthly Charges', 'Tenure']]\n",
    "final_df = pd.concat([df_numerical, encoded_df], axis=1)\n",
    "\n",
    "print(\"Final Encoded DataFrame:\")\n",
    "final_df"
   ]
  },
  {
   "cell_type": "code",
   "execution_count": null,
   "id": "92708faf-fb41-4363-b777-7b8a9adedfc2",
   "metadata": {},
   "outputs": [],
   "source": []
  }
 ],
 "metadata": {
  "kernelspec": {
   "display_name": "Python 3 (ipykernel)",
   "language": "python",
   "name": "python3"
  },
  "language_info": {
   "codemirror_mode": {
    "name": "ipython",
    "version": 3
   },
   "file_extension": ".py",
   "mimetype": "text/x-python",
   "name": "python",
   "nbconvert_exporter": "python",
   "pygments_lexer": "ipython3",
   "version": "3.9.18"
  }
 },
 "nbformat": 4,
 "nbformat_minor": 5
}
