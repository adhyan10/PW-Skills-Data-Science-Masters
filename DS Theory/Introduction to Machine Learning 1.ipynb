{
 "cells": [
  {
   "cell_type": "markdown",
   "id": "b98d61fb",
   "metadata": {},
   "source": [
    "## Introduction to Machine Learning 1"
   ]
  },
  {
   "cell_type": "markdown",
   "id": "e133bdc0",
   "metadata": {},
   "source": [
    "#### Q1. Explain the following with an example:"
   ]
  },
  {
   "cell_type": "markdown",
   "id": "82bc9810",
   "metadata": {},
   "source": [
    "1. **Atrificial Intelligence:**\n",
    "\n",
    "Artificial Intelligence (AI) refers to the simulation of human intelligence in machines, enabling them to perform tasks that typically require human intelligence. AI systems are designed to analyze data, learn from patterns, make decisions, and solve problems in a way that mimics human cognitive abilities.\n",
    "  \n",
    "One example of AI is the application of computer vision in autonomous vehicles. Autonomous vehicles use a variety of sensors, such as cameras and radar to perceive and understand their surroundings. Through AI algorithms, these vehicles can analyze and interpret the data collected by the sensors to recognize objects like pedestrians, traffic signs, and other vehicles."
   ]
  },
  {
   "cell_type": "markdown",
   "id": "9a96cd5f",
   "metadata": {},
   "source": [
    "2. **Machine Learning:**\n",
    "\n",
    "Machine Learning (ML) is a subset of artificial intelligence that focuses on the development of algorithms and statistical models that enable computers to learn and make predictions or decisions without being explicitly programmed. ML algorithms learn from data, identify patterns, and make informed predictions or decisions based on that learning.\n",
    "  \n",
    "An example of machine learning is email spam filtering. Email providers use ML algorithms to automatically classify incoming emails as either spam or legitimate (ham). The ML model is trained on a large dataset of emails that are labeled as spam or ham."
   ]
  },
  {
   "cell_type": "markdown",
   "id": "5602bbd7",
   "metadata": {},
   "source": [
    "3. **Deep Learning:**\n",
    "\n",
    "Deep Learning is a subset of machine learning that focuses on training artificial neural networks with multiple layers (hence the term \"deep\") to learn and make predictions or decisions. Deep learning models are designed to automatically learn and extract hierarchical representations of data, enabling them to capture complex patterns and relationships.We try to mimic the structure of a human brain in the deep learning models.\n",
    "    \n",
    "An example of deep learning is image recognition. Deep learning models called convolutional neural networks (CNNs) have revolutionized the field of computer vision. CNNs are capable of analyzing and understanding images by learning hierarchical representations of visual features."
   ]
  },
  {
   "cell_type": "markdown",
   "id": "29a65495",
   "metadata": {},
   "source": [
    "#### Q2. What is supervised learning? List some examples of supervised learning."
   ]
  },
  {
   "cell_type": "markdown",
   "id": "952ea760",
   "metadata": {},
   "source": [
    "**Ans:**  \n",
    "Supervised learning is a type of machine learning where an algorithm learns from labeled training data to make predictions or decisions. In supervised learning, the algorithm is provided with input data and corresponding desired output labels, allowing it to learn the mapping between the inputs and outputs.\n",
    "  \n",
    "The goal of supervised learning is to train a model that can accurately predict or classify new, unseen instances based on the patterns it has learned from the labeled training data.\n",
    "  \n",
    "Here are some examples of supervised learning:  \n",
    "1. Email Spam Detection\n",
    "2. Handwritten Digit Recognition\n",
    "3. Credit Risk Assessment\n",
    "4. Medical Diagnosis\n",
    "5. Sentiment Analysis\n",
    "6. Object Detection"
   ]
  },
  {
   "cell_type": "markdown",
   "id": "85eabf19",
   "metadata": {},
   "source": [
    "#### Q3. What is unsupervised learning? List some examples of unsupervised learning."
   ]
  },
  {
   "cell_type": "markdown",
   "id": "b4650fea",
   "metadata": {},
   "source": [
    "**Ans:**    \n",
    "Unsupervised learning is a type of machine learning where an algorithm learns from unlabeled data without any specific guidance or predefined output labels. In unsupervised learning, the algorithm explores the inherent structure or patterns within the data to uncover insights or representations.\n",
    "  \n",
    "The goal of unsupervised learning is to discover hidden patterns, relationships, or groupings in the data, which can be useful for tasks such as data exploration, clustering, or dimensionality reduction.\n",
    "  \n",
    "Here are some examples of unsupervised learning:\n",
    "1. Clustering groups similar instances together based on their intrinsic similarities or distances in the feature space. For example, in customer segmentation\n",
    "2. Anomaly Detection: Unsupervised learning can be used to detect anomalies or outliers in a dataset. By learning the normal \n",
    "3. Dimensionality Reduction: Unsupervised learning techniques like Principal Component Analysis (PCA) or t-SNE (t-Distributed Stochastic Neighbor Embedding) can reduce the dimensionality of high-dimensional data while preserving the essential information. This is useful for visualizing complex data, feature extraction, or reducing computational complexity.\n",
    "4. Market Basket Analysis: Unsupervised learning algorithms can analyze transactional data, such as retail purchases, to uncover associations or relationships between different items. This information can be used for recommendations, cross-selling, or understanding customer behavior.\n",
    "5. Generative Models: Unsupervised learning can be used to learn the underlying probability distribution of the data. Generative models like Variational Autoencoders (VAEs) or Generative Adversarial Networks (GANs) can generate new, synthetic data samples that resemble the original data distribution. This is useful for tasks like image synthesis, data augmentation, or generating realistic text."
   ]
  },
  {
   "cell_type": "markdown",
   "id": "c2c7378a",
   "metadata": {},
   "source": [
    "#### Q4. What is the difference between AI, ML, DL, and DS?"
   ]
  },
  {
   "cell_type": "markdown",
   "id": "5e515304",
   "metadata": {},
   "source": [
    "**Ans:**    \n",
    "AI (Artificial Intelligence), ML (Machine Learning), DL (Deep Learning), and DS (Data Science) are related but distinct terms in the field of technology and data analysis. Here's a breakdown of their differences:\n",
    "    \n",
    "**Artificial Intelligence (AI)**: AI is a broad field that focuses on creating intelligent machines capable of simulating human intelligence and performing tasks that typically require human intelligence. It encompasses various techniques, approaches, and algorithms that enable machines to perceive, reason, learn, and make decisions. AI can be further categorized into narrow AI (focused on specific tasks) and general AI (emulating human-like intelligence across multiple domains).\n",
    "    \n",
    "**Machine Learning (ML)**: ML is a subset of AI that involves the development of algorithms and statistical models that enable computers to learn from data and make predictions or decisions without being explicitly programmed. ML algorithms learn patterns and relationships in the data and use them to make informed predictions or take actions. It encompasses both supervised learning (learning from labeled data) and unsupervised learning (learning from unlabeled data).\n",
    "    \n",
    "**Deep Learning (DL)**: DL is a subset of ML that focuses on training artificial neural networks with multiple layers (deep networks) to learn and extract hierarchical representations of data. DL models, often based on neural networks called deep neural networks, can automatically learn and represent complex patterns in data. DL has gained significant attention due to its exceptional performance in tasks such as image recognition, natural language processing, and speech recognition.\n",
    "      \n",
    "**Data Science (DS)**: Data Sciecne in an intersection of all the three above mentioned , AI, ML and deep learning.DS is a multidisciplinary field that combines techniques from mathematics, statistics, computer science, and domain knowledge to extract insights and knowledge from data. It encompasses various processes, including data collection, cleaning, analysis, visualization, and interpretation. Data scientists use techniques from ML, statistical analysis, and other approaches to gain meaningful insights from data and inform decision-making.It can be considered as the art of telling stories through data.\n"
   ]
  },
  {
   "cell_type": "markdown",
   "id": "da0de336",
   "metadata": {},
   "source": [
    "#### Q5. What are the main differences between supervised, unsupervised, and semi-supervised learning?"
   ]
  },
  {
   "cell_type": "markdown",
   "id": "2c8e855c",
   "metadata": {},
   "source": [
    "**Ans:**  \n",
    "The main differences between supervised, unsupervised, and semi-supervised learning lie in the type of data they use and the presence or absence of labeled examples. Here's a breakdown of their key characteristics:\n",
    "\n",
    "Supervised models make use of labeled data,i.e. it contains known outputs and the model while training tries to map an input to some output.\n",
    "    \n",
    "In Unsupervised learning we don't have labeled data,here we try to find the hidden patterns within the data to perform tasks like clustering.\n",
    "  \n",
    "On the other hand Semi-supervised models make use of both labeled as well as unlabeled data.The goal is to use the labeled data to guide the learning process and improve the algorithm's performance on the unlabeled data.\n"
   ]
  },
  {
   "cell_type": "markdown",
   "id": "fad0dbb7",
   "metadata": {},
   "source": [
    "#### Q6. What is train, test and validation split? Explain the importance of each term."
   ]
  },
  {
   "cell_type": "markdown",
   "id": "e9943a8e",
   "metadata": {},
   "source": [
    "**Ans:**\n",
    "\n",
    "In machine learning, the train, test, and validation split refers to the division of a dataset into separate subsets for training, evaluating, and fine-tuning machine learning models. Each subset serves a specific purpose and plays a crucial role in developing and assessing the model. Here's an explanation of each term and its importance:\n",
    "  \n",
    "**Training Set:** The training set is the largest subset of the dataset, typically used to train the machine learning model.  \n",
    "**Validation Set:** The validation set is a smaller subset of the dataset that is used to fine-tune the model during training.  \n",
    "**Test Set:** The test set is a separate subset of the dataset that is used to evaluate the final performance of the trained model.\n",
    "\n"
   ]
  },
  {
   "cell_type": "markdown",
   "id": "96cffe86",
   "metadata": {},
   "source": [
    "#### Q7. How can unsupervised learning be used in anomaly detection?"
   ]
  },
  {
   "cell_type": "markdown",
   "id": "efe7667b",
   "metadata": {},
   "source": [
    "**Ans:**  \n",
    "Unsupervised learning techniques can be effectively utilized in anomaly detection tasks. Anomaly detection aims to identify instances in a dataset that deviate significantly from the norm or exhibit unusual behavior. Here's how unsupervised learning can be used in anomaly detection:\n",
    "    \n",
    "Normal Behavior Modeling: Unsupervised learning algorithms can be used to model the normal behavior or patterns present in a dataset. By learning from unlabeled data, the algorithm captures the underlying structure and regularities of the majority class or normal instances. This learned representation becomes a reference for identifying deviations from normal behavior.\n",
    "    \n",
    "Density-Based Approaches: Unsupervised learning methods, such as clustering algorithms, can be employed to identify regions of high density in the data. Anomalies are then identified as instances that lie in regions of significantly lower density. This approach assumes that anomalies occur in sparse regions of the feature space and can be detected based on their relative isolation.\n",
    "    \n",
    "Reconstruction Error: Unsupervised learning techniques like Autoencoders can learn to reconstruct input data from compressed representations. During training, the model learns to reconstruct normal instances with minimal error. Anomalies, being different from normal patterns, result in higher reconstruction errors. By setting an appropriate threshold for the reconstruction error, anomalies can be detected as instances that exceed the threshold.\n",
    "    \n",
    "Outlier Detection: Unsupervised learning algorithms, such as One-Class SVM (Support Vector Machines) or Isolation Forest, are specifically designed for outlier detection. These algorithms learn the characteristics of normal instances during training and then identify instances that do not conform to those learned patterns as outliers. They work by constructing a decision boundary or isolation scores based on the properties of the majority class, effectively isolating anomalies.\n",
    "    \n",
    "Clustering-Based Approaches: Unsupervised clustering algorithms can group similar instances together based on their intrinsic similarities. Anomalies, being dissimilar to the majority class, may not belong to any cluster or form small, distinct clusters. By identifying instances that do not belong to any cluster or are assigned to small clusters, anomalies can be detected."
   ]
  },
  {
   "cell_type": "markdown",
   "id": "d158b3e9",
   "metadata": {},
   "source": [
    "#### Q8. List down some commonly used supervised learning algorithms and unsupervised learning algorithms."
   ]
  },
  {
   "cell_type": "markdown",
   "id": "5c977271",
   "metadata": {},
   "source": [
    "**Ans:**      \n",
    "Following are the commonly used supervised and unsupervised learning algorithms:    \n",
    "  \n",
    "supervised learning algorithms:  \n",
    "1. Simple and Multiple linear Regression\n",
    "2. Logistic Regression\n",
    "3. Support Vector Machines\n",
    "4. Decision Trees and Random Forests\n",
    "5. Naive Bayes \n",
    "6. KNN (K nearest neighbours)\n",
    "  \n",
    "unsupervised learning algorithms:  \n",
    "1. K-means clustering\n",
    "2. Hierarichal clustering\n",
    "3. DBSCAN (Density-Based Spatial Clustering of Applications with Noise)\n",
    "4. PCA (Principal Component Analysis)\n",
    "5. t-SNE(t-Distributed Stochastic Neighbor Embedding)\n",
    "6. Autoencoders\n",
    "\n"
   ]
  },
  {
   "cell_type": "code",
   "execution_count": null,
   "id": "e060b1e7",
   "metadata": {},
   "outputs": [],
   "source": []
  }
 ],
 "metadata": {
  "kernelspec": {
   "display_name": "Python 3 (ipykernel)",
   "language": "python",
   "name": "python3"
  },
  "language_info": {
   "codemirror_mode": {
    "name": "ipython",
    "version": 3
   },
   "file_extension": ".py",
   "mimetype": "text/x-python",
   "name": "python",
   "nbconvert_exporter": "python",
   "pygments_lexer": "ipython3",
   "version": "3.9.13"
  }
 },
 "nbformat": 4,
 "nbformat_minor": 5
}
