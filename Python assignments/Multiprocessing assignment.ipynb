{
 "cells": [
  {
   "cell_type": "markdown",
   "id": "44fa87e0-378f-425e-83d8-40bcd15dd7b3",
   "metadata": {},
   "source": [
    "## MultiProcessing"
   ]
  },
  {
   "cell_type": "markdown",
   "id": "65fd3108-4685-4b04-8463-05071df6c4db",
   "metadata": {},
   "source": [
    "1. What is multiprocessing in python? Why is it useful? "
   ]
  },
  {
   "cell_type": "markdown",
   "id": "992cf383-3e2c-4fac-92f3-fd0f2efa0b6c",
   "metadata": {},
   "source": [
    "**Ans: Multiprocessing is the process of using the multiple processors or multi cores within a processor to execute multiple processes parallelly.This enables multitasking within the system.It also refers to the ability to perform multiple tasks/processes simultaneously using multiple processors or cores.** \n",
    "**Applications in a multiprocessing system are broken to smaller routines that run independently. The operating system allocates these threads to the processors improving performance of the system.**  \n",
    "**We need multiprocessing because performing multiple operations form a single processor becomes challenging. As the number of processes keeps increasing, the processor will have to halt the current process and move to the next, to keep them going. Thus, it will have to interrupt each task, thereby hampering the performance.**  \n",
    "**In python we can perform multiprocessing with the help of multiprocessing module.**"
   ]
  },
  {
   "cell_type": "markdown",
   "id": "b533fbde-5e9a-4a73-af9d-af5e7a0932ee",
   "metadata": {},
   "source": [
    "2. What are the differences between multiprocessing and multithreading?"
   ]
  },
  {
   "cell_type": "markdown",
   "id": "e1e2a6c0-668d-4ca7-be14-8c7a24eada3d",
   "metadata": {},
   "source": [
    "**Ans: The main difference between multiprocessing and multithreading is that in multiprocessing we execute multiple processes using multiple processors simultaneously to perform multitasking and create parallelism or break an application into smaller routines which are separately run on different  processors as separate processes.**  \n",
    "**On the other hand multithreading refers the use of threads(smallest computing unit in a process).In multithreading we perform a process by breaking it into multiple threads and executing this multiple threads simultaneously.**  \n",
    "\n",
    "**Other difference is that In Multiprocessing, every process owned a separate address space.And While in Multithreading, a common address space is shared by all the threads.**"
   ]
  },
  {
   "cell_type": "markdown",
   "id": "68dcac0c-3893-40e2-93e2-c9043786d8ba",
   "metadata": {},
   "source": [
    "3. Write a python code to create a process using the multiprocessing module."
   ]
  },
  {
   "cell_type": "code",
   "execution_count": 1,
   "id": "47024dcb-b77b-4ddc-a795-1625d90988a2",
   "metadata": {},
   "outputs": [
    {
     "name": "stdout",
     "output_type": "stream",
     "text": [
      "HELLO FRIEND\n"
     ]
    }
   ],
   "source": [
    "import multiprocessing\n",
    "\n",
    "def greetings(msg):\n",
    "    print(msg.upper())\n",
    "    \n",
    "if __name__ == \"__main__\":\n",
    "    m1 =multiprocessing.Process(target=greetings,args=(\"Hello Friend\",))\n",
    "    m1.start()\n",
    "    m1.join()"
   ]
  },
  {
   "cell_type": "markdown",
   "id": "e9e30961-4361-4be3-9808-aec6e11918e8",
   "metadata": {},
   "source": [
    "4. What is a multiprocessing pool in python? Why is it used?"
   ]
  },
  {
   "cell_type": "markdown",
   "id": "c77a2294-7f99-4614-82a3-49ad9745b297",
   "metadata": {},
   "source": [
    "**Ans: Pool in multiprocessing allows to create a pool of worker processes .So whatever processes is to be executed, it will allocate specified numbers of processors to execute it/them.This execution is done parallelly and at the end it will accumulate these results as a single output.The pool can provide a generic interface for executing ad hoc tasks with a variable number of arguments, much like the target property on the Process object.**"
   ]
  },
  {
   "cell_type": "markdown",
   "id": "a948b155-687a-4b61-b88e-92984aa659e6",
   "metadata": {},
   "source": [
    "5.  How can we create a pool of worker processes in python using the multiprocessing module?"
   ]
  },
  {
   "cell_type": "markdown",
   "id": "1567f5c9-3217-4a52-953c-4f8ed66c5067",
   "metadata": {},
   "source": [
    "**Ans: In python's multiprocessing  module, we use the multiprocessing.Pool() class to create pool of worker processes.**"
   ]
  },
  {
   "cell_type": "code",
   "execution_count": 2,
   "id": "f326201d-2c1d-4fb1-8cf1-31a0329e68fa",
   "metadata": {},
   "outputs": [
    {
     "name": "stdout",
     "output_type": "stream",
     "text": [
      "[0, 1, 8, 27, 64, 125, 216, 343, 512, 729, 1000, 1331, 1728, 2197, 2744, 3375, 4096, 4913, 5832, 6859, 8000]\n"
     ]
    }
   ],
   "source": [
    "#example of Pool\n",
    "def cube(x):\n",
    "    return x**3\n",
    "\n",
    "if __name__ == \"__main__\":\n",
    "    with multiprocessing.Pool(6) as pool:\n",
    "        out = pool.map(cube,list(range(21)))\n",
    "        print(out)"
   ]
  },
  {
   "cell_type": "markdown",
   "id": "19e73b6a-4198-4e84-9747-57ab8dfa1aec",
   "metadata": {},
   "source": [
    "In the above code we used 6 worker processes in the pool to map the function of cube on different values in a list."
   ]
  },
  {
   "cell_type": "markdown",
   "id": "baf7a5f6-6e95-4887-b38d-5587d701cb88",
   "metadata": {},
   "source": [
    "6.  Write a python program to create 4 processes, each process should print a different number using the multiprocessing module in python."
   ]
  },
  {
   "cell_type": "code",
   "execution_count": 3,
   "id": "c15d2ce2-c17a-4f5d-a864-4d1fadaf8b34",
   "metadata": {},
   "outputs": [],
   "source": [
    "import multiprocessing\n",
    "import time\n",
    "\n",
    "def cube_root(num):\n",
    "    print(num ** (1/3))\n",
    "    time.sleep(2)\n",
    "\n"
   ]
  },
  {
   "cell_type": "code",
   "execution_count": 4,
   "id": "f9a59d99-0258-4337-90a5-29c926ab57ef",
   "metadata": {},
   "outputs": [
    {
     "name": "stdout",
     "output_type": "stream",
     "text": [
      "Process-8\n",
      "2.0\n",
      "Process-9\n",
      "3.0\n",
      "Process-10\n",
      "3.9999999999999996\n",
      "Process-11\n",
      "4.999999999999999\n"
     ]
    }
   ],
   "source": [
    "if __name__ == \"__main__\":\n",
    "    processes = [multiprocessing.Process(target=cube_root,args=(i,)) for i in [8,27,64,125]]\n",
    "    for p in processes:\n",
    "        print(p.name)\n",
    "        p.start()\n",
    "        p.join()\n",
    "    "
   ]
  },
  {
   "cell_type": "code",
   "execution_count": 5,
   "id": "0b9d0125-aa4a-4e62-9717-3af076d12d6d",
   "metadata": {},
   "outputs": [
    {
     "name": "stdout",
     "output_type": "stream",
     "text": [
      "Process-12\n",
      "Process-13\n",
      "4\n",
      "Process-14\n",
      "2\n",
      "Process-15\n",
      "100\n",
      "9.0\n"
     ]
    }
   ],
   "source": [
    "#example 2\n",
    "\n",
    "def add(n1,n2):\n",
    "    print(n1 + n2)\n",
    "    time.sleep(5)\n",
    "def sub(n1,n2):\n",
    "    print(n1 - n2)\n",
    "    time.sleep(4)\n",
    "def mult(n1,n2):\n",
    "    print(n1 * n2)\n",
    "    time.sleep(3)\n",
    "def div(n1,n2):\n",
    "    print(n1/n2)\n",
    "    time.sleep(2)\n",
    "    \n",
    "    \n",
    "if __name__ == \"__main__\":\n",
    "    m1 = multiprocessing.Process(target=add,args=(2,2))\n",
    "    print(m1.name)\n",
    "    m1.start()\n",
    "    m2 = multiprocessing.Process(target=sub,args=(3,1))\n",
    "    print(m2.name)\n",
    "    m2.start()\n",
    "    m3 = multiprocessing.Process(target=mult,args=(10,10))\n",
    "    print(m3.name)\n",
    "    m3.start()\n",
    "    m4 = multiprocessing.Process(target=div,args=(45,5))\n",
    "    print(m4.name)\n",
    "    m4.start()\n",
    "    \n",
    "    #releasing the resouces  with join()\n",
    "    m1.join()\n",
    "    m2.join()\n",
    "    m3.join()\n",
    "    m4.join()\n",
    "    \n",
    "    \n",
    "    "
   ]
  },
  {
   "cell_type": "code",
   "execution_count": null,
   "id": "72b1e4d8-1878-4bf3-a38c-ab3569c3189a",
   "metadata": {},
   "outputs": [],
   "source": []
  }
 ],
 "metadata": {
  "kernelspec": {
   "display_name": "Python 3 (ipykernel)",
   "language": "python",
   "name": "python3"
  },
  "language_info": {
   "codemirror_mode": {
    "name": "ipython",
    "version": 3
   },
   "file_extension": ".py",
   "mimetype": "text/x-python",
   "name": "python",
   "nbconvert_exporter": "python",
   "pygments_lexer": "ipython3",
   "version": "3.10.8"
  }
 },
 "nbformat": 4,
 "nbformat_minor": 5
}
