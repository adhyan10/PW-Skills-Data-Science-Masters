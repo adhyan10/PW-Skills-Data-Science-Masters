{
 "cells": [
  {
   "cell_type": "markdown",
   "id": "1874dfcc",
   "metadata": {},
   "source": [
    "## Web Api Theory"
   ]
  },
  {
   "cell_type": "markdown",
   "id": "9de16968",
   "metadata": {},
   "source": [
    "1. What is an API? Give an example, where an API is used in real life."
   ]
  },
  {
   "cell_type": "markdown",
   "id": "e453a759",
   "metadata": {},
   "source": [
    "**Ans: API stands for Application Programming Interface.An application programming interface, or API, enables companies to open up their applications’ data and functionality to external third-party developers, business partners, and internal departments within their companies. This allows services and products to communicate with each other and leverage each other’s data and functionality through a documented interface. Developers don't need to know how an API is implemented; they simply use the interface to communicate with other products and services.**  \n",
    "\n",
    "**An API is a set of defined rules that explain how computers or applications communicate with one another. APIs sit between an application and the web server, acting as an intermediary layer that processes data transfer between systems.**  \n",
    "\n",
    "**One of the most common used example of API being used in real life is by streaming sites and applications like netflix and spotify.The app on your android works as the client that makes request for a song or a movie to be viewed and the server then provides them with that song or the movie.**"
   ]
  },
  {
   "cell_type": "markdown",
   "id": "1314834c",
   "metadata": {},
   "source": [
    "2. Give advantages and disadvantages of using API. "
   ]
  },
  {
   "cell_type": "markdown",
   "id": "8139c2cc",
   "metadata": {},
   "source": [
    "**Ans: Advantages of API:**  \n",
    "\n",
    "**Automation: with APIs, computers rather than people can manage the work. Through APIs, agencies can update work flows to make them quicker and more productive.**  \n",
    " \n",
    "**Application: because APIs can access the app components, the delivery of services and information is more flexible.**  \n",
    " \n",
    "**More scope: with an API an application layer can be created which can be used to distribute information and services to new audiences which can be personalized to create custom user experiences.**  \n",
    "  \n",
    "**Efficiency: when access is provided to an API, the content generated can be published automatically and is available for every channel. It allows it to be shared and distributed more easily.**  \n",
    " \n",
    "**Integration: APIs allow content to be embedded from any site or application more easily. This guarantees more fluid information delivery and an integrated user experience.**  \n",
    " \n",
    "**Personalization: through APIs any user or company can customize the content and services that they use the most.**  \n",
    " \n",
    "**Adaptation: needs change over time and APIs help to anticipate changes. When working with this technology, data migration is supported better, and the information is reviewed more closely. In short, APIs make service provision more flexible.**  "
   ]
  },
  {
   "cell_type": "markdown",
   "id": "7667a8d7",
   "metadata": {},
   "source": [
    "**Disadvantages of API:**\n",
    "\n",
    "**Time constraint : Creating API might be time-consuming process,but with recent developments apis can be created and used quickly and frequently.**  \n",
    "\n",
    "**Knowledge constraint : To create API, programming knowledge is necessary, but each api now a days have well documented.**  \n",
    "\n",
    "**Maintenance constraint : Maintenance cost can be very high.**  \n",
    "\n",
    "**Lot of testing required: It can crash when testing API so time has to be spent to get everything working smooth.**"
   ]
  },
  {
   "cell_type": "markdown",
   "id": "302dfd51",
   "metadata": {},
   "source": [
    "3.  What is a Web API? Differentiate between API and Web API"
   ]
  },
  {
   "cell_type": "markdown",
   "id": "f89eaad3",
   "metadata": {},
   "source": [
    "**Ans : A web API is an Application Programming Interface that uses/works on web i.e internet.It is a software application that allows two different applications or machines to interact with each other without any user interference. The API contains a complete set of rules and specifications used when interacting with any web application.**  \n",
    "\n",
    "**Web Api has following features:**  \n",
    "\n",
    "* **Language independent**\n",
    "* **Personalization**\n",
    "* **Efficiency**\n",
    "* **Wider reach**\n",
    "* **Data ownership**\n",
    "* **Easy integration with GUI**\n",
    "* **Time Effective**\n",
    "\n",
    "**The difference between Api and Web api is that in web api we use the web .The major  difference is that normal apis use TCP,SMTP and HTTP,while web Apis use only HTTP.**  "
   ]
  },
  {
   "cell_type": "markdown",
   "id": "867e4c17",
   "metadata": {},
   "source": [
    "4.  Explain REST and SOAP Architecture. Mention shortcomings of SOAP."
   ]
  },
  {
   "cell_type": "markdown",
   "id": "ba3952db",
   "metadata": {},
   "source": [
    "**Ans:**  \n",
    "\n",
    "**REST : RESTful services also known as RESTful Api,are the web services that follow the RESTful architectural style.REST stands for \"Representational State Transfer\" which is the set of principles for building web services that use \n",
    "HTTP(Hyper Text Transfer Protocol)**  \n",
    "\n",
    "**RestFul apis follow the following principles:**\n",
    "\n",
    "1. **Client Server architecture : Both client and server are independent systems.**\n",
    "2. **Stateless : Servers don't store the data/state of past requests on the server side.**\n",
    "3. **Cacheable : The client can store the responses from servers as cache to improve user expirience.**\n",
    "4. **Uniform Interface : Everyone uses the same set of rules and functions to work with the rest apis.**\n",
    "5. **Layered System : We can compose multiple layers around a rest api to make it scalable , secure and flexible.**"
   ]
  },
  {
   "cell_type": "markdown",
   "id": "c533326e",
   "metadata": {},
   "source": [
    "**SOAP : SOAP stands for Simple Object Access Protocol. It is a XML-based protocol for accessing web services.SOAP is a W3C recommendation for communication between two applications.\n",
    "SOAP is XML based protocol. It is platform independent and language independent. By using SOAP, you will be able to interact with other programming language application.**\n",
    "\n",
    "**Advantages of Soap Api :**\n",
    "\n",
    "1. **WS Security: SOAP defines its own security known as WS Security.**\n",
    "2. **Language and Platform independent: SOAP web services can be written in any programming language and executed in any platform.**\n",
    "\n",
    "**Cons / Disadvantages of Soap Api :**\n",
    "\n",
    "1. **Slow: SOAP uses XML format that must be parsed to be read. It defines many standards that must be followed while developing the SOAP applications. So it is slow and consumes more bandwidth and resource.**\n",
    "2. **WSDL dependent: SOAP uses WSDL and doesn't have any other mechanism to discover the service.**"
   ]
  },
  {
   "cell_type": "markdown",
   "id": "ed3363ec",
   "metadata": {},
   "source": [
    "5. Differentiate between REST and SOAP."
   ]
  },
  {
   "cell_type": "markdown",
   "id": "4398b12a",
   "metadata": {},
   "source": [
    "Ans: The differences between REST and SOAP apis are as follows:"
   ]
  },
  {
   "cell_type": "markdown",
   "id": "08b2de6a",
   "metadata": {},
   "source": [
    "<table>\n",
    "<tr>\n",
    "    <th>SOAP Api</th>\n",
    "    <th>REST Api</th>\n",
    "</tr>\n",
    "    <tr>\n",
    "        <th>Relies on SOAP (Simple Object Access Protocol)</th>\n",
    "        <th>Relies on REST (Representational State Transfer) architecture using HTTP.</th>\n",
    "    </tr>\n",
    "    <tr>\n",
    "        <th>Transports data in standard XML format.</th>\n",
    "        <th>Generally transports data in JSON. It is based on URI. Because REST follows stateless model, REST does not enforces message format as XML or JSON etc.</th>\n",
    "    </tr>\n",
    "    <tr>\n",
    "        <th>Because it is XML based and relies on SOAP, it works with WSDL</th>\n",
    "        <th>It works with GET, POST, PUT, DELETE</th>\n",
    "    </tr>\n",
    "    <tr>\n",
    "        <th>Works over HTTP, HTTPS, SMTP, XMPP</th>\n",
    "        <th>Works over HTTP and HTTPS</th>\n",
    "    </tr>\n",
    "    <tr>\n",
    "        <th>Highly structured/typed</th>\n",
    "        <th>Less structured -> less bulky data</th>\n",
    "    </tr>\n",
    "    <tr>\n",
    "        <th>Designed with large enterprise applications in mind</th>\n",
    "        <th>Designed with mobile devices in mind</th>\n",
    "    </tr>\n",
    "    \n",
    "<table>"
   ]
  },
  {
   "cell_type": "code",
   "execution_count": null,
   "id": "25c5c06e",
   "metadata": {},
   "outputs": [],
   "source": []
  }
 ],
 "metadata": {
  "kernelspec": {
   "display_name": "Python 3 (ipykernel)",
   "language": "python",
   "name": "python3"
  },
  "language_info": {
   "codemirror_mode": {
    "name": "ipython",
    "version": 3
   },
   "file_extension": ".py",
   "mimetype": "text/x-python",
   "name": "python",
   "nbconvert_exporter": "python",
   "pygments_lexer": "ipython3",
   "version": "3.9.13"
  }
 },
 "nbformat": 4,
 "nbformat_minor": 5
}
