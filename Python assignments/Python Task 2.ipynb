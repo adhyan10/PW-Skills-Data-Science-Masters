{
 "cells": [
  {
   "cell_type": "markdown",
   "id": "7c3e9569",
   "metadata": {},
   "source": [
    "## Python Task 2"
   ]
  },
  {
   "cell_type": "markdown",
   "id": "34445e2c",
   "metadata": {},
   "source": [
    "Q1. You are writing code for a company. The requirement of the company is that you create a python\n",
    "function that will check whether the password entered by the user is correct or not. The function should\n",
    "take the password as input and return the string “Valid Password” if the entered password follows the\n",
    "below-given password guidelines else it should return “Invalid Password”.\n",
    "\n",
    "\n",
    "Note: 1. The Password should contain at least two uppercase letters and at least two lowercase letters.\n",
    "\n",
    "2. The Password should contain at least a number and three special characters.\n",
    "\n",
    "3. The length of the password should be 10 characters long."
   ]
  },
  {
   "cell_type": "code",
   "execution_count": 1,
   "id": "e736ceac",
   "metadata": {},
   "outputs": [],
   "source": [
    "def password_checker(str1):\n",
    "    ucase_chars = 0\n",
    "    lcase_chars = 0\n",
    "    num_char = 0\n",
    "    special_char = 0\n",
    "    for i in str1:\n",
    "        if i.isupper():\n",
    "            ucase_chars+=1\n",
    "        elif i.islower():\n",
    "            lcase_chars+=1\n",
    "        elif i.isnumeric():\n",
    "            num_char+=1\n",
    "        elif not i.isalnum():\n",
    "            special_char+=1\n",
    "    if len(str1) < 10:\n",
    "        return (\"Invalid Password\")\n",
    "    elif ucase_chars < 2 or lcase_chars < 2:\n",
    "        return (\"Invalid Password\")\n",
    "    elif num_char < 1 or special_char < 3:\n",
    "        return (\"Invalid Password\")\n",
    "    else:\n",
    "        return (\"Valid Password\")"
   ]
  },
  {
   "cell_type": "code",
   "execution_count": 2,
   "id": "52ae848c",
   "metadata": {},
   "outputs": [
    {
     "name": "stdout",
     "output_type": "stream",
     "text": [
      "Enter your password: Dhyan//100//Pass?\n",
      "Your password is a : Valid Password\n"
     ]
    }
   ],
   "source": [
    "pswd = input(\"Enter your password: \")\n",
    "print(f\"Your password is a : {password_checker(pswd)}\")"
   ]
  },
  {
   "cell_type": "markdown",
   "id": "50847213",
   "metadata": {},
   "source": [
    "2.Solve the below-given questions using at least one of the following: \n",
    "\n",
    "1. Lambda function\n",
    "2. Filter function\n",
    "3. Map function\n",
    "4. List Comprehension"
   ]
  },
  {
   "cell_type": "markdown",
   "id": "1e6118aa",
   "metadata": {},
   "source": [
    "1. Check if the string starts with a particular letter"
   ]
  },
  {
   "cell_type": "code",
   "execution_count": 3,
   "id": "8412c9cc",
   "metadata": {},
   "outputs": [],
   "source": [
    "start_cheaker = lambda x,y: True if x.lower().startswith(y.lower()) else False"
   ]
  },
  {
   "cell_type": "code",
   "execution_count": 4,
   "id": "38189048",
   "metadata": {},
   "outputs": [
    {
     "data": {
      "text/plain": [
       "True"
      ]
     },
     "execution_count": 4,
     "metadata": {},
     "output_type": "execute_result"
    }
   ],
   "source": [
    "start_cheaker(\"dhyan\",\"d\")"
   ]
  },
  {
   "cell_type": "markdown",
   "id": "e2aeedb3",
   "metadata": {},
   "source": [
    "2. Check if the string is numeric"
   ]
  },
  {
   "cell_type": "code",
   "execution_count": 5,
   "id": "98e52bbb",
   "metadata": {},
   "outputs": [],
   "source": [
    "num_checker = lambda x :True if x.isnumeric() else False"
   ]
  },
  {
   "cell_type": "code",
   "execution_count": 6,
   "id": "08501b3f",
   "metadata": {},
   "outputs": [
    {
     "data": {
      "text/plain": [
       "True"
      ]
     },
     "execution_count": 6,
     "metadata": {},
     "output_type": "execute_result"
    }
   ],
   "source": [
    "num_checker(\"12345\")"
   ]
  },
  {
   "cell_type": "markdown",
   "id": "9893faba",
   "metadata": {},
   "source": [
    "3. Sort a list of tuples having fruit names and their quantity. [(\"mango\",99),(\"orange\",80), (\"grapes\", 1000)]"
   ]
  },
  {
   "cell_type": "code",
   "execution_count": 7,
   "id": "4b2cba51",
   "metadata": {},
   "outputs": [
    {
     "name": "stdout",
     "output_type": "stream",
     "text": [
      "Sorted by quantity: [('orange', 80), ('mango', 99), ('grapes', 1000)]\n"
     ]
    }
   ],
   "source": [
    "list1=  [(\"mango\",99),(\"orange\",80), (\"grapes\", 1000)]\n",
    "\n",
    "#Sorting with fruits quantity\n",
    "list1.sort(key=lambda x:x[1])\n",
    "print(f\"Sorted by quantity: {list1}\")"
   ]
  },
  {
   "cell_type": "code",
   "execution_count": 8,
   "id": "bcc633ee",
   "metadata": {},
   "outputs": [
    {
     "name": "stdout",
     "output_type": "stream",
     "text": [
      "Sorted by fruit's name: [('grapes', 1000), ('mango', 99), ('orange', 80)]\n"
     ]
    }
   ],
   "source": [
    "#Sorting with fruits name\n",
    "list1.sort(key = lambda x:x[0])\n",
    "print(f\"Sorted by fruit's name: {list1}\")"
   ]
  },
  {
   "cell_type": "markdown",
   "id": "fe2aa006",
   "metadata": {},
   "source": [
    "4. Find the squares of numbers from 1 to 10"
   ]
  },
  {
   "cell_type": "code",
   "execution_count": 9,
   "id": "41e84f52",
   "metadata": {},
   "outputs": [
    {
     "name": "stdout",
     "output_type": "stream",
     "text": [
      "Squares of numbers 1 to 10: [1, 4, 9, 16, 25, 36, 49, 64, 81, 100]\n"
     ]
    }
   ],
   "source": [
    "nums= list(range(1,11))\n",
    "\n",
    "sq_nums = [i**2 for i in nums]\n",
    "print(f\"Squares of numbers 1 to 10: {sq_nums}\")"
   ]
  },
  {
   "cell_type": "markdown",
   "id": "820aecbb",
   "metadata": {},
   "source": [
    "5. Find the cube root of numbers from 1 to 10"
   ]
  },
  {
   "cell_type": "code",
   "execution_count": 10,
   "id": "39095ef0",
   "metadata": {},
   "outputs": [
    {
     "name": "stdout",
     "output_type": "stream",
     "text": [
      "Cube roots of numbers 1 to 10: [1.0, 1.2599210498948732, 1.4422495703074083, 1.5874010519681994, 1.7099759466766968, 1.8171205928321397, 1.912931182772389, 2.0, 2.080083823051904, 2.154434690031884]\n"
     ]
    }
   ],
   "source": [
    "nums= list(range(1,11))\n",
    "\n",
    "cube_rts = [i ** (1/3) for i in nums]\n",
    "print(f\"Cube roots of numbers 1 to 10: {cube_rts}\")"
   ]
  },
  {
   "cell_type": "code",
   "execution_count": 11,
   "id": "f772e1f4",
   "metadata": {},
   "outputs": [
    {
     "name": "stdout",
     "output_type": "stream",
     "text": [
      "[1.0, 1.2599210498948732, 1.4422495703074083, 1.5874010519681994, 1.7099759466766968, 1.8171205928321397, 1.912931182772389, 2.0, 2.080083823051904, 2.154434690031884]\n"
     ]
    }
   ],
   "source": [
    "#using map()\n",
    "map_cube_rts = list(map(lambda x: x ** (1/3),nums))\n",
    "\n",
    "print(map_cube_rts)\n"
   ]
  },
  {
   "cell_type": "markdown",
   "id": "10a2968b",
   "metadata": {},
   "source": [
    "6.  Check if a given number is even"
   ]
  },
  {
   "cell_type": "code",
   "execution_count": 12,
   "id": "e2063d04",
   "metadata": {},
   "outputs": [
    {
     "name": "stdout",
     "output_type": "stream",
     "text": [
      "Enter the number: 44\n",
      "Is 44 even : True\n"
     ]
    }
   ],
   "source": [
    "even_cheaker = lambda x : True if x%2==0 else False\n",
    "\n",
    "num = int(input(\"Enter the number: \"))\n",
    "print(f\"Is {num} even : {even_cheaker(num)}\")"
   ]
  },
  {
   "cell_type": "markdown",
   "id": "2620c82c",
   "metadata": {},
   "source": [
    "7. Filter odd numbers from the given list. [1,2,3,4,5,6,7,8,9,10]"
   ]
  },
  {
   "cell_type": "code",
   "execution_count": 13,
   "id": "8a959071",
   "metadata": {},
   "outputs": [
    {
     "name": "stdout",
     "output_type": "stream",
     "text": [
      "The filtered list with odd numbers is: [1, 3, 5, 7, 9]\n"
     ]
    }
   ],
   "source": [
    "list2 = [1,2,3,4,5,6,7,8,9,10]\n",
    "\n",
    "odd_list = list(filter(lambda x: True if x%2!=0 else False , list2))\n",
    "\n",
    "print(f\"The filtered list with odd numbers is: {odd_list}\")"
   ]
  },
  {
   "cell_type": "markdown",
   "id": "84cce51f",
   "metadata": {},
   "source": [
    "8. Sort a list of integers into positive and negative integers lists.\n",
    "\n",
    " [1,2,3,4,5,6,-1,-2,-3,-4,-5,0]"
   ]
  },
  {
   "cell_type": "code",
   "execution_count": 14,
   "id": "fbb32a08",
   "metadata": {},
   "outputs": [],
   "source": [
    "list3 = [1,2,3,4,5,6,-1,-2,-3,-4,-5,0]"
   ]
  },
  {
   "cell_type": "code",
   "execution_count": 15,
   "id": "7685708c",
   "metadata": {},
   "outputs": [
    {
     "name": "stdout",
     "output_type": "stream",
     "text": [
      "The positive integers in the list are: [1, 2, 3, 4, 5, 6]\n"
     ]
    }
   ],
   "source": [
    "positive_ints = list(filter(lambda x: True if x>0 else False,list3))\n",
    "print(f\"The positive integers in the list are: {positive_ints}\")"
   ]
  },
  {
   "cell_type": "code",
   "execution_count": 16,
   "id": "3ecd4ab7",
   "metadata": {},
   "outputs": [
    {
     "name": "stdout",
     "output_type": "stream",
     "text": [
      "The negative integers in the list are: [-1, -2, -3, -4, -5]\n"
     ]
    }
   ],
   "source": [
    "negative_ints = list(filter(lambda x: True if x<0 else False,list3))\n",
    "print(f\"The negative integers in the list are: {negative_ints}\")"
   ]
  },
  {
   "cell_type": "code",
   "execution_count": null,
   "id": "31898d16",
   "metadata": {},
   "outputs": [],
   "source": []
  }
 ],
 "metadata": {
  "kernelspec": {
   "display_name": "Python 3 (ipykernel)",
   "language": "python",
   "name": "python3"
  },
  "language_info": {
   "codemirror_mode": {
    "name": "ipython",
    "version": 3
   },
   "file_extension": ".py",
   "mimetype": "text/x-python",
   "name": "python",
   "nbconvert_exporter": "python",
   "pygments_lexer": "ipython3",
   "version": "3.9.13"
  }
 },
 "nbformat": 4,
 "nbformat_minor": 5
}
