{
 "cells": [
  {
   "cell_type": "markdown",
   "id": "87ba4f05",
   "metadata": {},
   "source": [
    "# 02 Feb Assignment( Tuples,Sets and Dictionaries)"
   ]
  },
  {
   "cell_type": "markdown",
   "id": "575217e2",
   "metadata": {},
   "source": [
    "1. What are the characteristics of the tuples? Is tuple immutable?  \n",
    "\n",
    "**Ans: A python tuple is a collection of objects separated by commas .It uses paranthesis \"()\" to enclose its elements.It is somewhat similar to a list, only with the restriction that a tuple can not be modified.**\n",
    "\n",
    "**Characteristics of tuples:**\n",
    "1. **Tuples are ordered,unchangeable and allow duplicates.**\n",
    "2. **Tuples are immutable i.e. we can not reassign an already existing index to some other value.** \n",
    "3. **Tuples are hashable,therefore we can use them as elements of sets and keys for dictionary.**"
   ]
  },
  {
   "cell_type": "markdown",
   "id": "eb0cc98e",
   "metadata": {},
   "source": [
    "2. What are the two tuple methods in python? Give an example of each method. Give a reason why  \n",
    "tuples have only two in-built methods as compared to Lists.  \n",
    "\n",
    "**Ans: Tuple has only 2 in-built functions ,they are count() and index() .**    \n",
    "    **count():Returns the occurence ofa value in the tuple.**  \n",
    "    **index():Returns the first index of the value in the tuple.**  \n",
    "    \n",
    "  **The Reason why tuple only has 2 built0in functions and list has many is beacuse tuples are immutable ,therefore we  \n",
    "  we can not change and modify its objects/elements once it is created.On the other hand list is mutable and thus it  \n",
    "  has many built-in functions.**"
   ]
  },
  {
   "cell_type": "code",
   "execution_count": 1,
   "id": "01b65da2",
   "metadata": {},
   "outputs": [],
   "source": [
    "mytup = (2,3,4,\"Dhyan\",[7,8,9],2)"
   ]
  },
  {
   "cell_type": "code",
   "execution_count": 2,
   "id": "fa52bb19",
   "metadata": {},
   "outputs": [
    {
     "data": {
      "text/plain": [
       "2"
      ]
     },
     "execution_count": 2,
     "metadata": {},
     "output_type": "execute_result"
    }
   ],
   "source": [
    "#count() method example\n",
    "\n",
    "mytup.count(2)"
   ]
  },
  {
   "cell_type": "code",
   "execution_count": 3,
   "id": "c9999088",
   "metadata": {},
   "outputs": [
    {
     "data": {
      "text/plain": [
       "3"
      ]
     },
     "execution_count": 3,
     "metadata": {},
     "output_type": "execute_result"
    }
   ],
   "source": [
    "#index() method example\n",
    "\n",
    "mytup.index(\"Dhyan\")"
   ]
  },
  {
   "cell_type": "markdown",
   "id": "d32f10f1",
   "metadata": {},
   "source": [
    "3. Which collection datatypes in python do not allow duplicate items? Write a code using a set to remove\n",
    "duplicates from the given list.\n",
    "\n",
    "\n",
    "   List = [1, 1, 1, 2, 1, 3, 1, 4, 2, 1, 2, 2, 2, 3, 2, 4, 3, 1, 3, 2, 3, 3, 3, 4, 4, 1, 4, 2, 4, 3, 4, 4]\n",
    "   \n",
    "**Ans: Set is the datatype in python that does not allow duplicate items.**  \n",
    "\n",
    "**To remove duplicates from a list in python we can type cast that list into a set using the built-in set() function.** "
   ]
  },
  {
   "cell_type": "code",
   "execution_count": 4,
   "id": "8a306cfc",
   "metadata": {},
   "outputs": [
    {
     "name": "stdout",
     "output_type": "stream",
     "text": [
      "{1, 2, 3, 4}\n",
      "[1, 2, 3, 4]\n"
     ]
    }
   ],
   "source": [
    "list1 =[1, 1, 1, 2, 1, 3, 1, 4, 2, 1, 2, 2, 2, 3, 2, 4, 3, 1, 3, 2, 3, 3, 3, 4, 4, 1, 4, 2, 4, 3, 4, 4]\n",
    "temp_set = set(list1)\n",
    "\n",
    "print(temp_set)\n",
    "\n",
    "# now we can convert it back to its original datatype i.e. list\n",
    "list1 = list(temp_set)\n",
    "print(list1)"
   ]
  },
  {
   "cell_type": "markdown",
   "id": "f43a96d3",
   "metadata": {},
   "source": [
    "4. Explain the difference between the union() and update() methods for a set. Give an example of each method.  \n",
    "\n",
    "**Ans: union() : Return the union of sets as a new set.(i.e. all elements that are in either set.)**    \n",
    "     \n",
    "   **update() : Update a set with the union of itself and others. It does not return a new set ,but updates the set inplace    \n",
    "   itself.**  \n",
    "   \n",
    "   **So the difference between them is that union() returns a new set whereas update() updates the existing set and does  \n",
    "   not create a new set.**\n",
    "            "
   ]
  },
  {
   "cell_type": "code",
   "execution_count": 5,
   "id": "81f76aa6",
   "metadata": {},
   "outputs": [
    {
     "name": "stdout",
     "output_type": "stream",
     "text": [
      "The union of sets is: {1, 2, 3, 4, 5, 6, 7, 8}\n"
     ]
    }
   ],
   "source": [
    "set1 = {2,4,6,8}\n",
    "set2 = {1,3,5,7}\n",
    "\n",
    "set_un =set1.union(set2)\n",
    "\n",
    "print(f\"The union of sets is: {set_un}\")"
   ]
  },
  {
   "cell_type": "code",
   "execution_count": 6,
   "id": "f55de6d7",
   "metadata": {},
   "outputs": [
    {
     "name": "stdout",
     "output_type": "stream",
     "text": [
      "set1 is updates now as : {1, 2, 3, 4, 5, 6, 7, 8}\n"
     ]
    }
   ],
   "source": [
    "set1.update(set2)\n",
    "\n",
    "print(f\"set1 is updates now as : {set1}\")"
   ]
  },
  {
   "cell_type": "markdown",
   "id": "03befd99",
   "metadata": {},
   "source": [
    "5.  What is a dictionary? Give an example. Also, state whether a dictionary is ordered or unordered.  \n",
    "\n",
    "**Ans: Dictionary in Python is a collection of keys and their values, used to store data values like a map, which,unlike other   \n",
    "data types which hold only a single value as an element.**    \n",
    "\n",
    "**Synstax of dictionary: dict = {key1 : value1 , key2 : value2 , ... keyn : valuen}**\n",
    "\n",
    "**Dictionaries are mutable (like lists). Python dictionaries were unordered, but starting with Python 3.6 they are   \n",
    "now ordered so you can sort them.**  "
   ]
  },
  {
   "cell_type": "code",
   "execution_count": 7,
   "id": "f5047a8b",
   "metadata": {},
   "outputs": [
    {
     "name": "stdout",
     "output_type": "stream",
     "text": [
      "{'Name': 'Dhyanesh', 'Course': 'Data Science'}\n"
     ]
    }
   ],
   "source": [
    "#Example of dicitonary\n",
    "mydict1 = {\"Name\" : \"Dhyanesh\" ,\"Course\": \"Data Science\"}\n",
    "print(mydict1)"
   ]
  },
  {
   "cell_type": "markdown",
   "id": "2479d029",
   "metadata": {},
   "source": [
    "6. Can we create a nested dictionary? If so, please give an example by creating a simple one-level nested dictionary.  \n",
    "\n",
    "**Ans: Yes we can create a nested dicitionary ,i.e we can have an other dicitionary as a value for some key.**   \n",
    "**syntax: nested_dict = {key1: {key11: value1,key12: value2}}**"
   ]
  },
  {
   "cell_type": "code",
   "execution_count": 8,
   "id": "74872b3d",
   "metadata": {},
   "outputs": [
    {
     "name": "stdout",
     "output_type": "stream",
     "text": [
      "{'Student1': {'Name': 'Rahul', 'Grade': 'A'}, 'Student2': {'Name': 'Raju', 'Grade': 'c'}}\n"
     ]
    }
   ],
   "source": [
    "# example of a nested dictionary:\n",
    "my_nested_dict = {\"Student1\":{\"Name\": \"Rahul\" , \"Grade\" : \"A\"},\n",
    "                 \"Student2\":{\"Name\": \"Raju\" , \"Grade\" : \"c\"}}\n",
    "\n",
    "print(my_nested_dict)"
   ]
  },
  {
   "cell_type": "code",
   "execution_count": 9,
   "id": "99472688",
   "metadata": {},
   "outputs": [
    {
     "name": "stdout",
     "output_type": "stream",
     "text": [
      "Rahul\n"
     ]
    }
   ],
   "source": [
    "#Accessing elements in a nested dictionary\n",
    "\n",
    "print(my_nested_dict[\"Student1\"][\"Name\"])"
   ]
  },
  {
   "cell_type": "markdown",
   "id": "8f71ab58",
   "metadata": {},
   "source": [
    "7. Using setdefault() method, create key named topics in the given dictionary and also add the value of\n",
    "the key as this list ['Python', 'Machine Learning’, 'Deep Learning']\n",
    "\n",
    "\n",
    "dict1 = {'language' : 'Python', 'course': 'Data Science Masters'}"
   ]
  },
  {
   "cell_type": "code",
   "execution_count": 10,
   "id": "4903b50b",
   "metadata": {},
   "outputs": [],
   "source": [
    "dict1 = {'language' : 'Python', 'course': 'Data Science Masters'}"
   ]
  },
  {
   "cell_type": "code",
   "execution_count": 11,
   "id": "2334c9f0",
   "metadata": {},
   "outputs": [
    {
     "data": {
      "text/plain": [
       "['Python', 'Machine Learning', 'Deep Learning']"
      ]
     },
     "execution_count": 11,
     "metadata": {},
     "output_type": "execute_result"
    }
   ],
   "source": [
    "dict1.setdefault(\"topics\",[\"Python\", \"Machine Learning\",\"Deep Learning\"])"
   ]
  },
  {
   "cell_type": "code",
   "execution_count": 12,
   "id": "f8d864aa",
   "metadata": {},
   "outputs": [
    {
     "data": {
      "text/plain": [
       "{'language': 'Python',\n",
       " 'course': 'Data Science Masters',\n",
       " 'topics': ['Python', 'Machine Learning', 'Deep Learning']}"
      ]
     },
     "execution_count": 12,
     "metadata": {},
     "output_type": "execute_result"
    }
   ],
   "source": [
    "dict1"
   ]
  },
  {
   "cell_type": "markdown",
   "id": "ee62575f",
   "metadata": {},
   "source": [
    "8. Q8. What are the three view objects in dictionaries? Use the three in-built methods in python to display\n",
    "these three view objects for the given dictionary.\n",
    "\n",
    "\n",
    "dict1 = {'Sport': 'Cricket' , 'Teams': ['India', 'Australia', 'England', 'South Africa', 'Sri Lanka', 'New Zealand']}\n",
    "\n",
    "**Ans: The three view objects of a dictionary object are keys , values and items.  \n",
    "keys : We can view and get the keys in the dictionary using keys() method which returns all the available keys.  \n",
    "values : We can view and get the values in the dictionary using values() method which returns all the available values.  \n",
    "items : We can obtain both all the keys and values as pair using items() method where we get them as a tuple of (key,value).**  \n"
   ]
  },
  {
   "cell_type": "code",
   "execution_count": 13,
   "id": "d6f94ef7",
   "metadata": {},
   "outputs": [],
   "source": [
    "dict1 = {'Sport': 'Cricket' , 'Teams': ['India', 'Australia', 'England', 'South Africa', 'Sri Lanka', 'New Zealand']}"
   ]
  },
  {
   "cell_type": "code",
   "execution_count": 14,
   "id": "c6b4797c",
   "metadata": {},
   "outputs": [
    {
     "data": {
      "text/plain": [
       "dict_keys(['Sport', 'Teams'])"
      ]
     },
     "execution_count": 14,
     "metadata": {},
     "output_type": "execute_result"
    }
   ],
   "source": [
    "#Keys: \n",
    "dict1.keys()"
   ]
  },
  {
   "cell_type": "code",
   "execution_count": 15,
   "id": "bc6885a3",
   "metadata": {},
   "outputs": [
    {
     "data": {
      "text/plain": [
       "dict_values(['Cricket', ['India', 'Australia', 'England', 'South Africa', 'Sri Lanka', 'New Zealand']])"
      ]
     },
     "execution_count": 15,
     "metadata": {},
     "output_type": "execute_result"
    }
   ],
   "source": [
    "#Values:\n",
    "dict1.values()"
   ]
  },
  {
   "cell_type": "code",
   "execution_count": 16,
   "id": "8bbd776e",
   "metadata": {},
   "outputs": [
    {
     "data": {
      "text/plain": [
       "dict_items([('Sport', 'Cricket'), ('Teams', ['India', 'Australia', 'England', 'South Africa', 'Sri Lanka', 'New Zealand'])])"
      ]
     },
     "execution_count": 16,
     "metadata": {},
     "output_type": "execute_result"
    }
   ],
   "source": [
    "#items:\n",
    "dict1.items()"
   ]
  },
  {
   "cell_type": "code",
   "execution_count": null,
   "id": "ac66a7d5",
   "metadata": {},
   "outputs": [],
   "source": []
  }
 ],
 "metadata": {
  "kernelspec": {
   "display_name": "Python 3 (ipykernel)",
   "language": "python",
   "name": "python3"
  },
  "language_info": {
   "codemirror_mode": {
    "name": "ipython",
    "version": 3
   },
   "file_extension": ".py",
   "mimetype": "text/x-python",
   "name": "python",
   "nbconvert_exporter": "python",
   "pygments_lexer": "ipython3",
   "version": "3.9.13"
  }
 },
 "nbformat": 4,
 "nbformat_minor": 5
}
