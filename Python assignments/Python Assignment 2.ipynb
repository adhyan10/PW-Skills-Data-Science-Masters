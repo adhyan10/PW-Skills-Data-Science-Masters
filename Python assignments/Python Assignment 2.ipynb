{
 "cells": [
  {
   "cell_type": "markdown",
   "id": "bcaa792e",
   "metadata": {},
   "source": [
    "# Python Assignment "
   ]
  },
  {
   "cell_type": "markdown",
   "id": "11e64e0a",
   "metadata": {},
   "source": [
    "### 1. Write a program to accept percentage from user and display the grade acoording to the given criteria."
   ]
  },
  {
   "cell_type": "code",
   "execution_count": 1,
   "id": "f4222bfa",
   "metadata": {},
   "outputs": [
    {
     "name": "stdout",
     "output_type": "stream",
     "text": [
      "Enter the percentage: (numerical value only): 99\n",
      "You received A Grade!\n"
     ]
    }
   ],
   "source": [
    "percentage = int(input(\"Enter the percentage: (numerical value only): \"))\n",
    "\n",
    "if percentage > 90:\n",
    "    print(\"You received A Grade!\")\n",
    "elif percentage > 80 and percentage <=90:\n",
    "    print(\"You received B Grade!\")\n",
    "elif percentage >= 60 and percentage <=80:\n",
    "    print(\"You received C Grade!\")\n",
    "else:\n",
    "    print(\"You received D Grade!.You need to work hard\")\n"
   ]
  },
  {
   "cell_type": "markdown",
   "id": "d195edb4",
   "metadata": {},
   "source": [
    "### 2. Write a program  to accept the cost price of a bike and display the road tax to be paid according to the given criteria."
   ]
  },
  {
   "cell_type": "code",
   "execution_count": null,
   "id": "0563a785",
   "metadata": {},
   "outputs": [],
   "source": [
    "bike_cost = int(input(\"Enter the cost price of bike: \"))\n",
    "\n",
    "if bike_cost > 100000:\n",
    "    tax = (bike_cost * 0.15) #15%\n",
    "    print(f\"For bike of price {bike_cost} ₹ ,you have to pay tax of {tax} ₹\")\n",
    "elif bike_cost > 50000 and bike_cost <= 100000:\n",
    "    tax = (bike_cost * 0.10) #10%\n",
    "    print(f\"For bike of price {bike_cost} ₹ ,you have to pay tax of {tax} ₹\")\n",
    "else:\n",
    "    tax = (bike_cost * 0.05) #5%\n",
    "    print(f\"For bike of price {bike_cost} ₹ ,you have to pay tax of {tax} ₹\")"
   ]
  },
  {
   "cell_type": "markdown",
   "id": "e119f68f",
   "metadata": {},
   "source": [
    "### 3. Accept any city from the user and display monuments of the city."
   ]
  },
  {
   "cell_type": "code",
   "execution_count": null,
   "id": "38c6a1dd",
   "metadata": {},
   "outputs": [],
   "source": [
    "city = input(\"Enter the name of the city: \").lower()\n",
    "#print(city)\n",
    "\n",
    "if city == \"delhi\":\n",
    "    print(f\"{city.capitalize()} : Red Fort\")\n",
    "elif city == \"agra\":\n",
    "    print(f\"{city.capitalize()} : Taj Mahal\")\n",
    "elif city == \"jaipur\":\n",
    "    print(f\"{city.capitalize()} : Jal Mahal\")\n",
    "else:\n",
    "    print(f\"No known monuments in {city.capitalize()}\")\n",
    "    "
   ]
  },
  {
   "cell_type": "markdown",
   "id": "0fe5b23b",
   "metadata": {},
   "source": [
    "### 4. Check how many times a given number can be divided by 3 before it is less than or equal to 10"
   ]
  },
  {
   "cell_type": "code",
   "execution_count": null,
   "id": "82d38c58",
   "metadata": {},
   "outputs": [],
   "source": [
    "num = int(input(\"Enter the number: \"))\n",
    "\n",
    "count = 0\n",
    "while num >= 10:\n",
    "    num/=3  \n",
    "    count+=1\n",
    "\n",
    "#print(num)    \n",
    "print(f\"It can be divided {count} times by 3 before it is less than or equal to 10\")"
   ]
  },
  {
   "cell_type": "markdown",
   "id": "e5c9f586",
   "metadata": {},
   "source": [
    "### 5. Why and when to use a while loop in python give a detailed description with example"
   ]
  },
  {
   "cell_type": "markdown",
   "id": "8db645e0",
   "metadata": {},
   "source": [
    "Ans : While loop is used when we want to loop until a specified condition is True. And when the condition becomes False we come out of while loop.In below example the while loop runs until the varibale 'i' becomes greater than 5,i.e until i is less than 5 we run code inside the while loop, when it becomes greater or equal to 5 the condition becomes False and we exit the while loop."
   ]
  },
  {
   "cell_type": "code",
   "execution_count": null,
   "id": "6362c8a3",
   "metadata": {},
   "outputs": [],
   "source": [
    "i=0\n",
    "while i<5:\n",
    "    print(f\"{i}'th Hello World\")\n",
    "    i+=1"
   ]
  },
  {
   "cell_type": "markdown",
   "id": "57237602",
   "metadata": {},
   "source": [
    "### 6. Use nested while loop to print 3 different pattern"
   ]
  },
  {
   "cell_type": "code",
   "execution_count": null,
   "id": "fb29bdb2",
   "metadata": {},
   "outputs": [],
   "source": [
    "#single while loop\n",
    "i=1\n",
    "s=5\n",
    "while i<6:\n",
    "    print(\" \" * s,end=\"\")\n",
    "    print(\"* \" * i)\n",
    "    \n",
    "    i+=1\n",
    "    s-=1"
   ]
  },
  {
   "cell_type": "code",
   "execution_count": null,
   "id": "80662022",
   "metadata": {},
   "outputs": [],
   "source": [
    "#nested while loop 1:\n",
    "row = int(input(\"Enter the number of rows: \"))\n",
    " \n",
    "i=1\n",
    "j=0\n",
    "\n",
    "while(i<=row):\n",
    "    while(j<=i-1):\n",
    "        print(\"* \",end=\"\")\n",
    "        j+=1\n",
    "     #printing next line for each row\n",
    "    print(\"\\r\")\n",
    "    j=0\n",
    "    i+=1"
   ]
  },
  {
   "cell_type": "code",
   "execution_count": null,
   "id": "7acf69b0",
   "metadata": {},
   "outputs": [],
   "source": [
    "#nested while loop 2\n",
    "\n",
    "row  = int(input(\"Enter the number of rows: \"))\n",
    "i=0\n",
    "\n",
    "\n",
    "while(row>=i):\n",
    "    j=1\n",
    "    while(j<=row):\n",
    "        print(\"* \",end=\"\")\n",
    "        j+=1\n",
    "    print(\"\\r\")\n",
    "    j=1\n",
    "    row-=1\n",
    "\n",
    "\n"
   ]
  },
  {
   "cell_type": "code",
   "execution_count": null,
   "id": "4f2d48df",
   "metadata": {},
   "outputs": [],
   "source": [
    "#nested while loop 3\n",
    "\n",
    "row = int(input(\"Enter the number of rows: \"))\n",
    "\n",
    "space =int(input(\"Enter an odd number to add space: \"))\n",
    "\n",
    "i=1\n",
    "\n",
    "while (i >= row):\n",
    "    j=0\n",
    "    \n",
    "\n",
    "\n"
   ]
  },
  {
   "cell_type": "code",
   "execution_count": null,
   "id": "dea3d611",
   "metadata": {
    "scrolled": true
   },
   "outputs": [],
   "source": [
    "s=5\n",
    "for i in range(1,6):\n",
    "    print(' ' * (s),end=\"\")\n",
    "    print(\"* \" * i)\n",
    "    s-=1"
   ]
  },
  {
   "cell_type": "code",
   "execution_count": null,
   "id": "43e66e23",
   "metadata": {},
   "outputs": [],
   "source": [
    "row = int(input(\"Enter the number of rows:\"))\n",
    "i=0\n",
    "\n",
    "while (i < row):\n",
    "    space = row - i - 1\n",
    "    while space > 0 :\n",
    "        print(end=\" \")\n",
    "        space -= 1\n",
    "    j = i + 1\n",
    "    while j > 0:\n",
    "        print(\"* \",end=\"\")\n",
    "        j-=1\n",
    "    i+=1\n",
    "    print()"
   ]
  },
  {
   "cell_type": "markdown",
   "id": "525e1184",
   "metadata": {},
   "source": [
    "### 7.Reverse a while to display numbers from 10 to 1."
   ]
  },
  {
   "cell_type": "code",
   "execution_count": null,
   "id": "09f619f4",
   "metadata": {},
   "outputs": [],
   "source": [
    "num = 10\n",
    "\n",
    "while num>0:\n",
    "    print(num)\n",
    "    num-=1"
   ]
  },
  {
   "cell_type": "code",
   "execution_count": null,
   "id": "22d51d67",
   "metadata": {},
   "outputs": [],
   "source": []
  }
 ],
 "metadata": {
  "kernelspec": {
   "display_name": "Python 3 (ipykernel)",
   "language": "python",
   "name": "python3"
  },
  "language_info": {
   "codemirror_mode": {
    "name": "ipython",
    "version": 3
   },
   "file_extension": ".py",
   "mimetype": "text/x-python",
   "name": "python",
   "nbconvert_exporter": "python",
   "pygments_lexer": "ipython3",
   "version": "3.9.13"
  }
 },
 "nbformat": 4,
 "nbformat_minor": 5
}
