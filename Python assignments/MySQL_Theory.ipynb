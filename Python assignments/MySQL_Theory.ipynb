{
 "cells": [
  {
   "cell_type": "markdown",
   "id": "73c3b6b7",
   "metadata": {},
   "source": [
    "## MySQL Theory"
   ]
  },
  {
   "cell_type": "markdown",
   "id": "c49a958b",
   "metadata": {},
   "source": [
    "1.  What is a database? Differentiate between SQL and NoSQL databases."
   ]
  },
  {
   "cell_type": "markdown",
   "id": "6b45a2c4",
   "metadata": {},
   "source": [
    "**Ans : Database is organized collection of data ,so that it can be easily accessed and managed.The main purpose of databases ois to operate a large amount of information by storing ,retrieving and managing the data.Moedern databases are managed by DBMS i.e. Data Base Management Systems.**  \n",
    "**Databases can be of two types SQL and NoSQL.**  \n",
    "**SQL  based databases are the relational databases and NoSQL are called non relational or distrubted databases.SQL databases uses Structured Query Language to create structured tabular data and their schema is predefined and static.On the other hand NoSQL does not have a predefined schema as it can store and work with unstructured data.**  \n",
    "**Examples of SQL databases: MySQL,Postgresql,Ms SQL Server**  \n",
    "**Examples of NoSQL databases: MongoDB,Cassandra,HBase**"
   ]
  },
  {
   "cell_type": "markdown",
   "id": "32085bf8",
   "metadata": {},
   "source": [
    "2.  What is DDL? Explain why CREATE, DROP, ALTER, and TRUNCATE are used with an example."
   ]
  },
  {
   "cell_type": "markdown",
   "id": "09609184",
   "metadata": {},
   "source": [
    "**And: DDL stands for Data Definition Language in SQL.DDL contains those commands of SQL which are used to define the database schemas.It deals with the deals with the description of the database schemas and is used to define and modify the sturcture of database objects.DDL commands are used to define,create,modify and delete the structure of the database object and not he data.**  \n",
    "**Examples of DDL commands:**  \n",
    "**CREATE : It is used to create database or its objects like tables,views,stored procedures,functions,triggers,etc.**  \n",
    "**DROP: It is used to delete database or database objects.**  \n",
    "**ALTER: It is used to alter/modify the structure of database and its objects.**  \n",
    "**TRUNCATE: It is used to remove all the records/data in a table.**  "
   ]
  },
  {
   "cell_type": "code",
   "execution_count": 1,
   "id": "979e6adf",
   "metadata": {},
   "outputs": [],
   "source": [
    "import mysql.connector"
   ]
  },
  {
   "cell_type": "code",
   "execution_count": 2,
   "id": "8431ddba",
   "metadata": {},
   "outputs": [
    {
     "name": "stdout",
     "output_type": "stream",
     "text": [
      "<mysql.connector.connection_cext.CMySQLConnection object at 0x000002B5CC32A910>\n"
     ]
    }
   ],
   "source": [
    "#creating connection object\n",
    "mydb = mysql.connector.connect(host = \"localhost\" ,user = \"dhyan\" ,password = \"pswd\")\n",
    "print(mydb)"
   ]
  },
  {
   "cell_type": "code",
   "execution_count": 3,
   "id": "bc77d006",
   "metadata": {},
   "outputs": [],
   "source": [
    "#creating cursor object\n",
    "mycur = mydb.cursor()"
   ]
  },
  {
   "cell_type": "code",
   "execution_count": 4,
   "id": "8ca19b90",
   "metadata": {},
   "outputs": [],
   "source": [
    "#CREATE a database and table(CREATE EXAMPLE)\n",
    "mycur.execute('CREATE DATABASE IF NOT EXISTS testdb')\n",
    "mycur.execute('CREATE DATABASE IF NOT EXISTS testdb1')\n",
    "mycur.execute('CREATE TABLE IF NOT EXISTS testdb.table1(id int,name VARCHAR(20))')\n",
    "mycur.execute('CREATE TABLE IF NOT EXISTS testdb.table2(cid int,c_name VARCHAR(20))')\n"
   ]
  },
  {
   "cell_type": "code",
   "execution_count": 5,
   "id": "d9469a63",
   "metadata": {},
   "outputs": [],
   "source": [
    "mydb.close()"
   ]
  },
  {
   "cell_type": "code",
   "execution_count": 6,
   "id": "b00274b1",
   "metadata": {},
   "outputs": [
    {
     "name": "stdout",
     "output_type": "stream",
     "text": [
      "<mysql.connector.connection_cext.CMySQLConnection object at 0x000002B5CC32A580>\n",
      "('information_schema',)\n",
      "('mysql',)\n",
      "('performance_schema',)\n",
      "('sakila',)\n",
      "('sys',)\n",
      "('testdb',)\n",
      "('testdb1',)\n",
      "('world',)\n"
     ]
    }
   ],
   "source": [
    "#printing all databases that we created\n",
    "#creating connection object\n",
    "mydb = mysql.connector.connect(host = \"localhost\" ,user = \"dhyan\" ,password = \"pswd\")\n",
    "print(mydb)\n",
    "mycur = mydb.cursor()\n",
    "mycur.execute('SHOW DATABASES')\n",
    "\n",
    "for i in mycur.fetchall():\n",
    "    print(i)"
   ]
  },
  {
   "cell_type": "code",
   "execution_count": 7,
   "id": "9bb3c671",
   "metadata": {},
   "outputs": [
    {
     "name": "stdout",
     "output_type": "stream",
     "text": [
      "('information_schema',)\n",
      "('mysql',)\n",
      "('performance_schema',)\n",
      "('sakila',)\n",
      "('sys',)\n",
      "('testdb',)\n",
      "('world',)\n"
     ]
    }
   ],
   "source": [
    "#DROP database named testdb1\n",
    "\n",
    "mycur.execute('DROP DATABASE testdb1')\n",
    "mycur.execute('SHOW DATABASES')\n",
    "\n",
    "for i in mycur.fetchall():\n",
    "    print(i)"
   ]
  },
  {
   "cell_type": "markdown",
   "id": "9da68eac",
   "metadata": {},
   "source": [
    "As you can see testdb1 is deleted"
   ]
  },
  {
   "cell_type": "code",
   "execution_count": 8,
   "id": "a6b318b0",
   "metadata": {},
   "outputs": [],
   "source": [
    "#ALTER the table testdb.table1 to add column age \n",
    "\n",
    "mycur.execute('ALTER TABLE testdb.table1 ADD age int')"
   ]
  },
  {
   "cell_type": "code",
   "execution_count": 9,
   "id": "44ea8ade",
   "metadata": {},
   "outputs": [],
   "source": [
    "#To TRUNCATE a table we will first add some values to it and then turncate it.\n",
    "\n",
    "mycur.execute('INSERT into testdb.table1 values(1,\"Dhyan\",25)')\n",
    "mycur.execute('INSERT into testdb.table1 values(2,\"Vedant\",30)')\n",
    "mydb.commit()\n"
   ]
  },
  {
   "cell_type": "code",
   "execution_count": 10,
   "id": "98cfba4a",
   "metadata": {},
   "outputs": [
    {
     "name": "stdout",
     "output_type": "stream",
     "text": [
      "(1, 'Dhyan', 25)\n",
      "(2, 'Vedant', 30)\n"
     ]
    }
   ],
   "source": [
    "mycur.execute('SELECT * FROM testdb.table1')\n",
    "for i in mycur.fetchall():\n",
    "    print(i)"
   ]
  },
  {
   "cell_type": "code",
   "execution_count": 11,
   "id": "6797c9cb",
   "metadata": {},
   "outputs": [],
   "source": [
    "#NOW WE TRUNCATE IT\n",
    "\n",
    "mycur.execute(\"TRUNCATE TABLE testdb.table1\")"
   ]
  },
  {
   "cell_type": "code",
   "execution_count": 12,
   "id": "c17c9b53",
   "metadata": {},
   "outputs": [],
   "source": [
    "mycur.execute('SELECT * FROM testdb.table1')\n",
    "for i in mycur.fetchall():\n",
    "    print(i)"
   ]
  },
  {
   "cell_type": "markdown",
   "id": "aaee42b1",
   "metadata": {},
   "source": [
    "As you can see we get no records as all have been deleted"
   ]
  },
  {
   "cell_type": "code",
   "execution_count": 13,
   "id": "c0ed51c8",
   "metadata": {},
   "outputs": [],
   "source": [
    "mydb.close()"
   ]
  },
  {
   "cell_type": "markdown",
   "id": "c84378ad",
   "metadata": {},
   "source": [
    "3.  What is DML? Explain INSERT, UPDATE, and DELETE with an example."
   ]
  },
  {
   "cell_type": "markdown",
   "id": "984d9fce",
   "metadata": {},
   "source": [
    "**Ans: DML stands for Data Manipulation Language.The SQL commands that deals with the manipulation of data present in the database belong to DML or Data Manipulation Language and this includes most of the SQL statements. It is the component of the SQL statement that controls access to data and to the database.**   \n",
    "**Examples of DML:**  \n",
    "**INSERT : It is used to insert data into the tables.**  \n",
    "**UPDATE : It is used to update the existing data in the tables.**  \n",
    "**DELETE : It is used to Delete data records from a table.**  "
   ]
  },
  {
   "cell_type": "code",
   "execution_count": 14,
   "id": "f70c42cd",
   "metadata": {},
   "outputs": [
    {
     "name": "stdout",
     "output_type": "stream",
     "text": [
      "<mysql.connector.connection_cext.CMySQLConnection object at 0x000002B5CC32AB50>\n"
     ]
    }
   ],
   "source": [
    "mydb = mysql.connector.connect(host = \"localhost\" ,user = \"dhyan\" ,password = \"pswd\")\n",
    "print(mydb)\n",
    "mycur = mydb.cursor()"
   ]
  },
  {
   "cell_type": "code",
   "execution_count": 15,
   "id": "a980e76c",
   "metadata": {},
   "outputs": [],
   "source": [
    "#INSERT :inserting values\n",
    "mycur.execute('INSERT into testdb.table1 values(1,\"Dhyan\",25)')\n",
    "mycur.execute('INSERT into testdb.table1 values(2,\"Vedant\",30)')\n",
    "mycur.execute('INSERT into testdb.table1 values(3,\"RandomMan\",69)')\n",
    "mydb.commit()"
   ]
  },
  {
   "cell_type": "code",
   "execution_count": 16,
   "id": "b8e284fd",
   "metadata": {},
   "outputs": [
    {
     "name": "stdout",
     "output_type": "stream",
     "text": [
      "(1, 'Dhyan', 25)\n",
      "(2, 'Vedant', 30)\n",
      "(3, 'RandomMan', 69)\n"
     ]
    }
   ],
   "source": [
    "mycur.execute('SELECT * FROM testdb.table1')\n",
    "for i in mycur.fetchall():\n",
    "    print(i)"
   ]
  },
  {
   "cell_type": "code",
   "execution_count": 17,
   "id": "ad2e9e9e",
   "metadata": {},
   "outputs": [],
   "source": [
    "#UPDATE : update data\n",
    "mycur.execute('UPDATE testdb.table1 SET age = 24 WHERE id = 1')\n",
    "mydb.commit()"
   ]
  },
  {
   "cell_type": "code",
   "execution_count": 18,
   "id": "56298a00",
   "metadata": {},
   "outputs": [
    {
     "name": "stdout",
     "output_type": "stream",
     "text": [
      "(1, 'Dhyan', 24)\n",
      "(2, 'Vedant', 30)\n",
      "(3, 'RandomMan', 69)\n"
     ]
    }
   ],
   "source": [
    "mycur.execute('SELECT * FROM testdb.table1')\n",
    "for i in mycur.fetchall():\n",
    "    print(i)"
   ]
  },
  {
   "cell_type": "markdown",
   "id": "6f17fa71",
   "metadata": {},
   "source": [
    "As you can see the age of id 1 has been updated."
   ]
  },
  {
   "cell_type": "code",
   "execution_count": 19,
   "id": "e65c8f71",
   "metadata": {},
   "outputs": [],
   "source": [
    "#DELETE : delete data from table\n",
    "mycur.execute('DELETE FROM testdb.table1 WHERE id = 3')\n",
    "mydb.commit()"
   ]
  },
  {
   "cell_type": "code",
   "execution_count": 20,
   "id": "cf34ef73",
   "metadata": {},
   "outputs": [
    {
     "name": "stdout",
     "output_type": "stream",
     "text": [
      "(1, 'Dhyan', 24)\n",
      "(2, 'Vedant', 30)\n"
     ]
    }
   ],
   "source": [
    "mycur.execute('SELECT * FROM testdb.table1')\n",
    "for i in mycur.fetchall():\n",
    "    print(i)"
   ]
  },
  {
   "cell_type": "markdown",
   "id": "0b019b25",
   "metadata": {},
   "source": [
    "As you can see the record with id = 3 has been deleted."
   ]
  },
  {
   "cell_type": "code",
   "execution_count": 21,
   "id": "2517104a",
   "metadata": {},
   "outputs": [],
   "source": [
    "mydb.close()"
   ]
  },
  {
   "cell_type": "markdown",
   "id": "25dbd66f",
   "metadata": {},
   "source": [
    "4. What is DQL? Explain SELECT with an example."
   ]
  },
  {
   "cell_type": "markdown",
   "id": "ebbc7a31",
   "metadata": {},
   "source": [
    "**Ans: DQL stands for Data Query Language. that allows getting data from the database and imposing order upon it. It includes the SELECT statement.**  \n",
    "**SELECT : This command allows getting the data out of the database to perform operations with it. When a SELECT is fired against a table or tables the result is compiled into a further temporary table, which is displayed or perhaps received by the \n",
    "program .**"
   ]
  },
  {
   "cell_type": "code",
   "execution_count": 22,
   "id": "f9444797",
   "metadata": {},
   "outputs": [
    {
     "name": "stdout",
     "output_type": "stream",
     "text": [
      "<mysql.connector.connection_cext.CMySQLConnection object at 0x000002B5CC32AD00>\n",
      "(1, 'Dhyan', 24)\n",
      "(2, 'Vedant', 30)\n"
     ]
    }
   ],
   "source": [
    "#Example of SELECT statement\n",
    "\n",
    "mydb = mysql.connector.connect(host = \"localhost\" ,user = \"dhyan\" ,password = \"pswd\")\n",
    "print(mydb)\n",
    "mycur = mydb.cursor()\n",
    "\n",
    "mycur.execute('SELECT * FROM testdb.table1')\n",
    "for i in mycur.fetchall():\n",
    "    print(i)"
   ]
  },
  {
   "cell_type": "markdown",
   "id": "28f3ffa4",
   "metadata": {},
   "source": [
    "When we use * it return all columns in the table ,we can also get specific columns by calling them in SELECT statement."
   ]
  },
  {
   "cell_type": "code",
   "execution_count": 23,
   "id": "77f947d6",
   "metadata": {},
   "outputs": [
    {
     "name": "stdout",
     "output_type": "stream",
     "text": [
      "('Dhyan', 24)\n",
      "('Vedant', 30)\n"
     ]
    }
   ],
   "source": [
    "mycur.execute('SELECT name,age FROM testdb.table1')\n",
    "for i in mycur.fetchall():\n",
    "    print(i)"
   ]
  },
  {
   "cell_type": "code",
   "execution_count": 24,
   "id": "77f70b35",
   "metadata": {},
   "outputs": [],
   "source": [
    "mydb.close()"
   ]
  },
  {
   "cell_type": "markdown",
   "id": "fb5304c3",
   "metadata": {},
   "source": [
    "5.  Explain Primary Key and Foreign Key"
   ]
  },
  {
   "cell_type": "markdown",
   "id": "faee8b1f",
   "metadata": {},
   "source": [
    "**Ans:**  \n",
    "**Primary key: A primary key is used to ensure that data in the specific column is unique. A primary key column cannot have NULL values. It is either an existing table column or a column that is specifically generated by the database according to a defined sequence.It uniquely classifies each record/row in the table.A table can have only ONE primary key; and in the table, this primary key can consist of single or multiple columns (fields).**     \n",
    "\n",
    "**example: A customer_id column in customer table which takes unique values and can't be null can be used a primary key for that table.**\n",
    "\n",
    "**Foreign key : A foreign key is a column or group of columns in a relational database table that provides a link between data in two tables. It is a column (or columns) that references a column (most often the primary key) of another table. A table can have more than one foreign key.**  \n",
    "\n",
    "**example : The customer_id of customer table which acts as primary key in its own table ,can be the foreign key in the purchase table which has all the purchase transactions made by customers.**   "
   ]
  },
  {
   "cell_type": "markdown",
   "id": "7f7af3d0",
   "metadata": {},
   "source": [
    "6. Write a python code to connect MySQL to python. Explain the cursor() and execute() method."
   ]
  },
  {
   "cell_type": "markdown",
   "id": "90cfc40b",
   "metadata": {},
   "source": [
    "**Ans:**  \n",
    "**cursor(): The cursor() method of mysql.connector.connect() class instantiates and returns a cursor using C Extension.It is like a pointer .It acts as middleware between MySQL database connection and SQL query. It is created after giving connection to MySQL database.**  \n",
    "\n",
    "**execute(): The execute() method of mysql.connector.connect().cursor() class executes given statement using given parameters.**"
   ]
  },
  {
   "cell_type": "code",
   "execution_count": 25,
   "id": "398b5c86",
   "metadata": {},
   "outputs": [
    {
     "name": "stdout",
     "output_type": "stream",
     "text": [
      "<mysql.connector.connection_cext.CMySQLConnection object at 0x000002B5CC32A4C0>\n"
     ]
    }
   ],
   "source": [
    "#code to connect MySQL to python\n",
    "import mysql.connector\n",
    "\n",
    "mydb = mysql.connector.connect(host = \"localhost\" ,user = \"dhyan\" ,password = \"pswd\")\n",
    "print(mydb)\n",
    "mycur = mydb.cursor()"
   ]
  },
  {
   "cell_type": "code",
   "execution_count": 26,
   "id": "d86e5994",
   "metadata": {},
   "outputs": [
    {
     "name": "stdout",
     "output_type": "stream",
     "text": [
      "(1, 'Dhyan', 24)\n",
      "(2, 'Vedant', 30)\n"
     ]
    }
   ],
   "source": [
    "mycur.execute('SELECT * FROM testdb.table1')\n",
    "for i in mycur.fetchall():\n",
    "    print(i)"
   ]
  },
  {
   "cell_type": "code",
   "execution_count": 27,
   "id": "8db1f047",
   "metadata": {},
   "outputs": [],
   "source": [
    "mydb.close()"
   ]
  },
  {
   "cell_type": "markdown",
   "id": "28103861",
   "metadata": {},
   "source": [
    "7. Give the order of execution of SQL clauses in an SQL query."
   ]
  },
  {
   "cell_type": "markdown",
   "id": "0bf01e61",
   "metadata": {},
   "source": [
    "**Ans: The order of execution of SQL Clauses in an SQL Query is:**  \n",
    "1. **FROM/JOIN: The FROM and/or JOIN clauses are executed first to determine the data of interest.**\n",
    "\n",
    "2. **WHERE: The WHERE clause is executed to filter out records that do not meet the constraints.**\n",
    "\n",
    "3. **GROUP BY: The GROUP BY clause is executed to group the data based on the values in one or more columns.**\n",
    "\n",
    "4. **HAVING: The HAVING clause is executed to remove the created grouped records that don’t meet the constraints.**\n",
    "\n",
    "5. **SELECT: The SELECT clause is executed to derive all desired columns and expressions.**\n",
    "\n",
    "6. **ORDER BY: The ORDER BY clause is executed to sort the derived values in ascending or descending order.**\n",
    "\n",
    "7. **LIMIT/OFFSET: Finally, the LIMIT and/or OFFSET clauses are executed to keep or skip a specified number of rows.**\n"
   ]
  },
  {
   "cell_type": "code",
   "execution_count": null,
   "id": "b30d927d",
   "metadata": {},
   "outputs": [],
   "source": []
  }
 ],
 "metadata": {
  "kernelspec": {
   "display_name": "Python 3 (ipykernel)",
   "language": "python",
   "name": "python3"
  },
  "language_info": {
   "codemirror_mode": {
    "name": "ipython",
    "version": 3
   },
   "file_extension": ".py",
   "mimetype": "text/x-python",
   "name": "python",
   "nbconvert_exporter": "python",
   "pygments_lexer": "ipython3",
   "version": "3.9.13"
  }
 },
 "nbformat": 4,
 "nbformat_minor": 5
}
