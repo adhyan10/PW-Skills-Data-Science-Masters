{
 "cells": [
  {
   "cell_type": "markdown",
   "id": "e9facfd6",
   "metadata": {},
   "source": [
    "## Youtube Scraper"
   ]
  },
  {
   "cell_type": "markdown",
   "id": "0d24534c",
   "metadata": {},
   "source": [
    "Q1. Write a python program to extract the video URL of the first five videos.\n",
    "\n",
    "Q2. Write a python program to extract the URL of the video thumbnails of the first five videos.\n",
    "\n",
    "Q3. Write a python program to extract the title of the first five videos.\n",
    "\n",
    "Q4. Write a python program to extract the number of views of the first five videos.\n",
    "\n",
    "Q5. Write a python program to extract the time of posting of video for the first five videos."
   ]
  },
  {
   "cell_type": "code",
   "execution_count": 1,
   "id": "36ca70b1",
   "metadata": {},
   "outputs": [],
   "source": [
    "#importing the libraries\n",
    "\n",
    "import requests\n",
    "from selenium import webdriver\n",
    "from bs4 import BeautifulSoup as bs\n",
    "from urllib.request import urlopen\n",
    "import pandas as pd\n",
    "import time\n",
    "import xlsxwriter"
   ]
  },
  {
   "cell_type": "code",
   "execution_count": 2,
   "id": "cf9b5e3f",
   "metadata": {},
   "outputs": [],
   "source": [
    "site_url = \"https://www.youtube.com/@PW-Foundation/videos\""
   ]
  },
  {
   "cell_type": "code",
   "execution_count": 3,
   "id": "1ffac8fe",
   "metadata": {},
   "outputs": [],
   "source": [
    "header = {\"User-Agent\" : \"Mozilla/5.0 (Windows NT 10.0; Win64; x64) AppleWebKit/537.36 (KHTML, like Gecko) Chrome/110.0.0.0 Safari/537.36\"}"
   ]
  },
  {
   "cell_type": "code",
   "execution_count": 4,
   "id": "7fc62e27",
   "metadata": {},
   "outputs": [],
   "source": [
    "response = requests.get(site_url,headers = header)"
   ]
  },
  {
   "cell_type": "code",
   "execution_count": 5,
   "id": "14a52f3d",
   "metadata": {},
   "outputs": [
    {
     "data": {
      "text/plain": [
       "<Response [200]>"
      ]
     },
     "execution_count": 5,
     "metadata": {},
     "output_type": "execute_result"
    }
   ],
   "source": [
    "response"
   ]
  },
  {
   "cell_type": "code",
   "execution_count": 6,
   "id": "6301a94e",
   "metadata": {},
   "outputs": [],
   "source": [
    "driver = webdriver.Chrome()\n",
    "#driver.get(site_url)\n",
    "driver.get('{}/videos?view=0&sort=p&flow=grid'.format(site_url))\n",
    "\n",
    "#scrolling the page so we get more of the video thumbnails\n",
    "\n",
    "times = 0\n",
    "while times < 5 :\n",
    "    time.sleep(1)\n",
    "    driver.execute_script(\"window.scrollTo(0, document.documentElement.scrollHeight);\")\n",
    "    times+=1\n",
    "page_content = driver.page_source\n",
    "soup = bs(page_content, 'lxml')"
   ]
  },
  {
   "cell_type": "code",
   "execution_count": 7,
   "id": "d4beb3c2",
   "metadata": {},
   "outputs": [],
   "source": [
    "title_col,vidurl_col,thumbnail_col,views_col,time_col = [],[],[],[],[]    "
   ]
  },
  {
   "cell_type": "markdown",
   "id": "973c7ea9",
   "metadata": {},
   "source": [
    "### Getting the video urls:"
   ]
  },
  {
   "cell_type": "code",
   "execution_count": 8,
   "id": "b9a32a9e",
   "metadata": {},
   "outputs": [],
   "source": [
    "titles = soup.find_all(\"a\",id = \"video-title-link\")"
   ]
  },
  {
   "cell_type": "code",
   "execution_count": 9,
   "id": "b2fd2ea2",
   "metadata": {},
   "outputs": [
    {
     "name": "stdout",
     "output_type": "stream",
     "text": [
      "Page scrolled to its limit\n"
     ]
    }
   ],
   "source": [
    "try:\n",
    "    for url in titles:\n",
    "        completed_url = \"https://www.youtube.com/\" + url.get(\"href\")\n",
    "        vidurl_col.append(completed_url)\n",
    "except TypeError:\n",
    "    print(\"Page scrolled to its limit\")"
   ]
  },
  {
   "cell_type": "code",
   "execution_count": 10,
   "id": "27ef588c",
   "metadata": {},
   "outputs": [
    {
     "data": {
      "text/plain": [
       "['https://www.youtube.com//watch?v=S0RySN5arvk',\n",
       " 'https://www.youtube.com//watch?v=HzBhwxMrt8A',\n",
       " 'https://www.youtube.com//watch?v=60_B3haKADw',\n",
       " 'https://www.youtube.com//watch?v=46CNHP9wBAs',\n",
       " 'https://www.youtube.com//watch?v=1Wk5gJtZ2sQ']"
      ]
     },
     "execution_count": 10,
     "metadata": {},
     "output_type": "execute_result"
    }
   ],
   "source": [
    "#First 5 video urls\n",
    "vidurl_col[:5]"
   ]
  },
  {
   "cell_type": "markdown",
   "id": "78790355",
   "metadata": {},
   "source": [
    "### Getting the title of the video:"
   ]
  },
  {
   "cell_type": "code",
   "execution_count": 11,
   "id": "e997798b",
   "metadata": {},
   "outputs": [],
   "source": [
    "try:\n",
    "    for title in titles:\n",
    "        title_col.append(title.text)\n",
    "except TypeError:\n",
    "    print(\"Page scrolled to its limit\")"
   ]
  },
  {
   "cell_type": "code",
   "execution_count": 12,
   "id": "2df42dd1",
   "metadata": {},
   "outputs": [
    {
     "data": {
      "text/plain": [
       "['Benefits of Choosing Commerce After 10th | Commerce क्यों लेना चाहिए? | CBSE | ICSE | State Boards',\n",
       " 'Complete 𝗖𝗔𝗥𝗕𝗢𝗡 𝗔𝗡𝗗 𝗜𝗧𝗦 𝗖𝗢𝗠𝗣𝗢𝗨𝗡𝗗𝗦 in 90 Minutes | Class 10th Board Exam',\n",
       " 'Complete 𝗠𝗘𝗧𝗔𝗟𝗦 & 𝗡𝗢𝗡 𝗠𝗘𝗧𝗔𝗟𝗦  in 120 Minutes | Class 10th Board Exam',\n",
       " 'Complete 𝗔𝗖𝗜𝗗, 𝗕𝗔𝗦𝗘𝗦 𝗔𝗡𝗗 𝗦𝗔𝗟𝗧 in 110 Minutes | Class 10th Board Exam',\n",
       " 'Complete 𝗖𝗛𝗘𝗠𝗜𝗖𝗔𝗟 𝗥𝗘𝗔𝗖𝗧𝗜𝗢𝗡  in 90 Minutes | Class 10th Board Exam']"
      ]
     },
     "execution_count": 12,
     "metadata": {},
     "output_type": "execute_result"
    }
   ],
   "source": [
    "# first 5 video titles:\n",
    "title_col[:5]"
   ]
  },
  {
   "cell_type": "markdown",
   "id": "9f04649a",
   "metadata": {},
   "source": [
    "### Getting the thumbnail urls:"
   ]
  },
  {
   "cell_type": "code",
   "execution_count": 13,
   "id": "d0a609dd",
   "metadata": {},
   "outputs": [],
   "source": [
    "thmbnails = soup.find_all(\"img\",class_ = \"yt-core-image--fill-parent-height yt-core-image--fill-parent-width yt-core-image yt-core-image--content-mode-scale-aspect-fill yt-core-image--loaded\")"
   ]
  },
  {
   "cell_type": "code",
   "execution_count": 14,
   "id": "768ba34c",
   "metadata": {},
   "outputs": [],
   "source": [
    "try:\n",
    "    for src in thmbnails:\n",
    "        thumbnail_col.append(src.get(\"src\"))\n",
    "except Exception as e:\n",
    "    print(e)"
   ]
  },
  {
   "cell_type": "code",
   "execution_count": 15,
   "id": "431339b0",
   "metadata": {},
   "outputs": [
    {
     "data": {
      "text/plain": [
       "['https://i.ytimg.com/vi/S0RySN5arvk/hqdefault.jpg?sqp=-oaymwEcCNACELwBSFXyq4qpAw4IARUAAIhCGAFwAcABBg==&rs=AOn4CLBOhnoOmjXFZyCKcKSm5Q-ZERlrZQ',\n",
       " 'https://i.ytimg.com/vi/HzBhwxMrt8A/hqdefault.jpg?sqp=-oaymwEcCNACELwBSFXyq4qpAw4IARUAAIhCGAFwAcABBg==&rs=AOn4CLDxv8xtxXYKf6Zn58zMFt2mqVTTZw',\n",
       " 'https://i.ytimg.com/vi/60_B3haKADw/hqdefault.jpg?sqp=-oaymwEcCNACELwBSFXyq4qpAw4IARUAAIhCGAFwAcABBg==&rs=AOn4CLA9baY1YtDSZafi5-Ej4K4ehDrL_A',\n",
       " 'https://i.ytimg.com/vi/46CNHP9wBAs/hqdefault.jpg?sqp=-oaymwEcCNACELwBSFXyq4qpAw4IARUAAIhCGAFwAcABBg==&rs=AOn4CLBjvT3nT1waDnGZ0G3r-csPJeQF9w',\n",
       " 'https://i.ytimg.com/vi/LAsPxV5xZ58/hqdefault.jpg?sqp=-oaymwEcCNACELwBSFXyq4qpAw4IARUAAIhCGAFwAcABBg==&rs=AOn4CLATnaGioDraDOqE9BfdzyeJEXwEhw']"
      ]
     },
     "execution_count": 15,
     "metadata": {},
     "output_type": "execute_result"
    }
   ],
   "source": [
    "# First 5 thumbnail urls:\n",
    "thumbnail_col[:5]"
   ]
  },
  {
   "cell_type": "markdown",
   "id": "5c773c15",
   "metadata": {},
   "source": [
    "### Getting the views  and time of the videos:"
   ]
  },
  {
   "cell_type": "code",
   "execution_count": 16,
   "id": "dc5d53b7",
   "metadata": {},
   "outputs": [],
   "source": [
    "views_and_time = soup.find_all(\"span\",class_ = \"inline-metadata-item style-scope ytd-video-meta-block\")"
   ]
  },
  {
   "cell_type": "code",
   "execution_count": 17,
   "id": "4b505054",
   "metadata": {},
   "outputs": [],
   "source": [
    "temp_list = []"
   ]
  },
  {
   "cell_type": "code",
   "execution_count": 18,
   "id": "80a3625e",
   "metadata": {},
   "outputs": [],
   "source": [
    "for item in views_and_time:\n",
    "    temp_list.append(item.text)\n",
    "    "
   ]
  },
  {
   "cell_type": "code",
   "execution_count": 19,
   "id": "a1e7203a",
   "metadata": {},
   "outputs": [],
   "source": [
    "views_col = temp_list[::2]\n",
    "time_col = temp_list[1::2]"
   ]
  },
  {
   "cell_type": "code",
   "execution_count": 20,
   "id": "cae70606",
   "metadata": {},
   "outputs": [
    {
     "data": {
      "text/plain": [
       "['11K views', '37K views', '20K views', '17K views', '26K views']"
      ]
     },
     "execution_count": 20,
     "metadata": {},
     "output_type": "execute_result"
    }
   ],
   "source": [
    "#Views of first 5 videos:\n",
    "views_col[0:5]"
   ]
  },
  {
   "cell_type": "code",
   "execution_count": 21,
   "id": "1e4ee847",
   "metadata": {},
   "outputs": [
    {
     "data": {
      "text/plain": [
       "['5 hours ago', '2 days ago', '2 days ago', '3 days ago', '3 days ago']"
      ]
     },
     "execution_count": 21,
     "metadata": {},
     "output_type": "execute_result"
    }
   ],
   "source": [
    "#time of the first 5 videos\n",
    "time_col[0:5]"
   ]
  },
  {
   "cell_type": "markdown",
   "id": "93f098f6",
   "metadata": {},
   "source": [
    "### writing the data into an eexcel sheet"
   ]
  },
  {
   "cell_type": "code",
   "execution_count": 22,
   "id": "0f2b7787",
   "metadata": {},
   "outputs": [],
   "source": [
    "\n",
    "workbook = xlsxwriter.Workbook('pw_file.xlsx')\n",
    "worksheet = workbook.add_worksheet()\n",
    "  \n",
    "worksheet.write(0, 0, \"Title\")\n",
    "worksheet.write(0, 1, \"video URL\")\n",
    "worksheet.write(0, 2, \"Views\")\n",
    "worksheet.write(0,3,\"Time\")\n",
    "worksheet.write(0,4,\"Thumbnail URL\")\n",
    "  \n",
    "row = 1\n",
    "for title, vid_url, view,utime,thumb_url in zip(title_col,vidurl_col,views_col,time_col,thumbnail_col):\n",
    "    worksheet.write(row, 0, title)\n",
    "    worksheet.write(row, 1, vid_url)\n",
    "    worksheet.write(row, 2, view)\n",
    "    worksheet.write(row,3,utime)\n",
    "    worksheet.write(row,4,thumb_url)\n",
    "    row += 1\n",
    "  \n",
    "workbook.close()"
   ]
  },
  {
   "cell_type": "code",
   "execution_count": null,
   "id": "7afb58a6",
   "metadata": {},
   "outputs": [],
   "source": []
  }
 ],
 "metadata": {
  "kernelspec": {
   "display_name": "Python 3 (ipykernel)",
   "language": "python",
   "name": "python3"
  },
  "language_info": {
   "codemirror_mode": {
    "name": "ipython",
    "version": 3
   },
   "file_extension": ".py",
   "mimetype": "text/x-python",
   "name": "python",
   "nbconvert_exporter": "python",
   "pygments_lexer": "ipython3",
   "version": "3.9.13"
  }
 },
 "nbformat": 4,
 "nbformat_minor": 5
}
