{
 "cells": [
  {
   "cell_type": "markdown",
   "id": "22861659",
   "metadata": {},
   "source": [
    "## OOPs Task"
   ]
  },
  {
   "cell_type": "markdown",
   "id": "b756096d",
   "metadata": {},
   "source": [
    "1. Create a vehicle class with an init method having instance variables as name_of_vehicle, max_speed\n",
    "and average_of_vehicle. "
   ]
  },
  {
   "cell_type": "code",
   "execution_count": 1,
   "id": "0299327f",
   "metadata": {},
   "outputs": [],
   "source": [
    "class vehicle:\n",
    "    \n",
    "    def __init__(self,name_of_vehicle,max_speed,average_of_vehicle):\n",
    "        self.name_of_vehicle = name_of_vehicle\n",
    "        self.max_speed = max_speed\n",
    "        self.average_of_vehicle = average_of_vehicle\n",
    "        "
   ]
  },
  {
   "cell_type": "code",
   "execution_count": 2,
   "id": "bd2c5ca8",
   "metadata": {},
   "outputs": [
    {
     "data": {
      "text/plain": [
       "'Yamaha mt 15'"
      ]
     },
     "execution_count": 2,
     "metadata": {},
     "output_type": "execute_result"
    }
   ],
   "source": [
    "bike1 = vehicle(\"Yamaha mt 15\",130,56.87)\n",
    "bike1.name_of_vehicle"
   ]
  },
  {
   "cell_type": "markdown",
   "id": "d42c951c",
   "metadata": {},
   "source": [
    "2.  Create a child class car from the vehicle class created in Que 1, which will inherit the vehicle class.\n",
    "Create a method named seating_capacity which takes capacity as an argument and returns the name of\n",
    "the vehicle and its seating capacity."
   ]
  },
  {
   "cell_type": "code",
   "execution_count": 3,
   "id": "0e6b8878",
   "metadata": {},
   "outputs": [],
   "source": [
    "class car(vehicle):\n",
    "    \n",
    "    def seating_capacity(self,capacity):\n",
    "        return self.name_of_vehicle , capacity"
   ]
  },
  {
   "cell_type": "code",
   "execution_count": 4,
   "id": "edbc848e",
   "metadata": {},
   "outputs": [],
   "source": [
    "thar = car(\"Mahindra Thar\",155, 15.2)"
   ]
  },
  {
   "cell_type": "code",
   "execution_count": 5,
   "id": "eab0bbba",
   "metadata": {},
   "outputs": [
    {
     "data": {
      "text/plain": [
       "('Mahindra Thar', 4)"
      ]
     },
     "execution_count": 5,
     "metadata": {},
     "output_type": "execute_result"
    }
   ],
   "source": [
    "thar.seating_capacity(4)"
   ]
  },
  {
   "cell_type": "code",
   "execution_count": 6,
   "id": "5503a1f4",
   "metadata": {},
   "outputs": [
    {
     "name": "stdout",
     "output_type": "stream",
     "text": [
      "Mahindra Thar has a seating capacity of 4\n"
     ]
    }
   ],
   "source": [
    "name,capacity =thar.seating_capacity(4)\n",
    "print(f\"{name} has a seating capacity of {capacity}\")"
   ]
  },
  {
   "cell_type": "markdown",
   "id": "4f59af6f",
   "metadata": {},
   "source": [
    "3.  What is multiple inheritance? Write a python code to demonstrate multiple inheritance."
   ]
  },
  {
   "cell_type": "markdown",
   "id": "66102c4c",
   "metadata": {},
   "source": [
    "**Ans: Inheritence is a property of Object Oriented Progamming language that allows classes to inhert properties and data  \n",
    "from other classes and creating a hierarchy of the classes.**  \n",
    "**Multiple inheritence: Multiple inheritence allows a single class to inherit data and behaviour from multiple classes.**  \n",
    "**Example can be considered of a child inheriting from both his parents i.e. mother and father.**  "
   ]
  },
  {
   "cell_type": "code",
   "execution_count": 7,
   "id": "3886cdec",
   "metadata": {},
   "outputs": [],
   "source": [
    "# Example of multiple inheritence\n",
    "\n",
    "class land_habitat:\n",
    "    def walking(self):\n",
    "        print(\"I can walk on land.\")\n",
    "class water_habitat:\n",
    "    def swimming(self):\n",
    "        print(\"I can swin in water.\")\n",
    "class amphibians(land_habitat,water_habitat):\n",
    "    #frogs ,salamanders\n",
    "    pass"
   ]
  },
  {
   "cell_type": "code",
   "execution_count": 8,
   "id": "ab3f29a0",
   "metadata": {},
   "outputs": [
    {
     "name": "stdout",
     "output_type": "stream",
     "text": [
      "I can walk on land.\n",
      "I can swin in water.\n"
     ]
    }
   ],
   "source": [
    "frog1 = amphibians()\n",
    "frog1.walking()\n",
    "frog1.swimming()"
   ]
  },
  {
   "cell_type": "markdown",
   "id": "3d9f05d7",
   "metadata": {},
   "source": [
    "4.  What are getter and setter in python? Create a class and create a getter and a setter method in this class."
   ]
  },
  {
   "cell_type": "markdown",
   "id": "4ead0092",
   "metadata": {},
   "source": [
    "**Ans:Private variables in python are not actually hidden fields like in other object oriented languages. Getters and Setters in python are often used when:**  \n",
    "\n",
    "**We use getters & setters to add validation logic around getting and setting a value.**    \n",
    "**To avoid direct access of a class field i.e. private variables cannot be accessed directly or modified by external user.**    \n",
    "\n",
    "**Python @property is one of the built-in decorators that allows to use gettters ,setters and deleters for private and  \n",
    "protected variables.**  \n",
    "\n",
    "**getter: It is used to access the private attributes in the class object.**  \n",
    "**setter: It is used to set or update private attributes in a class object.**  \n",
    "**deleter: It is used to delete private attributes.**   "
   ]
  },
  {
   "cell_type": "code",
   "execution_count": 9,
   "id": "39bb32fe",
   "metadata": {},
   "outputs": [],
   "source": [
    "class person:\n",
    "    \n",
    "    def __init__(self,name,age):\n",
    "        self.name = name\n",
    "        self.__age = age\n",
    "    @property\n",
    "    def age_access(self):\n",
    "        return self.__age\n",
    "    \n",
    "    @age_access.setter\n",
    "    def age_setter(self,new_age):\n",
    "        if new_age > 18:\n",
    "            self.__age = new_age\n",
    "    @age_access.deleter\n",
    "    def age_del(self):\n",
    "        del self.__age\n",
    "    "
   ]
  },
  {
   "cell_type": "code",
   "execution_count": 10,
   "id": "cc7f2b56",
   "metadata": {},
   "outputs": [],
   "source": [
    "p1 = person(\"Dhyan\",24)"
   ]
  },
  {
   "cell_type": "code",
   "execution_count": 11,
   "id": "8b3dc0ca",
   "metadata": {},
   "outputs": [
    {
     "data": {
      "text/plain": [
       "24"
      ]
     },
     "execution_count": 11,
     "metadata": {},
     "output_type": "execute_result"
    }
   ],
   "source": [
    "p1.age_access"
   ]
  },
  {
   "cell_type": "code",
   "execution_count": 12,
   "id": "4748d37c",
   "metadata": {},
   "outputs": [
    {
     "data": {
      "text/plain": [
       "25"
      ]
     },
     "execution_count": 12,
     "metadata": {},
     "output_type": "execute_result"
    }
   ],
   "source": [
    "p1.age_setter = 25\n",
    "p1.age_access"
   ]
  },
  {
   "cell_type": "code",
   "execution_count": 13,
   "id": "a1a13773",
   "metadata": {},
   "outputs": [
    {
     "ename": "AttributeError",
     "evalue": "'person' object has no attribute '_person__age'",
     "output_type": "error",
     "traceback": [
      "\u001b[1;31m---------------------------------------------------------------------------\u001b[0m",
      "\u001b[1;31mAttributeError\u001b[0m                            Traceback (most recent call last)",
      "\u001b[1;32m~\\AppData\\Local\\Temp\\ipykernel_2432\\3520440114.py\u001b[0m in \u001b[0;36m<module>\u001b[1;34m\u001b[0m\n\u001b[0;32m      1\u001b[0m \u001b[1;32mdel\u001b[0m \u001b[0mp1\u001b[0m\u001b[1;33m.\u001b[0m\u001b[0mage_del\u001b[0m\u001b[1;33m\u001b[0m\u001b[1;33m\u001b[0m\u001b[0m\n\u001b[1;32m----> 2\u001b[1;33m \u001b[0mp1\u001b[0m\u001b[1;33m.\u001b[0m\u001b[0mage_access\u001b[0m\u001b[1;33m\u001b[0m\u001b[1;33m\u001b[0m\u001b[0m\n\u001b[0m",
      "\u001b[1;32m~\\AppData\\Local\\Temp\\ipykernel_2432\\3860369275.py\u001b[0m in \u001b[0;36mage_access\u001b[1;34m(self)\u001b[0m\n\u001b[0;32m      6\u001b[0m     \u001b[1;33m@\u001b[0m\u001b[0mproperty\u001b[0m\u001b[1;33m\u001b[0m\u001b[1;33m\u001b[0m\u001b[0m\n\u001b[0;32m      7\u001b[0m     \u001b[1;32mdef\u001b[0m \u001b[0mage_access\u001b[0m\u001b[1;33m(\u001b[0m\u001b[0mself\u001b[0m\u001b[1;33m)\u001b[0m\u001b[1;33m:\u001b[0m\u001b[1;33m\u001b[0m\u001b[1;33m\u001b[0m\u001b[0m\n\u001b[1;32m----> 8\u001b[1;33m         \u001b[1;32mreturn\u001b[0m \u001b[0mself\u001b[0m\u001b[1;33m.\u001b[0m\u001b[0m__age\u001b[0m\u001b[1;33m\u001b[0m\u001b[1;33m\u001b[0m\u001b[0m\n\u001b[0m\u001b[0;32m      9\u001b[0m \u001b[1;33m\u001b[0m\u001b[0m\n\u001b[0;32m     10\u001b[0m     \u001b[1;33m@\u001b[0m\u001b[0mage_access\u001b[0m\u001b[1;33m.\u001b[0m\u001b[0msetter\u001b[0m\u001b[1;33m\u001b[0m\u001b[1;33m\u001b[0m\u001b[0m\n",
      "\u001b[1;31mAttributeError\u001b[0m: 'person' object has no attribute '_person__age'"
     ]
    }
   ],
   "source": [
    "del p1.age_del\n",
    "p1.age_access"
   ]
  },
  {
   "cell_type": "markdown",
   "id": "5bc24255",
   "metadata": {},
   "source": [
    "5. What is method overriding in python? Write a python code to demonstrate method overriding."
   ]
  },
  {
   "cell_type": "markdown",
   "id": "80a64b49",
   "metadata": {},
   "source": [
    "**Ans: Method overriding is an ability of any object-oriented programming language that allows a subclass or child class to provide a specific implementation of a method that is already provided by one of its super-classes or parent classes. When a method in a subclass has the same name, same parameters or signature and same return type(or sub-type) as a method in \n",
    "its super-class, then the method in the subclass is said to override the method in the super-class.**  \n",
    "\n",
    "**The version of a method that is executed will be determined by the object that is used to invoke it. If an object of a   \n",
    "parent class is used to invoke the method, then the version in the parent class will be executed, but if an object of the   subclass is used to invoke the method, then the version in the child class will be executed. In other words, it is the   \n",
    "type of the object being referred to (not the type of the reference variable) that determines which version of an overridden   method will be executed.**    \n",
    "\n"
   ]
  },
  {
   "cell_type": "code",
   "execution_count": 14,
   "id": "2232d059",
   "metadata": {},
   "outputs": [],
   "source": [
    "class parent:\n",
    "    \n",
    "    def common_met(self):\n",
    "        print(\"This is common method with same name from parent class\")"
   ]
  },
  {
   "cell_type": "code",
   "execution_count": 15,
   "id": "aac60605",
   "metadata": {},
   "outputs": [],
   "source": [
    "class child(parent):\n",
    "    \n",
    "    def common_met(self,name):\n",
    "        print(f\"\"\"This is from common method with same name but different implementation and \n",
    "              one parameter called name with value: {name}\"\"\")"
   ]
  },
  {
   "cell_type": "code",
   "execution_count": 16,
   "id": "9953208e",
   "metadata": {},
   "outputs": [],
   "source": [
    "child1 = child()"
   ]
  },
  {
   "cell_type": "code",
   "execution_count": 17,
   "id": "a4209094",
   "metadata": {},
   "outputs": [
    {
     "name": "stdout",
     "output_type": "stream",
     "text": [
      "This is from common method with same name but different implementation and \n",
      "              one parameter called name with value: Dhyan\n"
     ]
    }
   ],
   "source": [
    "child1.common_met(\"Dhyan\")"
   ]
  },
  {
   "cell_type": "code",
   "execution_count": 18,
   "id": "3c66776c",
   "metadata": {},
   "outputs": [
    {
     "name": "stdout",
     "output_type": "stream",
     "text": [
      "This is common method with same name from parent class\n"
     ]
    }
   ],
   "source": [
    "parent1 = parent()\n",
    "parent1.common_met()"
   ]
  },
  {
   "cell_type": "code",
   "execution_count": null,
   "id": "00fd4721",
   "metadata": {},
   "outputs": [],
   "source": []
  }
 ],
 "metadata": {
  "kernelspec": {
   "display_name": "Python 3 (ipykernel)",
   "language": "python",
   "name": "python3"
  },
  "language_info": {
   "codemirror_mode": {
    "name": "ipython",
    "version": 3
   },
   "file_extension": ".py",
   "mimetype": "text/x-python",
   "name": "python",
   "nbconvert_exporter": "python",
   "pygments_lexer": "ipython3",
   "version": "3.9.13"
  }
 },
 "nbformat": 4,
 "nbformat_minor": 5
}
