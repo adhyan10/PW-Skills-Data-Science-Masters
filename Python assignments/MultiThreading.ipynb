{
 "cells": [
  {
   "cell_type": "markdown",
   "id": "078312fd",
   "metadata": {},
   "source": [
    "## MultiThreading"
   ]
  },
  {
   "cell_type": "markdown",
   "id": "3c1ac13b",
   "metadata": {},
   "source": [
    "1.  What is multithreading in python? Why is it used? Name the module used to handle threads in python."
   ]
  },
  {
   "cell_type": "markdown",
   "id": "1eff6200",
   "metadata": {},
   "source": [
    "**Ans: Multithreading is a way to achieve multitasking by using the concept of threads.**  \n",
    "**In computing, a process is an instance of a computer program that is being executed. Any process has 3 basic components:**  \n",
    "\n",
    "1. **An executable program.**\n",
    "2. **The associated data needed by the program (variables, work space, buffers, etc.)**\n",
    "3. **The execution context of the program (State of process)**\n",
    "\n",
    "**A thread is an entity within a process that can be scheduled for execution. Also, it is the smallest unit of processing that can be performed in an OS (Operating System). In simple words, a thread is a sequence of such instructions within a program that can be executed independently of other code. For simplicity, you can assume that a thread is simply a subset of a process! A thread contains all this information in a Thread Control Block (TCB).**  \n",
    "<br>\n",
    "**Multi-threading: Multiple threads can exist within one process where:**  \n",
    "\n",
    "1. **Each thread contains its own register set and local variables (stored in stack).**\n",
    "2. **All threads of a process share global variables (stored in heap) and the program code.**\n",
    "\n",
    "**The threading module is used in python to use multithreading.**  \n",
    "**syntax: import threading**\n"
   ]
  },
  {
   "cell_type": "markdown",
   "id": "5fd9aa8d",
   "metadata": {},
   "source": [
    "2.Why threading module used? Write the use of the following functions:\n",
    "1. activeCount()\n",
    "2. currentThread()\n",
    "3. enumerate()"
   ]
  },
  {
   "cell_type": "markdown",
   "id": "2999479a",
   "metadata": {},
   "source": [
    "Ans:  The threading module is used to perform multi-threading in python.  \n",
    "1. activeCount() : activeCount() or active_count() is used to count the currently active or running threads.\n",
    "2. currentThread() :currentThread() or current_thread() is used to return the current Thread object, which corresponds to the caller's thread of control.\n",
    "3. enumerate() : threading.enumerate() returns the list of all thread objects that are currently alive."
   ]
  },
  {
   "cell_type": "code",
   "execution_count": 1,
   "id": "3c73d7f3",
   "metadata": {},
   "outputs": [],
   "source": [
    "import threading\n",
    "import time"
   ]
  },
  {
   "cell_type": "code",
   "execution_count": 2,
   "id": "3314d64b",
   "metadata": {},
   "outputs": [
    {
     "name": "stdout",
     "output_type": "stream",
     "text": [
      "100\n",
      "Active threads :7\n",
      "400\n",
      "Active threads :8\n",
      "900\n",
      "Active threads :9\n",
      "1600\n",
      "Active threads :10\n"
     ]
    }
   ],
   "source": [
    "#activeCount() example\n",
    "def square(x):\n",
    "    print(x**2)\n",
    "    print(f\"Active threads :{threading.activeCount()}\")\n",
    "    time.sleep(2)\n",
    "    \n",
    "threads = [(threading.Thread(target=square,args = (i,))) for i in [10,20,30,40]]\n",
    "for t in threads:\n",
    "    t.start()"
   ]
  },
  {
   "cell_type": "code",
   "execution_count": 5,
   "id": "b7eada43",
   "metadata": {},
   "outputs": [
    {
     "name": "stdout",
     "output_type": "stream",
     "text": [
      "100\n",
      "Current thread :<Thread(Thread-17, started 18640)>\n",
      "400\n",
      "Current thread :<Thread(Thread-18, started 20324)>\n",
      "900\n",
      "Current thread :<Thread(Thread-19, started 23352)>\n",
      "1600\n",
      "Current thread :<Thread(Thread-20, started 5592)>\n"
     ]
    }
   ],
   "source": [
    "#currentThread() example\n",
    "def square(x):\n",
    "    print(x**2)\n",
    "    print(f\"Current thread :{threading.currentThread()}\")\n",
    "    time.sleep(2)\n",
    "    \n",
    "threads = [(threading.Thread(target=square,args = (i,))) for i in [10,20,30,40]]\n",
    "for t in threads:\n",
    "    t.start()"
   ]
  },
  {
   "cell_type": "code",
   "execution_count": 4,
   "id": "d16878a1",
   "metadata": {},
   "outputs": [
    {
     "name": "stdout",
     "output_type": "stream",
     "text": [
      "100400\n",
      "List of all Active threads :[<_MainThread(MainThread, started 14940)>, <Thread(IOPub, started daemon 21852)>, <Heartbeat(Heartbeat, started daemon 14964)>, <ControlThread(Control, started daemon 9648)>, <HistorySavingThread(IPythonHistorySavingThread, started 16556)>, <ParentPollerWindows(Thread-4, started daemon 15856)>, <Thread(Thread-9, started 9228)>, <Thread(Thread-10, started 4728)>, <Thread(Thread-11, started 10180)>, <Thread(Thread-12, started 7992)>, <Thread(Thread-13, started 4236)>, <Thread(Thread-14, started 10740)>]\n",
      "\n",
      "List of all Active threads :[<_MainThread(MainThread, started 14940)>, <Thread(IOPub, started daemon 21852)>, <Heartbeat(Heartbeat, started daemon 14964)>, <ControlThread(Control, started daemon 9648)>, <HistorySavingThread(IPythonHistorySavingThread, started 16556)>, <ParentPollerWindows(Thread-4, started daemon 15856)>, <Thread(Thread-9, started 9228)>, <Thread(Thread-10, started 4728)>, <Thread(Thread-11, started 10180)>, <Thread(Thread-12, started 7992)>, <Thread(Thread-13, started 4236)>, <Thread(Thread-14, started 10740)>, <Thread(Thread-15, initial)>]\n",
      "900\n",
      "List of all Active threads :[<_MainThread(MainThread, started 14940)>, <Thread(IOPub, started daemon 21852)>, <Heartbeat(Heartbeat, started daemon 14964)>, <ControlThread(Control, started daemon 9648)>, <HistorySavingThread(IPythonHistorySavingThread, started 16556)>, <ParentPollerWindows(Thread-4, started daemon 15856)>, <Thread(Thread-9, started 9228)>, <Thread(Thread-10, started 4728)>, <Thread(Thread-11, started 10180)>, <Thread(Thread-12, started 7992)>, <Thread(Thread-13, started 4236)>, <Thread(Thread-14, started 10740)>, <Thread(Thread-15, started 19392)>]\n",
      "1600\n",
      "List of all Active threads :[<_MainThread(MainThread, started 14940)>, <Thread(IOPub, started daemon 21852)>, <Heartbeat(Heartbeat, started daemon 14964)>, <ControlThread(Control, started daemon 9648)>, <HistorySavingThread(IPythonHistorySavingThread, started 16556)>, <ParentPollerWindows(Thread-4, started daemon 15856)>, <Thread(Thread-9, started 9228)>, <Thread(Thread-10, started 4728)>, <Thread(Thread-11, started 10180)>, <Thread(Thread-12, started 7992)>, <Thread(Thread-13, started 4236)>, <Thread(Thread-14, started 10740)>, <Thread(Thread-15, started 19392)>, <Thread(Thread-16, started 19576)>]\n"
     ]
    }
   ],
   "source": [
    "#enumerate() example\n",
    "def square(x):\n",
    "    print(x**2)\n",
    "    print(f\"List of all Active threads :{threading.enumerate()}\")\n",
    "    time.sleep(2)\n",
    "    \n",
    "threads = [(threading.Thread(target=square,args = (i,))) for i in [10,20,30,40]]\n",
    "for t in threads:\n",
    "    t.start()"
   ]
  },
  {
   "cell_type": "markdown",
   "id": "b5a4d12e",
   "metadata": {},
   "source": [
    "3. Explain the following functions:\n",
    "<br>\n",
    "\n",
    "    1. run()\n",
    "    2. start()\n",
    "    3. join()\n",
    "    4. isAlive()"
   ]
  },
  {
   "cell_type": "markdown",
   "id": "61123cbe",
   "metadata": {},
   "source": [
    "**Ans:**<br> \n",
    "**run(): This method is used to represent a thread's activity. It calls the method expressed as the target argument in the Thread object along with the positional and keyword arguments taken from the args and kwargs arguments, respectively.It returns NoneType.**  \n",
    "**The difference between run() and start() is that start() creates a new Thread and calls run() within that thread and on the other hand run() itself executes in the Thread it was called from.**  \n",
    "<br>\n",
    "**start():It is used to start a thread's activity. This method calls the run() method internally which then executes the target method. This method must be called at most one time for one thread.**  \n",
    "<br>\n",
    "**join(): Whenever this method is called for any Thread object, it blocks the calling thread till the time the thread whose join() method is called terminates, either normally or through an unhandled exception.**  \n",
    "**The join() method also takes a “timeout” argument that specifies how long the current thread is willing to wait for the target thread to terminate, in seconds.**  \n"
   ]
  },
  {
   "cell_type": "code",
   "execution_count": 6,
   "id": "5657f327",
   "metadata": {},
   "outputs": [
    {
     "name": "stdout",
     "output_type": "stream",
     "text": [
      "100\n",
      "Current thread :<_MainThread(MainThread, started 14940)>\n",
      "400\n",
      "Current thread :<_MainThread(MainThread, started 14940)>\n",
      "900\n",
      "Current thread :<_MainThread(MainThread, started 14940)>\n",
      "1600\n",
      "Current thread :<_MainThread(MainThread, started 14940)>\n"
     ]
    }
   ],
   "source": [
    "#run() example\n",
    "def cube(x):\n",
    "    print(x**3)\n",
    "    print(f\"Current thread :{threading.currentThread()}\")\n",
    "    time.sleep(2)\n",
    "    \n",
    "threads = [(threading.Thread(target=square,args = (i,))) for i in [10,20,30,40]]\n",
    "for t in threads:\n",
    "    t.run()"
   ]
  },
  {
   "cell_type": "markdown",
   "id": "b7ad4698",
   "metadata": {},
   "source": [
    "As you can see everything runs on the same thread when you use run() and does not create new thread."
   ]
  },
  {
   "cell_type": "code",
   "execution_count": 7,
   "id": "a6a3ddbb",
   "metadata": {},
   "outputs": [
    {
     "name": "stdout",
     "output_type": "stream",
     "text": [
      "100\n",
      "Current thread :<Thread(Thread-25, started 8576)>\n",
      "400\n",
      "Current thread :<Thread(Thread-26, started 3528)>\n",
      "900\n",
      "Current thread :<Thread(Thread-27, started 20404)>\n",
      "1600\n",
      "Current thread :<Thread(Thread-28, started 16656)>\n"
     ]
    }
   ],
   "source": [
    "#start() example\n",
    "def cube(x):\n",
    "    print(x**3)\n",
    "    print(f\"Current thread :{threading.currentThread()}\")\n",
    "    time.sleep(2)\n",
    "    \n",
    "threads = [(threading.Thread(target=square,args = (i,))) for i in [10,20,30,40]]\n",
    "for t in threads:\n",
    "    t.start()"
   ]
  },
  {
   "cell_type": "code",
   "execution_count": 8,
   "id": "d5d0175c",
   "metadata": {},
   "outputs": [
    {
     "name": "stdout",
     "output_type": "stream",
     "text": [
      "100\n",
      "Current thread :<Thread(Thread-29, started 6900)>\n",
      "400\n",
      "Current thread :<Thread(Thread-30, started 12968)>\n",
      "900\n",
      "Current thread :<Thread(Thread-31, started 5380)>\n",
      "1600\n",
      "Current thread :<Thread(Thread-32, started 22744)>\n"
     ]
    }
   ],
   "source": [
    "#join() example\n",
    "def cube(x):\n",
    "    print(x**3)\n",
    "    print(f\"Current thread :{threading.currentThread()}\")\n",
    "    time.sleep(2)\n",
    "    \n",
    "threads = [(threading.Thread(target=square,args = (i,))) for i in [10,20,30,40]]\n",
    "for t in threads:\n",
    "    t.start()\n",
    "    t.join()"
   ]
  },
  {
   "cell_type": "code",
   "execution_count": 9,
   "id": "b46d13b6",
   "metadata": {},
   "outputs": [
    {
     "name": "stdout",
     "output_type": "stream",
     "text": [
      "the value is 1\n",
      "the value is 2\n",
      "the value is 3\n",
      "\n",
      "the value is 3\n",
      "the value is 2\n",
      "the value is 1\n"
     ]
    }
   ],
   "source": [
    "#another join() example\n",
    "\n",
    "def func1(x):\n",
    "    time.sleep(5)\n",
    "    print(f\"the value is {x}\")\n",
    "\n",
    "def func2(x):\n",
    "    time.sleep(3)\n",
    "    print(f\"the value is {x}\")\n",
    "\n",
    "def func3(x):\n",
    "    time.sleep(1)\n",
    "    print(f\"the value is {x}\")\n",
    "    \n",
    "# Creating three sample threads \n",
    "thread1 = threading.Thread(target=func1, args=(1,))\n",
    "thread2 = threading.Thread(target=func2, args=(2,))\n",
    "thread3 = threading.Thread(target=func3, args=(3,))\n",
    "\n",
    "thread1.start()\n",
    "thread1.join()\n",
    "thread2.start()\n",
    "thread2.join()\n",
    "thread3.start()\n",
    "thread3.join()\n",
    "\n",
    "\n",
    "print()\n",
    "# Creating another 3 threads\n",
    "thread4 = threading.Thread(target=func1, args=(1,))\n",
    "thread5 = threading.Thread(target=func2, args=(2,))\n",
    "thread6 = threading.Thread(target=func3, args=(3,))\n",
    "\n",
    "thread4.start()\n",
    "thread5.start()\n",
    "thread6.start()\n",
    "thread4.join()\n",
    "thread5.join()\n",
    "thread6.join()"
   ]
  },
  {
   "cell_type": "markdown",
   "id": "556811d9",
   "metadata": {},
   "source": [
    "4. Write a python program to create two threads. Thread one must print the list of squares and thread two must print the list of cubes."
   ]
  },
  {
   "cell_type": "code",
   "execution_count": 10,
   "id": "08571284",
   "metadata": {},
   "outputs": [],
   "source": [
    "def power(x):\n",
    "    for i in range(1,11):\n",
    "        print(f\"{i} raised to {x} = {i**x}\")\n",
    "        time.sleep(1)"
   ]
  },
  {
   "cell_type": "code",
   "execution_count": 13,
   "id": "4a2821d3",
   "metadata": {},
   "outputs": [
    {
     "name": "stdout",
     "output_type": "stream",
     "text": [
      "1 raised to 2 = 1\n",
      "1 raised to 3 = 1\n",
      "2 raised to 3 = 82 raised to 2 = 4\n",
      "\n",
      "3 raised to 3 = 273 raised to 2 = 9\n",
      "\n",
      "4 raised to 3 = 644 raised to 2 = 16\n",
      "\n",
      "5 raised to 3 = 1255 raised to 2 = 25\n",
      "\n",
      "6 raised to 3 = 216\n",
      "6 raised to 2 = 36\n",
      "7 raised to 2 = 49\n",
      "7 raised to 3 = 343\n",
      "8 raised to 3 = 512\n",
      "8 raised to 2 = 64\n",
      "9 raised to 2 = 81\n",
      "9 raised to 3 = 729\n",
      "10 raised to 3 = 100010 raised to 2 = 100\n",
      "\n"
     ]
    }
   ],
   "source": [
    "#without join()\n",
    "threads2 = [(threading.Thread(target=power,args = (i,))) for i in [2,3]]\n",
    "\n",
    "for t in threads2:\n",
    "    t.start()"
   ]
  },
  {
   "cell_type": "code",
   "execution_count": 14,
   "id": "0cb3f8f3",
   "metadata": {},
   "outputs": [
    {
     "name": "stdout",
     "output_type": "stream",
     "text": [
      "1 raised to 2 = 1\n",
      "2 raised to 2 = 4\n",
      "3 raised to 2 = 9\n",
      "4 raised to 2 = 16\n",
      "5 raised to 2 = 25\n",
      "6 raised to 2 = 36\n",
      "7 raised to 2 = 49\n",
      "8 raised to 2 = 64\n",
      "9 raised to 2 = 81\n",
      "10 raised to 2 = 100\n",
      "1 raised to 3 = 1\n",
      "2 raised to 3 = 8\n",
      "3 raised to 3 = 27\n",
      "4 raised to 3 = 64\n",
      "5 raised to 3 = 125\n",
      "6 raised to 3 = 216\n",
      "7 raised to 3 = 343\n",
      "8 raised to 3 = 512\n",
      "9 raised to 3 = 729\n",
      "10 raised to 3 = 1000\n"
     ]
    }
   ],
   "source": [
    "#with join()\n",
    "threads2 = [(threading.Thread(target=power,args = (i,))) for i in [2,3]]\n",
    "\n",
    "for t in threads2:\n",
    "    t.start()\n",
    "    t.join()"
   ]
  },
  {
   "cell_type": "markdown",
   "id": "2c5c3704",
   "metadata": {},
   "source": [
    "5. State advantages and disadvantages of multithreading."
   ]
  },
  {
   "cell_type": "markdown",
   "id": "3f87feac",
   "metadata": {},
   "source": [
    "**Ans: Here are the main advantages of multithreading in python:**  \n",
    "<br>\n",
    "1. **Multithreading in Python streamlines the efficient utilization of resources as the threads share the same memory and data space.**\n",
    "2. **It also allows the concurrent appearance of multiple tasks and reduces the response time. This improves the performance.**\n",
    "3. **Simplified and streamlined program coding**\n",
    "4. **Simultaneous and concurrent occurrence of tasks**\n",
    "<br>\n",
    "**Disadvantages of multithreading in python:**\n",
    "<br>\n",
    "1. **When context switch happens it block process, as process is maintaining threads so threads also block.**\n",
    "2. **Multithreaded application cannot take advantage of multiprocessing.**\n",
    "3. **It can create problems like race conditions and resource deadlocks.**\n",
    "4. **Complex debugging and testing processes.**\n",
    "5. **Result is sometimes unpredictable.**\n",
    "\n"
   ]
  },
  {
   "cell_type": "markdown",
   "id": "1afbeeb7",
   "metadata": {},
   "source": [
    "6. Explain deadlocks and race conditions."
   ]
  },
  {
   "cell_type": "markdown",
   "id": "ece1c47f",
   "metadata": {},
   "source": [
    "**Ans: deadlock: When two processes/threads are waiting for each other directly or indirectly, it is called deadlock.**  \n",
    "<br>\n",
    "**This usually occurs when two processes/threads are waiting for shared resources acquired by others. For example, If thread T1 acquired resource R1 and it also needs resource R2 for it to accomplish its task. But the resource R2 is acquired by thread T2 which is waiting for resource R1(which is acquired by T1).. Neither of them will be able to accomplish its task, as they keep waiting for the other resources they need.**\n",
    "<br>"
   ]
  },
  {
   "cell_type": "markdown",
   "id": "b4f915b8",
   "metadata": {},
   "source": [
    "![deadlock image](https://encrypted-tbn0.gstatic.com/images?q=tbn:ANd9GcTHA29V4rcYU_4HYgQigXlFfWrMy1IvyG_Thw&usqp=CAU)"
   ]
  },
  {
   "cell_type": "markdown",
   "id": "8c6bcf33",
   "metadata": {},
   "source": [
    "**Race condition:A race condition occurs when two or more threads can access shared data and they try to change it at the same time. Because the thread scheduling algorithm can swap between threads at any time, you don't know the order in which the threads will attempt to access the shared data. Therefore, the result of the change in data is dependent on the thread scheduling algorithm, i.e. both threads are \"racing\" to access/change the data.**"
   ]
  },
  {
   "cell_type": "markdown",
   "id": "1f0af451",
   "metadata": {},
   "source": [
    "![Race condition image](https://blog.cloudxlab.com/wp-content/uploads/2021/04/Screenshot-163-1.png)"
   ]
  },
  {
   "cell_type": "markdown",
   "id": "01c5d42f",
   "metadata": {},
   "source": [
    "**In the above example,two persons are trying to deposit 1 dollar online into the same bank account. The initial amount is 17 dollar. Both the persons would be able to see 17 dollat initially.Each of them tries to deposit 1 dollar, and the final amount is expected to be 19 dollar. But due to race conditions, the final amount in the bank is 18 instead of 19 dollars. This is also known as dirty read.**"
   ]
  },
  {
   "cell_type": "code",
   "execution_count": null,
   "id": "8cc7f000",
   "metadata": {},
   "outputs": [],
   "source": []
  }
 ],
 "metadata": {
  "kernelspec": {
   "display_name": "Python 3 (ipykernel)",
   "language": "python",
   "name": "python3"
  },
  "language_info": {
   "codemirror_mode": {
    "name": "ipython",
    "version": 3
   },
   "file_extension": ".py",
   "mimetype": "text/x-python",
   "name": "python",
   "nbconvert_exporter": "python",
   "pygments_lexer": "ipython3",
   "version": "3.9.13"
  }
 },
 "nbformat": 4,
 "nbformat_minor": 5
}
