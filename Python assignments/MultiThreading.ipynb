{
 "cells": [
  {
   "cell_type": "markdown",
   "id": "fe91ec6f",
   "metadata": {},
   "source": [
    "## MultiThreading"
   ]
  },
  {
   "cell_type": "markdown",
   "id": "e605a6fa",
   "metadata": {},
   "source": [
    "1.  What is multithreading in python? Why is it used? Name the module used to handle threads in python."
   ]
  },
  {
   "cell_type": "markdown",
   "id": "b6190287",
   "metadata": {},
   "source": [
    "**Ans: Multithreading is a way to achieve multitasking by using the concept of threads.**  \n",
    "**In computing, a process is an instance of a computer program that is being executed. Any process has 3 basic components:**  \n",
    "\n",
    "1. **An executable program.**\n",
    "2. **The associated data needed by the program (variables, work space, buffers, etc.)**\n",
    "3. **The execution context of the program (State of process)**\n",
    "\n",
    "**A thread is an entity within a process that can be scheduled for execution. Also, it is the smallest unit of processing that can be performed in an OS (Operating System). In simple words, a thread is a sequence of such instructions within a program that can be executed independently of other code. For simplicity, you can assume that a thread is simply a subset of a process! A thread contains all this information in a Thread Control Block (TCB).**  \n",
    "<br>\n",
    "**Multi-threading: Multiple threads can exist within one process where:**  \n",
    "\n",
    "1. **Each thread contains its own register set and local variables (stored in stack).**\n",
    "2. **All threads of a process share global variables (stored in heap) and the program code.**\n",
    "\n",
    "**The threading module is used in python to use multithreading.**  \n",
    "**syntax: import threading**\n"
   ]
  },
  {
   "cell_type": "markdown",
   "id": "4d008ef7",
   "metadata": {},
   "source": [
    "2.Why threading module used? Write the use of the following functions:\n",
    "1. activeCount()\n",
    "2. currentThread()\n",
    "3. enumerate()"
   ]
  },
  {
   "cell_type": "markdown",
   "id": "93df83aa",
   "metadata": {},
   "source": [
    "Ans:  The threading module is used to perform multi-threading in python.  \n",
    "1. activeCount() : activeCount() or active_count() is used to count the currently active or running threads.\n",
    "2. currentThread() :currentThread() or current_thread() is used to return the current Thread object, which corresponds to the caller's thread of control.\n",
    "3. enumerate() : threading.enumerate() returns the list of all thread objects that are currently alive."
   ]
  },
  {
   "cell_type": "code",
   "execution_count": 1,
   "id": "a43f857a",
   "metadata": {},
   "outputs": [],
   "source": [
    "import threading\n",
    "import time"
   ]
  },
  {
   "cell_type": "code",
   "execution_count": 2,
   "id": "78956805",
   "metadata": {},
   "outputs": [
    {
     "name": "stdout",
     "output_type": "stream",
     "text": [
      "100\n",
      "Active threads :8\n",
      "400\n",
      "Active threads :8\n",
      "900\n",
      "Active threads :9\n",
      "1600\n",
      "Active threads :10\n"
     ]
    }
   ],
   "source": [
    "#activeCount() example\n",
    "def square(x):\n",
    "    print(x**2)\n",
    "    print(f\"Active threads :{threading.activeCount()}\")\n",
    "    time.sleep(2)\n",
    "    \n",
    "threads = [(threading.Thread(target=square,args = (i,))) for i in [10,20,30,40]]\n",
    "for t in threads:\n",
    "    t.start()"
   ]
  },
  {
   "cell_type": "code",
   "execution_count": 3,
   "id": "e4cc9d67",
   "metadata": {},
   "outputs": [
    {
     "name": "stdout",
     "output_type": "stream",
     "text": [
      "100\n",
      "Current thread :<Thread(Thread-9, started 1600)>\n",
      "400\n",
      "Current thread :<Thread(Thread-10, started 11112)>\n",
      "900\n",
      "Current thread :<Thread(Thread-11, started 19900)>\n",
      "1600\n",
      "Current thread :<Thread(Thread-12, started 16304)>\n"
     ]
    }
   ],
   "source": [
    "#currentThread() example\n",
    "def square(x):\n",
    "    print(x**2)\n",
    "    print(f\"Current thread :{threading.currentThread()}\")\n",
    "    time.sleep(2)\n",
    "    \n",
    "threads = [(threading.Thread(target=square,args = (i,))) for i in [10,20,30,40]]\n",
    "for t in threads:\n",
    "    t.start()"
   ]
  },
  {
   "cell_type": "code",
   "execution_count": 4,
   "id": "198ee47f",
   "metadata": {},
   "outputs": [
    {
     "name": "stdout",
     "output_type": "stream",
     "text": [
      "100\n",
      "List of all Active threads :[<_MainThread(MainThread, started 9308)>, <Thread(IOPub, started daemon 18740)>, <Heartbeat(Heartbeat, started daemon 19528)>, <ControlThread(Control, started daemon 22656)>, <HistorySavingThread(IPythonHistorySavingThread, started 11284)>, <ParentPollerWindows(Thread-4, started daemon 14004)>, <Thread(Thread-5, started 19104)>, <Thread(Thread-6, started 14624)>, <Thread(Thread-7, started 19856)>, <Thread(Thread-8, started 15284)>, <Thread(Thread-9, started 1600)>, <Thread(Thread-10, started 11112)>, <Thread(Thread-11, started 19900)>, <Thread(Thread-12, started 16304)>, <Thread(Thread-13, started 14868)>]\n",
      "400\n",
      "List of all Active threads :[<_MainThread(MainThread, started 9308)>, <Thread(IOPub, started daemon 18740)>, <Heartbeat(Heartbeat, started daemon 19528)>, <ControlThread(Control, started daemon 22656)>, <HistorySavingThread(IPythonHistorySavingThread, started 11284)>, <ParentPollerWindows(Thread-4, started daemon 14004)>, <Thread(Thread-5, started 19104)>, <Thread(Thread-6, started 14624)>, <Thread(Thread-7, started 19856)>, <Thread(Thread-8, started 15284)>, <Thread(Thread-9, started 1600)>, <Thread(Thread-10, started 11112)>, <Thread(Thread-11, started 19900)>, <Thread(Thread-12, started 16304)>, <Thread(Thread-13, started 14868)>, <Thread(Thread-14, started 15904)>]\n",
      "900\n",
      "List of all Active threads :[<_MainThread(MainThread, started 9308)>, <Thread(IOPub, started daemon 18740)>, <Heartbeat(Heartbeat, started daemon 19528)>, <ControlThread(Control, started daemon 22656)>, <HistorySavingThread(IPythonHistorySavingThread, started 11284)>, <ParentPollerWindows(Thread-4, started daemon 14004)>, <Thread(Thread-5, started 19104)>, <Thread(Thread-6, started 14624)>, <Thread(Thread-7, started 19856)>, <Thread(Thread-8, started 15284)>, <Thread(Thread-9, started 1600)>, <Thread(Thread-10, started 11112)>, <Thread(Thread-11, started 19900)>, <Thread(Thread-12, started 16304)>, <Thread(Thread-13, started 14868)>, <Thread(Thread-14, started 15904)>, <Thread(Thread-15, started 16624)>]\n",
      "1600\n",
      "List of all Active threads :[<_MainThread(MainThread, started 9308)>, <Thread(IOPub, started daemon 18740)>, <Heartbeat(Heartbeat, started daemon 19528)>, <ControlThread(Control, started daemon 22656)>, <HistorySavingThread(IPythonHistorySavingThread, started 11284)>, <ParentPollerWindows(Thread-4, started daemon 14004)>, <Thread(Thread-5, started 19104)>, <Thread(Thread-6, started 14624)>, <Thread(Thread-7, started 19856)>, <Thread(Thread-8, started 15284)>, <Thread(Thread-9, started 1600)>, <Thread(Thread-10, started 11112)>, <Thread(Thread-11, started 19900)>, <Thread(Thread-12, started 16304)>, <Thread(Thread-13, started 14868)>, <Thread(Thread-14, started 15904)>, <Thread(Thread-15, started 16624)>, <Thread(Thread-16, started 9372)>]\n"
     ]
    }
   ],
   "source": [
    "#enumerate() example\n",
    "def square(x):\n",
    "    print(x**2)\n",
    "    print(f\"List of all Active threads :{threading.enumerate()}\")\n",
    "    time.sleep(2)\n",
    "    \n",
    "threads = [(threading.Thread(target=square,args = (i,))) for i in [10,20,30,40]]\n",
    "for t in threads:\n",
    "    t.start()"
   ]
  },
  {
   "cell_type": "markdown",
   "id": "fc18247c",
   "metadata": {},
   "source": [
    "3. Explain the following functions:\n",
    "<br>\n",
    "\n",
    "    1. run()\n",
    "    2. start()\n",
    "    3. join()\n",
    "    4. isAlive()"
   ]
  },
  {
   "cell_type": "markdown",
   "id": "d7712c0a",
   "metadata": {},
   "source": [
    "**Ans:**<br> \n",
    "**run(): This method is used to represent a thread's activity. It calls the method expressed as the target argument in the Thread object along with the positional and keyword arguments taken from the args and kwargs arguments, respectively.It returns NoneType.**  \n",
    "**The difference between run() and start() is that start() creates a new Thread and calls run() within that thread and on the other hand run() itself executes in the Thread it was called from.**  \n",
    "<br>\n",
    "**start():It is used to start a thread's activity. This method calls the run() method internally which then executes the target method. This method must be called at most one time for one thread.**  \n",
    "<br>\n",
    "**join(): Whenever this method is called for any Thread object, it blocks the calling thread till the time the thread whose join() method is called terminates, either normally or through an unhandled exception.**  \n",
    "**The join() method also takes a “timeout” argument that specifies how long the current thread is willing to wait for the target thread to terminate, in seconds.**  \n"
   ]
  },
  {
   "cell_type": "code",
   "execution_count": 5,
   "id": "bed8dfe5",
   "metadata": {},
   "outputs": [
    {
     "name": "stdout",
     "output_type": "stream",
     "text": [
      "100\n",
      "List of all Active threads :[<_MainThread(MainThread, started 9308)>, <Thread(IOPub, started daemon 18740)>, <Heartbeat(Heartbeat, started daemon 19528)>, <ControlThread(Control, started daemon 22656)>, <HistorySavingThread(IPythonHistorySavingThread, started 11284)>, <ParentPollerWindows(Thread-4, started daemon 14004)>, <Thread(Thread-5, started 19104)>, <Thread(Thread-6, started 14624)>, <Thread(Thread-7, started 19856)>, <Thread(Thread-8, started 15284)>, <Thread(Thread-9, started 1600)>, <Thread(Thread-10, started 11112)>, <Thread(Thread-11, started 19900)>, <Thread(Thread-12, started 16304)>, <Thread(Thread-13, started 14868)>, <Thread(Thread-14, started 15904)>, <Thread(Thread-15, started 16624)>, <Thread(Thread-16, started 9372)>]\n",
      "400\n",
      "List of all Active threads :[<_MainThread(MainThread, started 9308)>, <Thread(IOPub, started daemon 18740)>, <Heartbeat(Heartbeat, started daemon 19528)>, <ControlThread(Control, started daemon 22656)>, <HistorySavingThread(IPythonHistorySavingThread, started 11284)>, <ParentPollerWindows(Thread-4, started daemon 14004)>]\n",
      "900\n",
      "List of all Active threads :[<_MainThread(MainThread, started 9308)>, <Thread(IOPub, started daemon 18740)>, <Heartbeat(Heartbeat, started daemon 19528)>, <ControlThread(Control, started daemon 22656)>, <HistorySavingThread(IPythonHistorySavingThread, started 11284)>, <ParentPollerWindows(Thread-4, started daemon 14004)>]\n",
      "1600\n",
      "List of all Active threads :[<_MainThread(MainThread, started 9308)>, <Thread(IOPub, started daemon 18740)>, <Heartbeat(Heartbeat, started daemon 19528)>, <ControlThread(Control, started daemon 22656)>, <HistorySavingThread(IPythonHistorySavingThread, started 11284)>, <ParentPollerWindows(Thread-4, started daemon 14004)>]\n"
     ]
    }
   ],
   "source": [
    "#run() example\n",
    "def cube(x):\n",
    "    print(x**3)\n",
    "    print(f\"Current thread :{threading.currentThread()}\")\n",
    "    time.sleep(2)\n",
    "    \n",
    "threads = [(threading.Thread(target=square,args = (i,))) for i in [10,20,30,40]]\n",
    "for t in threads:\n",
    "    t.run()"
   ]
  },
  {
   "cell_type": "markdown",
   "id": "cb0dbe44",
   "metadata": {},
   "source": [
    "As you can see everything runs on the same thread when you use run() and does not create new thread."
   ]
  },
  {
   "cell_type": "code",
   "execution_count": 6,
   "id": "e902e2ac",
   "metadata": {},
   "outputs": [
    {
     "name": "stdout",
     "output_type": "stream",
     "text": [
      "100\n",
      "List of all Active threads :[<_MainThread(MainThread, started 9308)>, <Thread(IOPub, started daemon 18740)>, <Heartbeat(Heartbeat, started daemon 19528)>, <ControlThread(Control, started daemon 22656)>, <HistorySavingThread(IPythonHistorySavingThread, started 11284)>, <ParentPollerWindows(Thread-4, started daemon 14004)>, <Thread(Thread-21, started 10320)>, <Thread(Thread-22, initial)>]\n",
      "400\n",
      "List of all Active threads :[<_MainThread(MainThread, started 9308)>, <Thread(IOPub, started daemon 18740)>, <Heartbeat(Heartbeat, started daemon 19528)>, <ControlThread(Control, started daemon 22656)>, <HistorySavingThread(IPythonHistorySavingThread, started 11284)>, <ParentPollerWindows(Thread-4, started daemon 14004)>, <Thread(Thread-21, started 10320)>, <Thread(Thread-22, started 3256)>]\n",
      "900\n",
      "List of all Active threads :[<_MainThread(MainThread, started 9308)>, <Thread(IOPub, started daemon 18740)>, <Heartbeat(Heartbeat, started daemon 19528)>, <ControlThread(Control, started daemon 22656)>, <HistorySavingThread(IPythonHistorySavingThread, started 11284)>, <ParentPollerWindows(Thread-4, started daemon 14004)>, <Thread(Thread-21, started 10320)>, <Thread(Thread-22, started 3256)>, <Thread(Thread-23, started 14740)>]\n",
      "1600\n",
      "List of all Active threads :[<_MainThread(MainThread, started 9308)>, <Thread(IOPub, started daemon 18740)>, <Heartbeat(Heartbeat, started daemon 19528)>, <ControlThread(Control, started daemon 22656)>, <HistorySavingThread(IPythonHistorySavingThread, started 11284)>, <ParentPollerWindows(Thread-4, started daemon 14004)>, <Thread(Thread-21, started 10320)>, <Thread(Thread-22, started 3256)>, <Thread(Thread-23, started 14740)>, <Thread(Thread-24, started 13136)>]\n"
     ]
    }
   ],
   "source": [
    "#start() example\n",
    "def cube(x):\n",
    "    print(x**3)\n",
    "    print(f\"Current thread :{threading.currentThread()}\")\n",
    "    time.sleep(2)\n",
    "    \n",
    "threads = [(threading.Thread(target=square,args = (i,))) for i in [10,20,30,40]]\n",
    "for t in threads:\n",
    "    t.start()"
   ]
  },
  {
   "cell_type": "code",
   "execution_count": 7,
   "id": "c0ed1424",
   "metadata": {},
   "outputs": [
    {
     "name": "stdout",
     "output_type": "stream",
     "text": [
      "100\n",
      "List of all Active threads :[<_MainThread(MainThread, started 9308)>, <Thread(IOPub, started daemon 18740)>, <Heartbeat(Heartbeat, started daemon 19528)>, <ControlThread(Control, started daemon 22656)>, <HistorySavingThread(IPythonHistorySavingThread, started 11284)>, <ParentPollerWindows(Thread-4, started daemon 14004)>, <Thread(Thread-21, started 10320)>, <Thread(Thread-22, started 3256)>, <Thread(Thread-23, started 14740)>, <Thread(Thread-24, started 13136)>, <Thread(Thread-25, started 6904)>]\n",
      "400\n",
      "List of all Active threads :[<_MainThread(MainThread, started 9308)>, <Thread(IOPub, started daemon 18740)>, <Heartbeat(Heartbeat, started daemon 19528)>, <ControlThread(Control, started daemon 22656)>, <HistorySavingThread(IPythonHistorySavingThread, started 11284)>, <ParentPollerWindows(Thread-4, started daemon 14004)>, <Thread(Thread-26, started 940)>]\n",
      "900\n",
      "List of all Active threads :[<_MainThread(MainThread, started 9308)>, <Thread(IOPub, started daemon 18740)>, <Heartbeat(Heartbeat, started daemon 19528)>, <ControlThread(Control, started daemon 22656)>, <HistorySavingThread(IPythonHistorySavingThread, started 11284)>, <ParentPollerWindows(Thread-4, started daemon 14004)>, <Thread(Thread-27, started 9600)>]\n",
      "1600\n",
      "List of all Active threads :[<_MainThread(MainThread, started 9308)>, <Thread(IOPub, started daemon 18740)>, <Heartbeat(Heartbeat, started daemon 19528)>, <ControlThread(Control, started daemon 22656)>, <HistorySavingThread(IPythonHistorySavingThread, started 11284)>, <ParentPollerWindows(Thread-4, started daemon 14004)>, <Thread(Thread-28, started 12236)>]\n"
     ]
    }
   ],
   "source": [
    "#join() example\n",
    "def cube(x):\n",
    "    print(x**3)\n",
    "    print(f\"Current thread :{threading.currentThread()}\")\n",
    "    time.sleep(2)\n",
    "    \n",
    "threads = [(threading.Thread(target=square,args = (i,))) for i in [10,20,30,40]]\n",
    "for t in threads:\n",
    "    t.start()\n",
    "    t.join()"
   ]
  },
  {
   "cell_type": "code",
   "execution_count": 8,
   "id": "c12e2fff",
   "metadata": {},
   "outputs": [
    {
     "name": "stdout",
     "output_type": "stream",
     "text": [
      "the value is 1\n",
      "the value is 2\n",
      "the value is 3\n",
      "\n",
      "the value is 3\n",
      "the value is 2\n",
      "the value is 1\n"
     ]
    }
   ],
   "source": [
    "#another join() example\n",
    "\n",
    "def func1(x):\n",
    "    time.sleep(5)\n",
    "    print(f\"the value is {x}\")\n",
    "\n",
    "def func2(x):\n",
    "    time.sleep(3)\n",
    "    print(f\"the value is {x}\")\n",
    "\n",
    "def func3(x):\n",
    "    time.sleep(1)\n",
    "    print(f\"the value is {x}\")\n",
    "    \n",
    "# Creating three sample threads \n",
    "thread1 = threading.Thread(target=func1, args=(1,))\n",
    "thread2 = threading.Thread(target=func2, args=(2,))\n",
    "thread3 = threading.Thread(target=func3, args=(3,))\n",
    "\n",
    "thread1.start()\n",
    "thread1.join()\n",
    "thread2.start()\n",
    "thread2.join()\n",
    "thread3.start()\n",
    "thread3.join()\n",
    "\n",
    "\n",
    "print()\n",
    "# Creating another 3 threads\n",
    "thread4 = threading.Thread(target=func1, args=(1,))\n",
    "thread5 = threading.Thread(target=func2, args=(2,))\n",
    "thread6 = threading.Thread(target=func3, args=(3,))\n",
    "\n",
    "thread4.start()\n",
    "thread5.start()\n",
    "thread6.start()\n",
    "thread4.join()\n",
    "thread5.join()\n",
    "thread6.join()"
   ]
  },
  {
   "cell_type": "markdown",
   "id": "e13fcfae",
   "metadata": {},
   "source": [
    "4. Write a python program to create two threads. Thread one must print the list of squares and thread two must print the list of cubes."
   ]
  },
  {
   "cell_type": "code",
   "execution_count": 9,
   "id": "1fccfc27",
   "metadata": {},
   "outputs": [],
   "source": [
    "def power(x):\n",
    "    for i in range(1,11):\n",
    "        print(f\"{i} raised to {x} = {i**x}\")\n",
    "        time.sleep(1)"
   ]
  },
  {
   "cell_type": "code",
   "execution_count": 10,
   "id": "af81afb5",
   "metadata": {},
   "outputs": [
    {
     "name": "stdout",
     "output_type": "stream",
     "text": [
      "1 raised to 2 = 1\n",
      "1 raised to 3 = 1\n"
     ]
    }
   ],
   "source": [
    "#without join()\n",
    "threads2 = [(threading.Thread(target=power,args = (i,))) for i in [2,3]]\n",
    "\n",
    "for t in threads2:\n",
    "    t.start()"
   ]
  },
  {
   "cell_type": "code",
   "execution_count": 11,
   "id": "cf948ff6",
   "metadata": {},
   "outputs": [
    {
     "name": "stdout",
     "output_type": "stream",
     "text": [
      "1 raised to 2 = 1\n",
      "2 raised to 2 = 42 raised to 3 = 8\n",
      "\n",
      "2 raised to 2 = 4\n",
      "3 raised to 2 = 93 raised to 3 = 27\n",
      "\n",
      "3 raised to 2 = 9\n",
      "4 raised to 2 = 16\n",
      "4 raised to 3 = 64\n",
      "4 raised to 2 = 16\n",
      "5 raised to 3 = 125\n",
      "5 raised to 2 = 25\n",
      "5 raised to 2 = 25\n",
      "6 raised to 2 = 36\n",
      "6 raised to 3 = 216\n",
      "6 raised to 2 = 36\n",
      "7 raised to 3 = 343\n",
      "7 raised to 2 = 49\n",
      "7 raised to 2 = 49\n",
      "8 raised to 3 = 512\n",
      "8 raised to 2 = 64\n",
      "8 raised to 2 = 64\n",
      "9 raised to 2 = 819 raised to 3 = 729\n",
      "\n",
      "9 raised to 2 = 81\n",
      "10 raised to 2 = 100\n",
      "10 raised to 3 = 1000\n",
      "10 raised to 2 = 100\n",
      "1 raised to 3 = 1\n",
      "2 raised to 3 = 8\n",
      "3 raised to 3 = 27\n",
      "4 raised to 3 = 64\n",
      "5 raised to 3 = 125\n",
      "6 raised to 3 = 216\n",
      "7 raised to 3 = 343\n",
      "8 raised to 3 = 512\n",
      "9 raised to 3 = 729\n",
      "10 raised to 3 = 1000\n"
     ]
    }
   ],
   "source": [
    "#with join()\n",
    "threads2 = [(threading.Thread(target=power,args = (i,))) for i in [2,3]]\n",
    "\n",
    "for t in threads2:\n",
    "    t.start()\n",
    "    t.join()"
   ]
  },
  {
   "cell_type": "markdown",
   "id": "e494174d",
   "metadata": {},
   "source": [
    "5. State advantages and disadvantages of multithreading."
   ]
  },
  {
   "cell_type": "markdown",
   "id": "5da02d0b",
   "metadata": {},
   "source": [
    "**Ans: Here are the main advantages of multithreading in python:**  \n",
    "<br>\n",
    "1. **Multithreading in Python streamlines the efficient utilization of resources as the threads share the same memory and data space.**\n",
    "2. **It also allows the concurrent appearance of multiple tasks and reduces the response time. This improves the performance.**\n",
    "3. **Simplified and streamlined program coding**\n",
    "4. **Simultaneous and concurrent occurrence of tasks**\n",
    "<br>\n",
    "**Disadvantages of multithreading in python:**\n",
    "<br>\n",
    "1. **When context switch happens it block process, as process is maintaining threads so threads also block.**\n",
    "2. **Multithreaded application cannot take advantage of multiprocessing.**\n",
    "3. **It can create problems like race conditions and resource deadlocks.**\n",
    "4. **Complex debugging and testing processes.**\n",
    "5. **Result is sometimes unpredictable.**\n",
    "\n"
   ]
  },
  {
   "cell_type": "markdown",
   "id": "b60025d1",
   "metadata": {},
   "source": [
    "6. Explain deadlocks and race conditions."
   ]
  },
  {
   "cell_type": "markdown",
   "id": "d10b17fe",
   "metadata": {},
   "source": [
    "**Ans: deadlock: When two processes/threads are waiting for each other directly or indirectly, it is called deadlock.**  \n",
    "<br>\n",
    "**This usually occurs when two processes/threads are waiting for shared resources acquired by others. For example, If thread T1 acquired resource R1 and it also needs resource R2 for it to accomplish its task. But the resource R2 is acquired by thread T2 which is waiting for resource R1(which is acquired by T1).. Neither of them will be able to accomplish its task, as they keep waiting for the other resources they need.**\n",
    "<br>\n",
    "![deadlock image](https://encrypted-tbn0.gstatic.com/images?q=tbn:ANd9GcTHA29V4rcYU_4HYgQigXlFfWrMy1IvyG_Thw&usqp=CAU)"
   ]
  },
  {
   "cell_type": "markdown",
   "id": "5e501640",
   "metadata": {},
   "source": [
    "**Race condition:A race condition occurs when two or more threads can access shared data and they try to change it at the same time. Because the thread scheduling algorithm can swap between threads at any time, you don't know the order in which the threads will attempt to access the shared data. Therefore, the result of the change in data is dependent on the thread scheduling algorithm, i.e. both threads are \"racing\" to access/change the data.**"
   ]
  },
  {
   "cell_type": "markdown",
   "id": "7877ae1f",
   "metadata": {},
   "source": [
    "![Race condition image](https://blog.cloudxlab.com/wp-content/uploads/2021/04/Screenshot-163-1.png)"
   ]
  },
  {
   "cell_type": "markdown",
   "id": "37356470",
   "metadata": {},
   "source": [
    "**In the above example,two persons are trying to deposit 1 dollar online into the same bank account. The initial amount is 17 dollar. Both the persons would be able to see 17 dollat initially.Each of them tries to deposit 1 dollar, and the final amount is expected to be 19 dollar. But due to race conditions, the final amount in the bank is 18 instead of 19 dollars. This is also known as dirty read.**"
   ]
  },
  {
   "cell_type": "code",
   "execution_count": null,
   "id": "488033e8",
   "metadata": {},
   "outputs": [],
   "source": []
  }
 ],
 "metadata": {
  "kernelspec": {
   "display_name": "Python 3 (ipykernel)",
   "language": "python",
   "name": "python3"
  },
  "language_info": {
   "codemirror_mode": {
    "name": "ipython",
    "version": 3
   },
   "file_extension": ".py",
   "mimetype": "text/x-python",
   "name": "python",
   "nbconvert_exporter": "python",
   "pygments_lexer": "ipython3",
   "version": "3.9.13"
  }
 },
 "nbformat": 4,
 "nbformat_minor": 5
}
