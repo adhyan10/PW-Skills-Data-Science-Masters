{
 "cells": [
  {
   "cell_type": "markdown",
   "id": "2389d3a6",
   "metadata": {},
   "source": [
    "## Exception Handling 1"
   ]
  },
  {
   "cell_type": "markdown",
   "id": "704579c0",
   "metadata": {},
   "source": [
    "1. What is an Exception in python? Write the difference between Exceptions and Syntax errors."
   ]
  },
  {
   "cell_type": "markdown",
   "id": "765f7392",
   "metadata": {},
   "source": [
    "**Ans: An exception is an event, which occurs during the execution of a program that disrupts the normal flow of the program's instructions. In general, when a Python script encounters a situation that it cannot cope with, it raises an exception. An exception is a Python object that represents an error.**    \n",
    "**Two types of Error occurs in python.**   \n",
    " \n",
    "1. **Syntax errors**\n",
    "2. **Logical errors (Exceptions)** \n",
    "\n",
    "**SyntaxError is a type of error .The Python SyntaxError occurs when the interpreter encounters invalid syntax in code.\n",
    "When Python code is executed, the interpreter parses it to convert it into bytecode. If the interpreter finds any invalid syntax during the parsing stage, a SyntaxError is thrown.**  \n",
    "**There is a subtle difference between an error and an exception that Errors cannot be handled, while Python exceptions can be handled at the run time. An error can be a syntax (parsing) error, while there can be many types of exceptions that could occur during the execution and are not unconditionally inoperable. An Error might indicate critical problems that a reasonable application should not try to catch, while an Exception might indicate conditions that an application should try to catch.**"
   ]
  },
  {
   "cell_type": "markdown",
   "id": "18a5c0e1",
   "metadata": {},
   "source": [
    "2.  What happens when an exception is not handled? Explain with an example."
   ]
  },
  {
   "cell_type": "markdown",
   "id": "eda9ca0b",
   "metadata": {},
   "source": [
    "**Ans: When an exception is not handled ,the normal flow of the program is disrupted and the line of codes below the code\n",
    "that raises the exception will not be executed.To overcome this we handle them using the try except blocks.**  "
   ]
  },
  {
   "cell_type": "code",
   "execution_count": 1,
   "id": "878e302d",
   "metadata": {},
   "outputs": [
    {
     "name": "stdout",
     "output_type": "stream",
     "text": [
      "Enter first number: 3\n",
      "Enter second number: 0\n"
     ]
    },
    {
     "ename": "ZeroDivisionError",
     "evalue": "division by zero",
     "output_type": "error",
     "traceback": [
      "\u001b[1;31m---------------------------------------------------------------------------\u001b[0m",
      "\u001b[1;31mZeroDivisionError\u001b[0m                         Traceback (most recent call last)",
      "\u001b[1;32m~\\AppData\\Local\\Temp\\ipykernel_21644\\1997282090.py\u001b[0m in \u001b[0;36m<module>\u001b[1;34m\u001b[0m\n\u001b[0;32m      4\u001b[0m \u001b[0mnum2\u001b[0m \u001b[1;33m=\u001b[0m \u001b[0mint\u001b[0m\u001b[1;33m(\u001b[0m\u001b[0minput\u001b[0m\u001b[1;33m(\u001b[0m\u001b[1;34m\"Enter second number: \"\u001b[0m\u001b[1;33m)\u001b[0m\u001b[1;33m)\u001b[0m\u001b[1;33m\u001b[0m\u001b[1;33m\u001b[0m\u001b[0m\n\u001b[0;32m      5\u001b[0m \u001b[1;33m\u001b[0m\u001b[0m\n\u001b[1;32m----> 6\u001b[1;33m \u001b[0mdiv\u001b[0m \u001b[1;33m=\u001b[0m \u001b[0mnum1\u001b[0m\u001b[1;33m/\u001b[0m\u001b[0mnum2\u001b[0m\u001b[1;33m\u001b[0m\u001b[1;33m\u001b[0m\u001b[0m\n\u001b[0m\u001b[0;32m      7\u001b[0m \u001b[1;33m\u001b[0m\u001b[0m\n\u001b[0;32m      8\u001b[0m \u001b[0mprint\u001b[0m\u001b[1;33m(\u001b[0m\u001b[1;34mf\"{num1} / {num2} = {div}\"\u001b[0m\u001b[1;33m)\u001b[0m\u001b[1;33m\u001b[0m\u001b[1;33m\u001b[0m\u001b[0m\n",
      "\u001b[1;31mZeroDivisionError\u001b[0m: division by zero"
     ]
    }
   ],
   "source": [
    "#exmaple when exception is not handled\n",
    "\n",
    "num1 =int(input(\"Enter first number: \"))\n",
    "num2 = int(input(\"Enter second number: \"))\n",
    "\n",
    "div = num1/num2\n",
    "\n",
    "print(f\"{num1} / {num2} = {div}\")"
   ]
  },
  {
   "cell_type": "code",
   "execution_count": 2,
   "id": "6acd56be",
   "metadata": {},
   "outputs": [
    {
     "name": "stdout",
     "output_type": "stream",
     "text": [
      "Enter first number: 3\n",
      "Enter second number: 0\n",
      "There is an error/exception in the code : division by zero\n",
      "This line will now run\n"
     ]
    }
   ],
   "source": [
    "# handling this ZeroDivisionError\n",
    "try:\n",
    "    num1 =int(input(\"Enter first number: \"))\n",
    "    num2 = int(input(\"Enter second number: \"))\n",
    "\n",
    "    div = num1/num2\n",
    "except Exception as e:\n",
    "    print(f\"There is an error/exception in the code : {e}\")\n",
    "print(\"This line will now run\")"
   ]
  },
  {
   "cell_type": "markdown",
   "id": "be5b26dd",
   "metadata": {},
   "source": [
    "3. Which Python statements are used to catch and handle exceptions? Explain with an example."
   ]
  },
  {
   "cell_type": "markdown",
   "id": "caa4d38b",
   "metadata": {},
   "source": [
    "**Ans: The \"try\" and \"except\" are used to catch and handle exceptions in python.We can also use \"else\" and \"finally\" along\n",
    "with try and except.The try catches any exceptions and except handles them.**"
   ]
  },
  {
   "cell_type": "code",
   "execution_count": 3,
   "id": "e00bd74e",
   "metadata": {},
   "outputs": [
    {
     "name": "stdout",
     "output_type": "stream",
     "text": [
      "An error/exception has occured: [Errno 2] No such file or directory: 'file69.txt'\n"
     ]
    }
   ],
   "source": [
    "#example of try and except\n",
    "try:\n",
    "    f1 =open(\"file69.txt\",\"r\")\n",
    "    print(f1.read())\n",
    "except Exception as e:\n",
    "    print(f\"An error/exception has occured: {e}\")"
   ]
  },
  {
   "cell_type": "markdown",
   "id": "c43ad0ed",
   "metadata": {},
   "source": [
    "4. Explain with an example:"
   ]
  },
  {
   "cell_type": "markdown",
   "id": "f236e480",
   "metadata": {},
   "source": [
    "**a. try and else: we can use else with try and except.The try block only runs if the try block runs successfully without any error and exceptions.**"
   ]
  },
  {
   "cell_type": "code",
   "execution_count": 4,
   "id": "525edd45",
   "metadata": {},
   "outputs": [
    {
     "name": "stdout",
     "output_type": "stream",
     "text": [
      "This is from else block,stating that try block ran successfully.\n"
     ]
    }
   ],
   "source": [
    "try:\n",
    "    f1= open(\"file10.txt\",\"w\")\n",
    "    f1.write(\"This is the first line.\\n\")\n",
    "except Exception as e:\n",
    "    print(f\"An error.exception has occured: {e}\")\n",
    "else:\n",
    "    f1.close()\n",
    "    print(\"This is from else block,stating that try block ran successfully.\")"
   ]
  },
  {
   "cell_type": "markdown",
   "id": "fb37f5a6",
   "metadata": {},
   "source": [
    "**b.finally : The finally blocks always run regardless of there is error/exception or not.**"
   ]
  },
  {
   "cell_type": "code",
   "execution_count": 5,
   "id": "40999fc0",
   "metadata": {},
   "outputs": [
    {
     "name": "stdout",
     "output_type": "stream",
     "text": [
      "An error.exception has occured: [Errno 2] No such file or directory: 'file69.txt'\n",
      "This is from finally block and will always run\n"
     ]
    }
   ],
   "source": [
    "try:\n",
    "    f1= open(\"file69.txt\",\"r\")\n",
    "    print(f1.read())\n",
    "except Exception as e:\n",
    "    print(f\"An error.exception has occured: {e}\")\n",
    "else:\n",
    "    print(\"This is from else block,stating that try block ran successfully.\")\n",
    "finally:\n",
    "    print(\"This is from finally block and will always run\")"
   ]
  },
  {
   "cell_type": "markdown",
   "id": "abdeffe7",
   "metadata": {},
   "source": [
    "**c. raise : The raise keyword is used to raise an exception.You can define what kind of error to raise, and the text to print to the user.**"
   ]
  },
  {
   "cell_type": "code",
   "execution_count": 6,
   "id": "1181d505",
   "metadata": {},
   "outputs": [
    {
     "name": "stdout",
     "output_type": "stream",
     "text": [
      "Enter Age: 16\n"
     ]
    },
    {
     "ename": "TypeError",
     "evalue": "Age should be integer.",
     "output_type": "error",
     "traceback": [
      "\u001b[1;31m---------------------------------------------------------------------------\u001b[0m",
      "\u001b[1;31mTypeError\u001b[0m                                 Traceback (most recent call last)",
      "\u001b[1;32m~\\AppData\\Local\\Temp\\ipykernel_21644\\2134536170.py\u001b[0m in \u001b[0;36m<module>\u001b[1;34m\u001b[0m\n\u001b[0;32m      2\u001b[0m \u001b[1;33m\u001b[0m\u001b[0m\n\u001b[0;32m      3\u001b[0m \u001b[1;32mif\u001b[0m \u001b[0mtype\u001b[0m\u001b[1;33m(\u001b[0m\u001b[0mage\u001b[0m\u001b[1;33m)\u001b[0m \u001b[1;33m!=\u001b[0m \u001b[0mint\u001b[0m\u001b[1;33m:\u001b[0m\u001b[1;33m\u001b[0m\u001b[1;33m\u001b[0m\u001b[0m\n\u001b[1;32m----> 4\u001b[1;33m     \u001b[1;32mraise\u001b[0m \u001b[0mTypeError\u001b[0m\u001b[1;33m(\u001b[0m\u001b[1;34m\"Age should be integer.\"\u001b[0m\u001b[1;33m)\u001b[0m\u001b[1;33m\u001b[0m\u001b[1;33m\u001b[0m\u001b[0m\n\u001b[0m",
      "\u001b[1;31mTypeError\u001b[0m: Age should be integer."
     ]
    }
   ],
   "source": [
    "age = input(\"Enter Age: \")\n",
    "\n",
    "if type(age) != int:\n",
    "    raise TypeError(\"Age should be integer.\")"
   ]
  },
  {
   "cell_type": "markdown",
   "id": "d18de4b8",
   "metadata": {},
   "source": [
    "5.  What are Custom Exceptions in python? Why do we need Custom Exceptions? Explain with an example."
   ]
  },
  {
   "cell_type": "markdown",
   "id": "735c9981",
   "metadata": {},
   "source": [
    "**Ans: Custom Exceptions are exceptions that are user/programmer defined exceptions.This is done by creating a class for the custom exception inherting the Exception class.We might need custom exceptions wwhen the type of exception we want to raise does not exist in the core Exception class.**"
   ]
  },
  {
   "cell_type": "code",
   "execution_count": 7,
   "id": "6bcc9082",
   "metadata": {},
   "outputs": [],
   "source": [
    "class canVote(Exception):\n",
    "    def __init__(self,msg):\n",
    "        self.msg =msg\n",
    "\n",
    "def checkage(age):\n",
    "    if age < 0:\n",
    "        raise canVote(\"Age cannot be 0.\")\n",
    "    elif age < 18:\n",
    "        raise canVote(\"You are underage ,can not vote now.\")\n",
    "    else:\n",
    "        print(\"Thanks for the vote.\")"
   ]
  },
  {
   "cell_type": "code",
   "execution_count": 8,
   "id": "08c50686",
   "metadata": {},
   "outputs": [
    {
     "name": "stdout",
     "output_type": "stream",
     "text": [
      "Enter your age: 17\n",
      "An error/exception has occurred:You are underage ,can not vote now.\n"
     ]
    }
   ],
   "source": [
    "try:\n",
    "    age = int(input(\"Enter your age: \"))\n",
    "    checkage(age)\n",
    "except canVote as e:\n",
    "    print(f\"An error/exception has occurred:{e}\")"
   ]
  },
  {
   "cell_type": "markdown",
   "id": "be780b13",
   "metadata": {},
   "source": [
    "6. Create custom exception class. Use this class to handle an exception."
   ]
  },
  {
   "cell_type": "code",
   "execution_count": 9,
   "id": "7312c932",
   "metadata": {},
   "outputs": [],
   "source": [
    "class validNumber(Exception):\n",
    "    def __init__(self,msg):\n",
    "        self.msg = msg\n",
    "        \n",
    "def checknumber(num):\n",
    "    if len(num) < 10:\n",
    "        raise validNumber(\"Phone number should contain 10 digits.\")\n",
    "    elif len(num) > 10:\n",
    "        raise validNumber(\"Phone number should contain 10 digits.\")\n",
    "    elif not num.isnumeric():\n",
    "        raise validNumber(\"Phone number should only contain numerical digits.\")\n",
    "    else:\n",
    "        print(\"The number is valid\")"
   ]
  },
  {
   "cell_type": "code",
   "execution_count": 10,
   "id": "752ba42a",
   "metadata": {},
   "outputs": [
    {
     "name": "stdout",
     "output_type": "stream",
     "text": [
      "Enter yout phone number: 87659066131241\n",
      "An error/exception has occured: Phone number should contain 10 digits.\n"
     ]
    }
   ],
   "source": [
    "try:\n",
    "    num = input(\"Enter yout phone number: \")\n",
    "    checknumber(num)\n",
    "except validNumber as e:\n",
    "    print(f\"An error/exception has occured: {e}\")"
   ]
  },
  {
   "cell_type": "code",
   "execution_count": null,
   "id": "1363b31f",
   "metadata": {},
   "outputs": [],
   "source": []
  }
 ],
 "metadata": {
  "kernelspec": {
   "display_name": "Python 3 (ipykernel)",
   "language": "python",
   "name": "python3"
  },
  "language_info": {
   "codemirror_mode": {
    "name": "ipython",
    "version": 3
   },
   "file_extension": ".py",
   "mimetype": "text/x-python",
   "name": "python",
   "nbconvert_exporter": "python",
   "pygments_lexer": "ipython3",
   "version": "3.9.13"
  }
 },
 "nbformat": 4,
 "nbformat_minor": 5
}
