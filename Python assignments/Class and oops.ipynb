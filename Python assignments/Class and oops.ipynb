{
 "cells": [
  {
   "cell_type": "markdown",
   "id": "23babd34",
   "metadata": {},
   "source": [
    "## Class and OOP's"
   ]
  },
  {
   "cell_type": "markdown",
   "id": "9abf5cd0",
   "metadata": {},
   "source": [
    "1.  Explain Class and Object with respect to Object-Oriented Programming. Give a suitable example."
   ]
  },
  {
   "cell_type": "markdown",
   "id": "4cba45fd",
   "metadata": {},
   "source": [
    "**Ans: Everything in python is an object and therefore it is considered as an Object Oriented Progamming language.And every   object is an instance of its class.**  \n",
    "**Class: Class is like a blueprint for an object.Class has it attributes(class variables) and it also has its own   \n",
    "behaviours(class methods).**\n",
    "**Object: Object is an instance of the class i.e. when we create an object for a class we will follow the blueprint  \n",
    "defined in the class and will have same variables and same methods.**\n"
   ]
  },
  {
   "cell_type": "code",
   "execution_count": 1,
   "id": "2cb76f6b",
   "metadata": {},
   "outputs": [],
   "source": [
    "#Example of a class:\n",
    "\n",
    "class animal:\n",
    "    \n",
    "    def __init__(self,name,num_of_legs):\n",
    "        self.name = name\n",
    "        self.num_of_legs = num_of_legs\n",
    "    def bark(self):\n",
    "        if self.name.lower() == \"dog\":\n",
    "            return True\n",
    "        else:\n",
    "            False"
   ]
  },
  {
   "cell_type": "code",
   "execution_count": 2,
   "id": "acf096c4",
   "metadata": {},
   "outputs": [],
   "source": [
    "dog1 = animal(\"Dog\",4) "
   ]
  },
  {
   "cell_type": "code",
   "execution_count": 3,
   "id": "c1271a0f",
   "metadata": {},
   "outputs": [
    {
     "data": {
      "text/plain": [
       "'Dog'"
      ]
     },
     "execution_count": 3,
     "metadata": {},
     "output_type": "execute_result"
    }
   ],
   "source": [
    "dog1.name"
   ]
  },
  {
   "cell_type": "code",
   "execution_count": 4,
   "id": "23373eec",
   "metadata": {},
   "outputs": [
    {
     "data": {
      "text/plain": [
       "True"
      ]
     },
     "execution_count": 4,
     "metadata": {},
     "output_type": "execute_result"
    }
   ],
   "source": [
    "dog1.bark()"
   ]
  },
  {
   "cell_type": "markdown",
   "id": "b1affbd0",
   "metadata": {},
   "source": [
    "2. Name the four pillars of OOPs."
   ]
  },
  {
   "cell_type": "markdown",
   "id": "1becad2d",
   "metadata": {},
   "source": [
    "**Ans: The four pillars of OOPs are:**  \n",
    "**1. Polymorphism : polymorphism means having many forms. In programming, polymorphism means the same function name (but   different signatures) being used for different types. The key difference is the data types and number of arguments used in   function.**  \n",
    "**2. Abstraction : Abstraction means the process of handling complexity by hiding unnecessary information from the user.**    \n",
    "**3. Encapsulation : Encapsulation means to encapsulate the class methods(behaviour) and variables(data) within one       \n",
    "unit like a class and restricting the access to variables and methods.**  \n",
    "**4. Inheritence : Inheritence means the property that allows a class to inherit the data and behaviour of some other  \n",
    "class and creating an hierarchy.**  "
   ]
  },
  {
   "cell_type": "markdown",
   "id": "3a4e90a0",
   "metadata": {},
   "source": [
    "3.  Explain why the _ _init_ _() function is used. Give a suitable example."
   ]
  },
  {
   "cell_type": "markdown",
   "id": "b77fab6e",
   "metadata": {},
   "source": [
    "**Ans: The _ _init_ _() function is used as a constructor in pyhton class.It is called every time an object is created  \n",
    "from a class. The __init__ method lets the class initialize the object's attributes.**  "
   ]
  },
  {
   "cell_type": "code",
   "execution_count": 5,
   "id": "4fd3ae76",
   "metadata": {},
   "outputs": [],
   "source": [
    "#Example of __init__() method\n",
    "\n",
    "class car:\n",
    "    \n",
    "    def __init__(self,name,model):\n",
    "        self.name = name\n",
    "        self.model = model\n",
    "    "
   ]
  },
  {
   "cell_type": "code",
   "execution_count": 6,
   "id": "8c409048",
   "metadata": {},
   "outputs": [],
   "source": [
    "car1 = car(\"Tesla\",\"Model S\")"
   ]
  },
  {
   "cell_type": "code",
   "execution_count": 7,
   "id": "82df4137",
   "metadata": {},
   "outputs": [
    {
     "data": {
      "text/plain": [
       "'Model S'"
      ]
     },
     "execution_count": 7,
     "metadata": {},
     "output_type": "execute_result"
    }
   ],
   "source": [
    "car1.model"
   ]
  },
  {
   "cell_type": "code",
   "execution_count": 8,
   "id": "b023a875",
   "metadata": {},
   "outputs": [
    {
     "data": {
      "text/plain": [
       "'Tesla'"
      ]
     },
     "execution_count": 8,
     "metadata": {},
     "output_type": "execute_result"
    }
   ],
   "source": [
    "car1.name"
   ]
  },
  {
   "cell_type": "markdown",
   "id": "5f3149eb",
   "metadata": {},
   "source": [
    "4. Why self is used in OOPs?"
   ]
  },
  {
   "cell_type": "markdown",
   "id": "d8b7b450",
   "metadata": {},
   "source": [
    "**Ans: self represents the instance of the class. By using the “self” we can access the attributes and methods of the class in python. It binds the attributes with the given arguments. The reason you need to use self is because Python does not use the @ syntax to refer to instance attributes.**\n",
    "\n",
    "**When we say self.var = var_value and create an object of this class ,the  self says that the value given during initializing of the object refers to that class instance .**"
   ]
  },
  {
   "cell_type": "markdown",
   "id": "676fb7e0",
   "metadata": {},
   "source": [
    "5. What is inheritance? Give an example for each type of inheritance"
   ]
  },
  {
   "cell_type": "markdown",
   "id": "4d3f0127",
   "metadata": {},
   "source": [
    "**Ans:  Inheritence means the property that allows a class to inherit the data and behaviour of some other  \n",
    "class and creating an hierarchy.**"
   ]
  },
  {
   "cell_type": "code",
   "execution_count": 9,
   "id": "a5b4024f",
   "metadata": {},
   "outputs": [
    {
     "name": "stdout",
     "output_type": "stream",
     "text": [
      "This is from parent class\n"
     ]
    }
   ],
   "source": [
    "#single inheritence\n",
    "\n",
    "class parent:\n",
    "    def parent_met(self):\n",
    "        print(\"This is from parent class\")\n",
    "class child(parent):\n",
    "    def child_met(self):\n",
    "        print(\"This is from child class\")\n",
    "        \n",
    "child1 = child()\n",
    "child1.parent_met()"
   ]
  },
  {
   "cell_type": "code",
   "execution_count": 10,
   "id": "7dbfb5e6",
   "metadata": {},
   "outputs": [
    {
     "name": "stdout",
     "output_type": "stream",
     "text": [
      "This is from grand parent class\n"
     ]
    }
   ],
   "source": [
    "# multilevel inheritence\n",
    "\n",
    "class grandparent:\n",
    "    def grandparent_met(self):\n",
    "        print(\"This is from grand parent class\")\n",
    "\n",
    "class parent(grandparent):\n",
    "    def parent_met(self):\n",
    "        print(\"This is from parent class\")\n",
    "class child(parent):\n",
    "    def child_met(self):\n",
    "        print(\"This is from child class\")\n",
    "        \n",
    "child1 = child()\n",
    "child1.grandparent_met()"
   ]
  },
  {
   "cell_type": "code",
   "execution_count": 11,
   "id": "87a87693",
   "metadata": {},
   "outputs": [
    {
     "name": "stdout",
     "output_type": "stream",
     "text": [
      "This is from mother class\n",
      "This is from father class\n"
     ]
    }
   ],
   "source": [
    "#multiple inheritence\n",
    "\n",
    "class father:\n",
    "    def father_met(self):\n",
    "        print(\"This is from father class\")\n",
    "        \n",
    "class mother:\n",
    "    def mother_met(self):\n",
    "        print(\"This is from mother class\")\n",
    "        \n",
    "class child(father,mother):\n",
    "    def child_met(self):\n",
    "        print(\"This is from child class\")\n",
    "        \n",
    "child1 = child()\n",
    "child1.mother_met()\n",
    "child1.father_met()"
   ]
  },
  {
   "cell_type": "code",
   "execution_count": 12,
   "id": "93366867",
   "metadata": {},
   "outputs": [
    {
     "name": "stdout",
     "output_type": "stream",
     "text": [
      "This is from parent class\n",
      "This is from parent class\n"
     ]
    }
   ],
   "source": [
    "#Hierarchical inheritence\n",
    "\n",
    "class parent:\n",
    "    def parent_met(self):\n",
    "        print(\"This is from parent class\")\n",
    "class big_child(parent):\n",
    "    def bchild_met(self):\n",
    "        print(\"This is from big child class\")\n",
    "class small_child(parent):\n",
    "    def schild_met(self):\n",
    "        print(\"This is from small child class\")\n",
    "        \n",
    "big_bro = big_child()\n",
    "small_sis = small_child()\n",
    "\n",
    "big_bro.parent_met()\n",
    "small_sis.parent_met()"
   ]
  },
  {
   "cell_type": "code",
   "execution_count": 13,
   "id": "ca5b4adc",
   "metadata": {},
   "outputs": [
    {
     "name": "stdout",
     "output_type": "stream",
     "text": [
      "This is from grand parent class\n"
     ]
    }
   ],
   "source": [
    "#Hybrid inheritence\n",
    "class grandparent:\n",
    "    def grandparent_met(self):\n",
    "        print(\"This is from grand parent class\")\n",
    "\n",
    "class father(grandparent):\n",
    "    def father_met(self):\n",
    "        print(\"This is from father class\")\n",
    "        \n",
    "class mother:\n",
    "    def mother_met(self):\n",
    "        print(\"This is from mother class\")\n",
    "        \n",
    "class child(father,mother):\n",
    "    def child_met(self):\n",
    "        print(\"This is from child class\")\n",
    "        \n",
    "child1 = child()\n",
    "child1.grandparent_met()"
   ]
  },
  {
   "cell_type": "code",
   "execution_count": null,
   "id": "2d7dbb9d",
   "metadata": {},
   "outputs": [],
   "source": []
  }
 ],
 "metadata": {
  "kernelspec": {
   "display_name": "Python 3 (ipykernel)",
   "language": "python",
   "name": "python3"
  },
  "language_info": {
   "codemirror_mode": {
    "name": "ipython",
    "version": 3
   },
   "file_extension": ".py",
   "mimetype": "text/x-python",
   "name": "python",
   "nbconvert_exporter": "python",
   "pygments_lexer": "ipython3",
   "version": "3.9.13"
  }
 },
 "nbformat": 4,
 "nbformat_minor": 5
}
