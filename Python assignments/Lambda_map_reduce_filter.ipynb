{
 "cells": [
  {
   "cell_type": "markdown",
   "id": "f0461511",
   "metadata": {},
   "source": [
    "## Lambda Functions,Map,Reduce and Filter"
   ]
  },
  {
   "cell_type": "markdown",
   "id": "696c25a9",
   "metadata": {},
   "source": [
    "1. Create a python program to sort the given list of tuples based on integer value using a lambda function. "
   ]
  },
  {
   "cell_type": "code",
   "execution_count": 1,
   "id": "c67447ec",
   "metadata": {},
   "outputs": [
    {
     "name": "stdout",
     "output_type": "stream",
     "text": [
      "The sorted list is [('Virat Kohli', 24936), ('Jack Kallis', 25534), ('Ricky Ponting', 27483), ('Sachin Tendulkar', 34357)]\n"
     ]
    }
   ],
   "source": [
    "l1 =[('Sachin Tendulkar', 34357), ('Ricky Ponting', 27483), ('Jack Kallis', 25534), ('Virat Kohli', 24936)]\n",
    "\n",
    "l1.sort(key= lambda x:x[1])\n",
    "print(f\"The sorted list is {l1}\")"
   ]
  },
  {
   "cell_type": "markdown",
   "id": "5e2f59ce",
   "metadata": {},
   "source": [
    "2. Write a Python Program to find the squares of all the numbers in the given list of integers using lambda and map functions."
   ]
  },
  {
   "cell_type": "code",
   "execution_count": 2,
   "id": "56c9b50d",
   "metadata": {},
   "outputs": [
    {
     "name": "stdout",
     "output_type": "stream",
     "text": [
      "The original list : [1, 2, 3, 4, 5, 6, 7, 8, 9, 10]\n",
      "The squared list by map and lambda function: [1, 4, 9, 16, 25, 36, 49, 64, 81, 100]\n"
     ]
    }
   ],
   "source": [
    "l2 = [1, 2, 3, 4, 5, 6, 7, 8, 9, 10]\n",
    "\n",
    "sq_nums = list(map(lambda x: x**2 ,l2))\n",
    "print(f\"The original list : {l2}\")\n",
    "print(f\"The squared list by map and lambda function: {sq_nums}\")"
   ]
  },
  {
   "cell_type": "markdown",
   "id": "1831263a",
   "metadata": {},
   "source": [
    "3. Write a python program to convert the given list of integers into a tuple of strings. Use map and lambda functions  "
   ]
  },
  {
   "cell_type": "code",
   "execution_count": 3,
   "id": "18b3e587",
   "metadata": {},
   "outputs": [
    {
     "name": "stdout",
     "output_type": "stream",
     "text": [
      "The original list: [1, 2, 3, 4, 5, 6, 7, 8, 9, 10]\n",
      "The tuple with string items after using map and lambda function: ('1', '2', '3', '4', '5', '6', '7', '8', '9', '10')\n"
     ]
    }
   ],
   "source": [
    "l3 =  [1, 2, 3, 4, 5, 6, 7, 8, 9, 10]\n",
    "\n",
    "str_tup = tuple(map(lambda x: str(x),l3))\n",
    "print(f\"The original list: {l3}\")\n",
    "print(f\"The tuple with string items after using map and lambda function: {str_tup}\")"
   ]
  },
  {
   "cell_type": "markdown",
   "id": "f0cb5e3e",
   "metadata": {},
   "source": [
    "4. Write a python program using reduce function to compute the product of a list containing numbers from 1 to 25."
   ]
  },
  {
   "cell_type": "code",
   "execution_count": 4,
   "id": "fbfbdd0e",
   "metadata": {},
   "outputs": [
    {
     "name": "stdout",
     "output_type": "stream",
     "text": [
      "The final product : 15511210043330985984000000\n"
     ]
    }
   ],
   "source": [
    "from functools import reduce\n",
    "\n",
    "l25 = list(range(1,26))\n",
    "\n",
    "final_prod = reduce(lambda x,y:x*y,l25)\n",
    "\n",
    "print(f\"The final product : {final_prod}\")"
   ]
  },
  {
   "cell_type": "markdown",
   "id": "3041ae89",
   "metadata": {},
   "source": [
    "5. Write a python program to filter the numbers in a given list that are divisible by 2 and 3 using the filter function."
   ]
  },
  {
   "cell_type": "code",
   "execution_count": 5,
   "id": "5c09b2ee",
   "metadata": {},
   "outputs": [
    {
     "name": "stdout",
     "output_type": "stream",
     "text": [
      "The Filtered list is : [6, 60, 90, 120]\n"
     ]
    }
   ],
   "source": [
    "l5 = [2, 3, 6, 9, 27, 60, 90, 120, 55, 46]\n",
    "\n",
    "filtered_list = list(filter(lambda x:True if (x%2 == 0) and (x%3 ==0) else False,l5))\n",
    "print(f\"The Filtered list is : {filtered_list}\")"
   ]
  },
  {
   "cell_type": "markdown",
   "id": "075674c5",
   "metadata": {},
   "source": [
    "6. Write a python program to find palindromes in the given list of strings using lambda and filter function."
   ]
  },
  {
   "cell_type": "code",
   "execution_count": 6,
   "id": "8950dd61",
   "metadata": {},
   "outputs": [
    {
     "name": "stdout",
     "output_type": "stream",
     "text": [
      "The palindromes in the given list are: ['php', 'aba', 'radar', 'level']\n"
     ]
    }
   ],
   "source": [
    "l6 = ['python', 'php', 'aba', 'radar', 'level']\n",
    "\n",
    "palindrome_list = list(filter(lambda x : True if (x == \"\".join(reversed(x))) else False , l6))\n",
    "print(f\"The palindromes in the given list are: {palindrome_list}\")"
   ]
  },
  {
   "cell_type": "code",
   "execution_count": null,
   "id": "bd379e00",
   "metadata": {},
   "outputs": [],
   "source": []
  }
 ],
 "metadata": {
  "kernelspec": {
   "display_name": "Python 3 (ipykernel)",
   "language": "python",
   "name": "python3"
  },
  "language_info": {
   "codemirror_mode": {
    "name": "ipython",
    "version": 3
   },
   "file_extension": ".py",
   "mimetype": "text/x-python",
   "name": "python",
   "nbconvert_exporter": "python",
   "pygments_lexer": "ipython3",
   "version": "3.9.13"
  }
 },
 "nbformat": 4,
 "nbformat_minor": 5
}
