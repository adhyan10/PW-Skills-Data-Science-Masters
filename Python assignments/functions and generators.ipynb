{
 "cells": [
  {
   "cell_type": "markdown",
   "id": "d348c482",
   "metadata": {},
   "source": [
    "1.  Which keyword is used to create a function? Create a function to return a list of odd numbers in the\n",
    "range of 1 to 25.\n",
    "\n",
    "**Ans: The def keyword is used to create a function in python.**  "
   ]
  },
  {
   "cell_type": "code",
   "execution_count": 1,
   "id": "8f7ce461",
   "metadata": {},
   "outputs": [],
   "source": [
    "def odd_nums(start,end):\n",
    "    l =list(range(start,end+1))\n",
    "    odd_l = []\n",
    "    for i in l:\n",
    "        if i%2!=0:\n",
    "            odd_l.append(i)\n",
    "    return odd_l\n",
    "    "
   ]
  },
  {
   "cell_type": "code",
   "execution_count": 2,
   "id": "88402fc9",
   "metadata": {},
   "outputs": [
    {
     "name": "stdout",
     "output_type": "stream",
     "text": [
      "[1, 3, 5, 7, 9, 11, 13, 15, 17, 19, 21, 23, 25]\n"
     ]
    }
   ],
   "source": [
    "new_odd_list = odd_nums(1,25)\n",
    "print(new_odd_list)"
   ]
  },
  {
   "cell_type": "markdown",
   "id": "cbb12020",
   "metadata": {},
   "source": [
    "2. Why *args and **kwargs is used in some functions? Create a function each for *args and **kwargs to demonstrate their use.\n",
    "\n",
    "**Ans: In Python, we can pass a variable number of arguments to a function using special symbols.  \n",
    "There are two special symbols:  1.args  2.kwargs  \n",
    "args: args allows us to pass the variable number of non keyword arguments to function.In the function, we should use  \n",
    "an asterisk * before the parameter name to pass variable length arguments.  \n",
    "kwargs: kwargs allows us to pass the variable length of keyword arguments to the function as key and value pair as  \n",
    "a dictionary.In the function, we use the double asterisk ** before the parameter name to denote this type of argument.The    arguments are passed as a dictionary .**  "
   ]
  },
  {
   "cell_type": "code",
   "execution_count": 3,
   "id": "dbfff115",
   "metadata": {},
   "outputs": [],
   "source": [
    "# args* example\n",
    "\n",
    "def multiplier(*args):\n",
    "    mult = 1\n",
    "    for i in args:\n",
    "        mult = mult * i\n",
    "    return mult"
   ]
  },
  {
   "cell_type": "code",
   "execution_count": 4,
   "id": "2203f68e",
   "metadata": {},
   "outputs": [
    {
     "name": "stdout",
     "output_type": "stream",
     "text": [
      "120\n"
     ]
    }
   ],
   "source": [
    "m = multiplier(1,2,3,4,5)\n",
    "print(m)"
   ]
  },
  {
   "cell_type": "code",
   "execution_count": 5,
   "id": "8263d137",
   "metadata": {},
   "outputs": [],
   "source": [
    "# kwargs example\n",
    "\n",
    "def info_func(**kwargs):\n",
    "    for key,val in kwargs.items():\n",
    "        print(f\"{key} : {val}\")"
   ]
  },
  {
   "cell_type": "code",
   "execution_count": 6,
   "id": "13a9ab16",
   "metadata": {},
   "outputs": [
    {
     "name": "stdout",
     "output_type": "stream",
     "text": [
      "Name : Dhyanesh\n",
      "Course : Data Science Masters\n"
     ]
    }
   ],
   "source": [
    "student1 = info_func(Name = \"Dhyanesh\" , Course = \"Data Science Masters\")"
   ]
  },
  {
   "cell_type": "markdown",
   "id": "8d8cea92",
   "metadata": {},
   "source": [
    "3. What is an iterator in python? Name the method used to initialise the iterator object and the method used for iteration.  \n",
    "Use these methods to print the first five elements of the given list [2, 4, 6, 8, 10, 12, 14, 16,18, 20].\n",
    "\n",
    "**Ans: Iterator in Python is an object that is used to iterate over iterable objects like lists, tuples, dicts, and sets.  \n",
    "The iterator object is initialized using the iter() method. It uses the next() method for iteration.**  \n",
    "\n"
   ]
  },
  {
   "cell_type": "code",
   "execution_count": 7,
   "id": "f5e3fd68",
   "metadata": {},
   "outputs": [
    {
     "name": "stdout",
     "output_type": "stream",
     "text": [
      "2\n",
      "4\n",
      "6\n",
      "8\n",
      "10\n"
     ]
    }
   ],
   "source": [
    "l1 =  [2, 4, 6, 8, 10, 12, 14, 16,18, 20]\n",
    "\n",
    "li = iter(l1)\n",
    "print(next(li))\n",
    "print(next(li))\n",
    "print(next(li))\n",
    "print(next(li))\n",
    "print(next(li))"
   ]
  },
  {
   "cell_type": "markdown",
   "id": "14dd0df2",
   "metadata": {},
   "source": [
    "4. What is a generator function in python? Why yield keyword is used? Give an example of a generator function.\n",
    "\n",
    "**Ans: A normal iterator like list returns the whole list at once which is not memory efficient.So a function that returns   \n",
    "a list will return the whole list.To overcome this problem we use the yield keyword instead of return which returns one   item/element each run .This saves a lot of memory .Such functions which generate one item at a time are called as generator   functions.**  "
   ]
  },
  {
   "cell_type": "code",
   "execution_count": 8,
   "id": "62fdd5a1",
   "metadata": {},
   "outputs": [
    {
     "name": "stdout",
     "output_type": "stream",
     "text": [
      "P\n",
      "W\n",
      "S\n",
      "K\n",
      "I\n",
      "L\n",
      "L\n",
      "S\n"
     ]
    }
   ],
   "source": [
    "#example of generator function\n",
    "\n",
    "def next_character(string):\n",
    "    for i in string:\n",
    "        yield i\n",
    "\n",
    "str1= \"PWSKILLS\"\n",
    "\n",
    "for i in next_character(str1):\n",
    "    print(i)"
   ]
  },
  {
   "cell_type": "markdown",
   "id": "644765d6",
   "metadata": {},
   "source": [
    "5.  Create a generator function for prime numbers less than 1000. Use the next() method to print the first 20 prime numbers.  "
   ]
  },
  {
   "cell_type": "code",
   "execution_count": 9,
   "id": "98f304a3",
   "metadata": {},
   "outputs": [],
   "source": [
    "def is_prime(num):\n",
    "    \n",
    "    if num <= 1:\n",
    "        return False\n",
    "    elif num ==2:\n",
    "        return True\n",
    "    else:\n",
    "        for i in range(2, num):\n",
    "            if num%i == 0:\n",
    "                return False\n",
    "            else:\n",
    "                return True\n",
    "        \n",
    "        \n",
    "        "
   ]
  },
  {
   "cell_type": "code",
   "execution_count": 10,
   "id": "d66a59b8",
   "metadata": {},
   "outputs": [
    {
     "data": {
      "text/plain": [
       "True"
      ]
     },
     "execution_count": 10,
     "metadata": {},
     "output_type": "execute_result"
    }
   ],
   "source": [
    "is_prime(5)"
   ]
  },
  {
   "cell_type": "code",
   "execution_count": 11,
   "id": "39856b02",
   "metadata": {},
   "outputs": [],
   "source": [
    "def prime_generator(n):\n",
    "    p_list =list(range(1,n+1))\n",
    "    for i in p_list:\n",
    "        if is_prime(i) == True:\n",
    "            yield i"
   ]
  },
  {
   "cell_type": "code",
   "execution_count": 12,
   "id": "a7d065c0",
   "metadata": {},
   "outputs": [
    {
     "data": {
      "text/plain": [
       "<generator object prime_generator at 0x000001A31E29B190>"
      ]
     },
     "execution_count": 12,
     "metadata": {},
     "output_type": "execute_result"
    }
   ],
   "source": [
    "prime_generator(1000)"
   ]
  },
  {
   "cell_type": "code",
   "execution_count": 13,
   "id": "a4a6b759",
   "metadata": {},
   "outputs": [
    {
     "name": "stdout",
     "output_type": "stream",
     "text": [
      "2\n",
      "3\n",
      "5\n",
      "7\n",
      "9\n",
      "11\n",
      "13\n",
      "15\n",
      "17\n",
      "19\n",
      "21\n",
      "23\n",
      "25\n",
      "27\n",
      "29\n",
      "31\n",
      "33\n",
      "35\n",
      "37\n",
      "39\n"
     ]
    }
   ],
   "source": [
    "prime_1000 = prime_generator(1000)\n",
    "\n",
    "for i in range(20):\n",
    "    print(next(prime_1000))\n"
   ]
  },
  {
   "cell_type": "code",
   "execution_count": 14,
   "id": "5a73e08a",
   "metadata": {},
   "outputs": [
    {
     "name": "stdout",
     "output_type": "stream",
     "text": [
      "2\n",
      "3\n",
      "5\n",
      "7\n",
      "9\n",
      "11\n",
      "13\n",
      "15\n",
      "17\n",
      "19\n",
      "21\n",
      "23\n",
      "25\n",
      "27\n",
      "29\n",
      "31\n",
      "33\n",
      "35\n",
      "37\n",
      "39\n"
     ]
    }
   ],
   "source": [
    "stop_range = 20\n",
    "count =0   #39\n",
    "for i in prime_generator(50):\n",
    "    print(i)\n",
    "    count+=1\n",
    "    if count > stop_range -1:\n",
    "        break\n",
    "    "
   ]
  },
  {
   "cell_type": "code",
   "execution_count": null,
   "id": "0eb2b81d",
   "metadata": {},
   "outputs": [],
   "source": []
  }
 ],
 "metadata": {
  "kernelspec": {
   "display_name": "Python 3 (ipykernel)",
   "language": "python",
   "name": "python3"
  },
  "language_info": {
   "codemirror_mode": {
    "name": "ipython",
    "version": 3
   },
   "file_extension": ".py",
   "mimetype": "text/x-python",
   "name": "python",
   "nbconvert_exporter": "python",
   "pygments_lexer": "ipython3",
   "version": "3.9.13"
  }
 },
 "nbformat": 4,
 "nbformat_minor": 5
}
