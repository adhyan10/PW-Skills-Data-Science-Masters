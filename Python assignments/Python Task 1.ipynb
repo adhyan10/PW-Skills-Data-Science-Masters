{
 "cells": [
  {
   "cell_type": "markdown",
   "id": "49ade0ad",
   "metadata": {},
   "source": [
    "## Python Task 1"
   ]
  },
  {
   "cell_type": "markdown",
   "id": "fe49d7b5",
   "metadata": {},
   "source": [
    "1. Create a function which will take a list as an argument and return the product of all the numbers\n",
    "after creating a flat list.\n",
    "\n",
    "Use the below-given list as an argument for your function.\n",
    "\n",
    "\n",
    "list1 = [1,2,3,4, [44,55,66, True], False, (34,56,78,89,34), {1,2,3,3,2,1}, {1:34, \"key2\": [55, 67, 78, 89], 4: (45,\n",
    "22, 61, 34)}, [56, 'data science'], 'Machine Learning']\n",
    "\n",
    "\n",
    "Note: you must extract numeric keys and values of the dictionary also."
   ]
  },
  {
   "cell_type": "code",
   "execution_count": 1,
   "id": "c1ac7f2d",
   "metadata": {},
   "outputs": [],
   "source": [
    "from functools import reduce"
   ]
  },
  {
   "cell_type": "code",
   "execution_count": 2,
   "id": "34292521",
   "metadata": {},
   "outputs": [
    {
     "name": "stdout",
     "output_type": "stream",
     "text": [
      "[1, 2, 3, 4, [44, 55, 66, True], False, (34, 56, 78, 89, 34), {1, 2, 3}, {1: 34, 'key2': [55, 67, 78, 89], 4: (45, 22, 61, 34)}, [56, 'data science'], 'Machine Learning']\n"
     ]
    }
   ],
   "source": [
    "list1 = [1,2,3,4, [44,55,66, True], False, (34,56,78,89,34), {1,2,3,3,2,1}, {1:34, \"key2\": [55, 67, 78, 89], 4: (45, 22, 61, 34)},\n",
    "         [56, 'data science'], 'Machine Learning']\n",
    "\n",
    "print(list1)"
   ]
  },
  {
   "cell_type": "code",
   "execution_count": 3,
   "id": "4c201666",
   "metadata": {},
   "outputs": [],
   "source": [
    "def list_numeric_product(l):\n",
    "    flat_list = []\n",
    "    for i in l:\n",
    "        if type(i) == list or type(i) == tuple or type(i) == set:\n",
    "            for nested_i in i:\n",
    "                if type(nested_i) == int or type(nested_i) == float:\n",
    "                    flat_list.append(nested_i)\n",
    "        elif type(i) == dict:\n",
    "            #getting numeric keys:\n",
    "            keys = list(i.keys())\n",
    "            for key in keys:\n",
    "                if type(key) == int or type(key) == float:\n",
    "                    flat_list.append(key)\n",
    "                    \n",
    "            #getting the numeric values:\n",
    "            values = list(i.values())\n",
    "            for value in values:\n",
    "                if type(value) == list or type(value) == tuple or type(value) == set:\n",
    "                    for nested_value in value:\n",
    "                        if type(nested_value) == int or type(nested_value) == float:\n",
    "                            flat_list.append(nested_value)\n",
    "                elif type(value) == int or type(value) == float:\n",
    "                    flat_list.append(value)\n",
    "        elif type(i) == int or type(i) == float:\n",
    "            flat_list.append(i)\n",
    "    final_product = reduce(lambda x,y: x*y , flat_list)\n",
    "    \n",
    "    return final_product\n",
    "                \n",
    "    "
   ]
  },
  {
   "cell_type": "code",
   "execution_count": 4,
   "id": "443a3c85",
   "metadata": {},
   "outputs": [
    {
     "name": "stdout",
     "output_type": "stream",
     "text": [
      "The final product of the flat list created from given list is: 4134711838987085478833841242112000\n"
     ]
    }
   ],
   "source": [
    "test1 = list_numeric_product(list1)\n",
    "print(f\"The final product of the flat list created from given list is: {test1}\")"
   ]
  },
  {
   "cell_type": "markdown",
   "id": "4b850a63",
   "metadata": {},
   "source": [
    "2.  Write a python program for encrypting a message sent to you by your friend. The logic of encryption\n",
    "should be such that, for a the output should be z. For b, the output should be y. For c, the output should\n",
    "be x respectively. Also, the whitespace should be replaced with a dollar sign. Keep the punctuation\n",
    "marks unchanged.\n",
    "\n",
    "\n",
    "Input Sentence: I want to become a Data Scientist.\n",
    "\n",
    "\n",
    "Encrypt the above input sentence using the program you just created.\n",
    "\n",
    "\n",
    "Note: Convert the given input sentence into lowercase before encrypting. The final output should be\n",
    "lowercase. "
   ]
  },
  {
   "cell_type": "code",
   "execution_count": 5,
   "id": "4e7aff56",
   "metadata": {},
   "outputs": [],
   "source": [
    "input_sentence = \"I want to become a Data Scientist.\""
   ]
  },
  {
   "cell_type": "code",
   "execution_count": 6,
   "id": "8a8a356e",
   "metadata": {},
   "outputs": [],
   "source": [
    "import string"
   ]
  },
  {
   "cell_type": "code",
   "execution_count": 7,
   "id": "b805dc3a",
   "metadata": {},
   "outputs": [],
   "source": [
    "# alphabets =  list(string.ascii_lowercase)"
   ]
  },
  {
   "cell_type": "code",
   "execution_count": 8,
   "id": "f5e169f1",
   "metadata": {},
   "outputs": [],
   "source": [
    "# print(alphabets)"
   ]
  },
  {
   "cell_type": "code",
   "execution_count": 9,
   "id": "a6b401a8",
   "metadata": {},
   "outputs": [],
   "source": [
    "# # alphabets[i] = alphabets[25 - i]\n",
    "# rev_al = []\n",
    "# for i in range(26):\n",
    "#     char = alphabets[25 - i]\n",
    "#     rev_al.append(char)\n",
    "# print(rev_al)"
   ]
  },
  {
   "cell_type": "code",
   "execution_count": 10,
   "id": "f60f04b5",
   "metadata": {},
   "outputs": [],
   "source": [
    "def encrypter(str1) :\n",
    "    alphabets =  list(string.ascii_lowercase)\n",
    "    #first we convert the string to lower case\n",
    "    str1 = str1.lower()\n",
    "    #replacing space with $ sign\n",
    "    str1 = \"$\".join(str1.split())\n",
    "    \n",
    "    #replacing the characters as specified\n",
    "    l_string = list(str1)\n",
    "    for i in range(len(l_string)):\n",
    "        if l_string[i].isalpha():\n",
    "            l_string[i] = alphabets[25 - alphabets.index(l_string[i])]\n",
    "    \n",
    "    final_op = \"\".join(l_string)\n",
    "            \n",
    "    \n",
    "    \n",
    "    return final_op\n",
    "    "
   ]
  },
  {
   "cell_type": "code",
   "execution_count": 11,
   "id": "f4be3216",
   "metadata": {},
   "outputs": [
    {
     "name": "stdout",
     "output_type": "stream",
     "text": [
      "The encrpted message is : r$dzmg$gl$yvxlnv$z$wzgz$hxrvmgrhg.\n"
     ]
    }
   ],
   "source": [
    "op = encrypter(input_sentence)\n",
    "print(f\"The encrpted message is : {op}\")"
   ]
  },
  {
   "cell_type": "code",
   "execution_count": null,
   "id": "507609d7",
   "metadata": {},
   "outputs": [],
   "source": []
  }
 ],
 "metadata": {
  "kernelspec": {
   "display_name": "Python 3 (ipykernel)",
   "language": "python",
   "name": "python3"
  },
  "language_info": {
   "codemirror_mode": {
    "name": "ipython",
    "version": 3
   },
   "file_extension": ".py",
   "mimetype": "text/x-python",
   "name": "python",
   "nbconvert_exporter": "python",
   "pygments_lexer": "ipython3",
   "version": "3.9.13"
  }
 },
 "nbformat": 4,
 "nbformat_minor": 5
}
