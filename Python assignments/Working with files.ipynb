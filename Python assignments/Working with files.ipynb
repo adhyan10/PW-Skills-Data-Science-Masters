{
 "cells": [
  {
   "cell_type": "markdown",
   "id": "8ff1bd23",
   "metadata": {},
   "source": [
    "## Working with Files"
   ]
  },
  {
   "cell_type": "markdown",
   "id": "9d80349c",
   "metadata": {},
   "source": [
    "1. Which function is used to open a file? What are the different modes of opening a file? Explain each mode of file opening."
   ]
  },
  {
   "cell_type": "markdown",
   "id": "d3f3302e",
   "metadata": {},
   "source": [
    "**Ans: The open() function is used to open files in python**.  \n",
    "**Syntax: open(file_path,mode)**  \n",
    "**There are many different modes to work with the files opened with open.they are as follows:**  \n",
    "    **r\t:Open a file for reading. (default)**  \n",
    "    **w\t:Open a file for writing. Creates a new file if it does not exist or truncates the file if it exists**  \n",
    "    **x\t:Open a file for exclusive creation. If the file already exists, the operation fails.**  \n",
    "    **a\t:Open a file for appending at the end of the file without truncating it. Creates a new file if it does not exist.**  \n",
    "    **t\t:Open in text mode. (default)**    \n",
    "    **b\t:Open in binary mode.**  \n",
    "    **+\t:Open a file for updating (reading and writing)**  "
   ]
  },
  {
   "cell_type": "markdown",
   "id": "aad0c869",
   "metadata": {},
   "source": [
    "2. Why close() function is used? Why is it important to close a file?"
   ]
  },
  {
   "cell_type": "markdown",
   "id": "fcdfb936",
   "metadata": {},
   "source": [
    "**Ans: The close() function is used to close the opened file with open() function.Following are few reason to close a file:**     \n",
    "**1.If the files are not closed, it puts the program in the garbage collectors hands.**  \n",
    "**2.Unnecessary opened files can slow down your program.**   \n",
    "**3.For the most part, many changes to files in python do not go into effect until after the file is closed, so \n",
    "if your script edits, leaves open, and reads a file, it won't see the edits.**  \n",
    "**4,Windows treats open files as locked, so legit things like AV scanners or other python scripts can't read the file.**  \n"
   ]
  },
  {
   "cell_type": "markdown",
   "id": "890c8f20",
   "metadata": {},
   "source": [
    "3.  Write a python program to create a text file. Write ‘I want to become a Data Scientist’ in that file. Then\n",
    "close the file. Open this file and read the content of the file ."
   ]
  },
  {
   "cell_type": "code",
   "execution_count": 2,
   "id": "1ae03435",
   "metadata": {},
   "outputs": [],
   "source": [
    "file1 = open(\"DataScientist.txt\",\"w\")\n",
    "file1.write(\"I want to become the best Data Scientist.\")\n",
    "file1.close()"
   ]
  },
  {
   "cell_type": "code",
   "execution_count": 3,
   "id": "10968600",
   "metadata": {},
   "outputs": [
    {
     "name": "stdout",
     "output_type": "stream",
     "text": [
      "I want to become the best Data Scientist.\n"
     ]
    }
   ],
   "source": [
    "file1 =open(\"DataScientist.txt\",\"r\")\n",
    "print(file1.read())"
   ]
  },
  {
   "cell_type": "code",
   "execution_count": 4,
   "id": "f8dddbce",
   "metadata": {},
   "outputs": [],
   "source": [
    "file1.close()"
   ]
  },
  {
   "cell_type": "markdown",
   "id": "7273a267",
   "metadata": {},
   "source": [
    "4.  Explain the following with python code: read(), readline() and readlines()."
   ]
  },
  {
   "cell_type": "markdown",
   "id": "4667fc7e",
   "metadata": {},
   "source": [
    "**Ans:Their explanations are as follows:**  \n",
    "**read():by default it returns the whole text but you can also specify how many characters you want to return.**  \n",
    "**readline(): readline() will return a single line,if called twice it will return first 2 lines. We can use a loop to get\n",
    "all lines.**  \n",
    "**readlines(): readlines() returns all the lines present in the text as a list of lines where each line is a separate element of the list.**  "
   ]
  },
  {
   "cell_type": "code",
   "execution_count": 5,
   "id": "4d770bba",
   "metadata": {},
   "outputs": [],
   "source": [
    "#first lets create a text file for reading\n",
    "\n",
    "f1 = open(\"testfile1.txt\",\"w\")\n",
    "f1.write(\"This is first line\\nThis is second line\\nThis is third line\\nThis is fourth line\")\n",
    "f1.close()"
   ]
  },
  {
   "cell_type": "code",
   "execution_count": 6,
   "id": "6bc3f698",
   "metadata": {},
   "outputs": [
    {
     "name": "stdout",
     "output_type": "stream",
     "text": [
      "This is first line\n",
      "This is second line\n",
      "This is third line\n",
      "This is fourth line\n"
     ]
    }
   ],
   "source": [
    "#read():by default it returns the whole text but you can also specify how many characters you want to return\n",
    "\n",
    "fr = open(\"testfile1.txt\",\"r\")\n",
    "print(fr.read())"
   ]
  },
  {
   "cell_type": "code",
   "execution_count": 11,
   "id": "d2d1bc60",
   "metadata": {},
   "outputs": [
    {
     "name": "stdout",
     "output_type": "stream",
     "text": [
      "This is fi\n"
     ]
    }
   ],
   "source": [
    "fr.seek(0)\n",
    "print(fr.read(10))"
   ]
  },
  {
   "cell_type": "code",
   "execution_count": 12,
   "id": "e53fcc80",
   "metadata": {},
   "outputs": [
    {
     "name": "stdout",
     "output_type": "stream",
     "text": [
      "This is first line\n",
      "\n",
      "This is second line\n",
      "\n"
     ]
    }
   ],
   "source": [
    "#readline()\n",
    "fr.seek(0)\n",
    "print(fr.readline())\n",
    "print(fr.readline())"
   ]
  },
  {
   "cell_type": "code",
   "execution_count": 14,
   "id": "896ddf15",
   "metadata": {},
   "outputs": [
    {
     "name": "stdout",
     "output_type": "stream",
     "text": [
      "This is first line\n",
      "\n",
      "This is second line\n",
      "\n",
      "This is third line\n",
      "\n",
      "This is fourth line\n"
     ]
    }
   ],
   "source": [
    "fr.seek(0)\n",
    "for i in range(4):\n",
    "    print(fr.readline())"
   ]
  },
  {
   "cell_type": "code",
   "execution_count": 15,
   "id": "01fe9223",
   "metadata": {},
   "outputs": [
    {
     "name": "stdout",
     "output_type": "stream",
     "text": [
      "['This is first line\\n', 'This is second line\\n', 'This is third line\\n', 'This is fourth line']\n"
     ]
    }
   ],
   "source": [
    "#readlines()\n",
    "fr.seek(0)\n",
    "print(fr.readlines())"
   ]
  },
  {
   "cell_type": "code",
   "execution_count": 16,
   "id": "f4650f39",
   "metadata": {},
   "outputs": [],
   "source": [
    "fr.close()"
   ]
  },
  {
   "cell_type": "markdown",
   "id": "50ae24cb",
   "metadata": {},
   "source": [
    "5.  Explain why with statement is used with open(). What is the advantage of using with statement and\n",
    "open() together?"
   ]
  },
  {
   "cell_type": "markdown",
   "id": "b3c13f4e",
   "metadata": {},
   "source": [
    "**Ans: Another way to work with open() function is to call it with the \"with\" keyword,with allows to create an object\n",
    "of opened file.Once the object is created we can do all operations similar to normal open(),but it has one advantage that you don't hace to explicitly close the file object ,because once you get out of with loop,it automatically closes the file for us.**"
   ]
  },
  {
   "cell_type": "code",
   "execution_count": 17,
   "id": "19c51ced",
   "metadata": {},
   "outputs": [
    {
     "name": "stdout",
     "output_type": "stream",
     "text": [
      "['This is first line\\n', 'This is second line\\n', 'This is third line\\n', 'This is fourth line']\n"
     ]
    }
   ],
   "source": [
    "with open(\"testfile1.txt\",\"r\") as f1:\n",
    "    print(f1.readlines())"
   ]
  },
  {
   "cell_type": "code",
   "execution_count": 20,
   "id": "2af3b6c4",
   "metadata": {},
   "outputs": [
    {
     "name": "stdout",
     "output_type": "stream",
     "text": [
      "File is already closed\n"
     ]
    }
   ],
   "source": [
    "try:\n",
    "    f1.seek(0)\n",
    "    f1.readlines()\n",
    "except:\n",
    "    print(\"File is already closed\")"
   ]
  },
  {
   "cell_type": "markdown",
   "id": "9cb16dcc",
   "metadata": {},
   "source": [
    "6. Explain the write() and writelines() functions. Give a suitable example."
   ]
  },
  {
   "cell_type": "markdown",
   "id": "5b1a7b10",
   "metadata": {},
   "source": [
    "Ans:\n",
    "**write(): The string that is passed to the write() function is written into the opened file. The string may include\n",
    "numbers, special characters, or symbols. While writing data to a file, we must know that the write function does not add\n",
    "a newline character(\\n) to the end of the string. The write() function returns None.**  \n",
    "\n",
    "**writelines(): It writes the content of a list to a file.the list of strings that is passed to the writelines() function\n",
    "is written into the opened file. Similar to the write() function, the writelines() function does not add a newline character(\\n) to the end of the string.**  "
   ]
  },
  {
   "cell_type": "code",
   "execution_count": 25,
   "id": "83513ae3",
   "metadata": {},
   "outputs": [],
   "source": [
    "#example of write line\n",
    "\n",
    "with open(\"newfile.txt\",\"w+\") as f2:\n",
    "    f2.write(\"This is the first line\\n\")\n"
   ]
  },
  {
   "cell_type": "code",
   "execution_count": 28,
   "id": "5db835ba",
   "metadata": {},
   "outputs": [
    {
     "name": "stdout",
     "output_type": "stream",
     "text": [
      "This is the first line\n",
      "\n"
     ]
    }
   ],
   "source": [
    "with open(\"newfile.txt\",\"r\") as f2:\n",
    "    print(f2.read())"
   ]
  },
  {
   "cell_type": "code",
   "execution_count": 29,
   "id": "be21017c",
   "metadata": {},
   "outputs": [],
   "source": [
    "#example of writelines\n",
    "list_of_lines = [\"This is first line\\n\",\"This is second line\\n\",\"This is third line\\n\",\"This is fourth line\"]"
   ]
  },
  {
   "cell_type": "code",
   "execution_count": 30,
   "id": "0c3920d1",
   "metadata": {},
   "outputs": [],
   "source": [
    "with open(\"newfile2.txt\",\"w\") as f3:\n",
    "    f3.writelines(list_of_lines)"
   ]
  },
  {
   "cell_type": "code",
   "execution_count": 34,
   "id": "b664fc98",
   "metadata": {},
   "outputs": [
    {
     "name": "stdout",
     "output_type": "stream",
     "text": [
      "This is first line\n",
      "\n",
      "This is second line\n",
      "\n",
      "This is third line\n",
      "\n",
      "This is fourth line\n"
     ]
    }
   ],
   "source": [
    "with open(\"newfile2.txt\",\"r\") as f3:\n",
    "    for i in f3.readlines():\n",
    "        print(i)"
   ]
  },
  {
   "cell_type": "code",
   "execution_count": null,
   "id": "318132b2",
   "metadata": {},
   "outputs": [],
   "source": []
  }
 ],
 "metadata": {
  "kernelspec": {
   "display_name": "Python 3 (ipykernel)",
   "language": "python",
   "name": "python3"
  },
  "language_info": {
   "codemirror_mode": {
    "name": "ipython",
    "version": 3
   },
   "file_extension": ".py",
   "mimetype": "text/x-python",
   "name": "python",
   "nbconvert_exporter": "python",
   "pygments_lexer": "ipython3",
   "version": "3.9.13"
  }
 },
 "nbformat": 4,
 "nbformat_minor": 5
}
