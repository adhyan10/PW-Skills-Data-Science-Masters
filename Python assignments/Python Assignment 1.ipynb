{
 "cells": [
  {
   "cell_type": "markdown",
   "id": "b30ccde4",
   "metadata": {},
   "source": [
    "# Python Assignment (theory)"
   ]
  },
  {
   "cell_type": "markdown",
   "id": "adab79af",
   "metadata": {},
   "source": [
    "1. Who developed Python Programming Language ?  \n",
    "\n",
    "**Ans :Python was created by Guido van Rossum, and first released on February 20, 1991. While you may know the python as a  \n",
    "large snake, the name of the Python programming language comes from an old BBC television comedy sketch series called Monty    Python's Flying Circus.**"
   ]
  },
  {
   "cell_type": "markdown",
   "id": "a6b12f56",
   "metadata": {},
   "source": [
    "2. Which type of programming does python support ?  \n",
    "\n",
    "**Ans : Python is a multi-paradigm programming language. Object-oriented programming and structured programming are fully   supported, and many of their features support functional programming. Python is also dynamically typed programming language.** "
   ]
  },
  {
   "cell_type": "markdown",
   "id": "cb1ae7e1",
   "metadata": {},
   "source": [
    "3. Is python case sensitive when dealing with identifiers ?  \n",
    "\n",
    "**Ans: Identifier is a name used to identify a variable, function, class, module, etc. And since python is a case sensitive   language ,i.e. it treats uppercase and lowercase characters as different from each other, therefore python is case sensitive    when dealing with identifiers.** "
   ]
  },
  {
   "cell_type": "markdown",
   "id": "2bf5a95e",
   "metadata": {},
   "source": [
    "4.What is the coorect extension of a python file ?\n",
    "\n",
    "**Ans: The correct extension of a python file is \".py\".**  "
   ]
  },
  {
   "cell_type": "markdown",
   "id": "6234a598",
   "metadata": {},
   "source": [
    "5.Is Python code compiled or interpreted ?\n",
    "\n",
    "**Ans: Python is an interpreted programming language. An interpreted language is a language in which the implementations  \n",
    "execute instructions directly without earlier compiling a program into machine language . Python executes the code   \n",
    "line by line and does not compile the whole program first.** "
   ]
  },
  {
   "cell_type": "markdown",
   "id": "3068f1c6",
   "metadata": {},
   "source": [
    "6. Name a few blocks of code used to define in python language ?\n",
    "\n",
    "**Ans: Unlike other languages like java, C and C++ which uses \"{}\" for a bloack of code, python makes use of  \n",
    "indentation to indicate blocks of code. Indentation refers to the spaces at the beginning of a code line.**"
   ]
  },
  {
   "cell_type": "markdown",
   "id": "cba67568",
   "metadata": {},
   "source": [
    "7. State a character used to give single-line comment in python \n",
    "\n",
    "**Ans: The '#' is used to define a single line comment. Comments are used to explain the code and make it more readable .**  "
   ]
  },
  {
   "cell_type": "markdown",
   "id": "754f9d55",
   "metadata": {},
   "source": [
    "8. Mention the functions which that helps us find the version of python that we are currently working on .\n",
    "\n",
    "**Ans: WE can use the version function of sys library or we can pass a terminal command to check the python versiona as   \n",
    "python --version.Following is the implementation:**"
   ]
  },
  {
   "cell_type": "code",
   "execution_count": 8,
   "id": "dddfc9b5",
   "metadata": {},
   "outputs": [],
   "source": [
    "import sys"
   ]
  },
  {
   "cell_type": "code",
   "execution_count": 9,
   "id": "e5cf8f2f",
   "metadata": {},
   "outputs": [
    {
     "data": {
      "text/plain": [
       "'3.9.13 (main, Aug 25 2022, 23:51:50) [MSC v.1916 64 bit (AMD64)]'"
      ]
     },
     "execution_count": 9,
     "metadata": {},
     "output_type": "execute_result"
    }
   ],
   "source": [
    "sys.version"
   ]
  },
  {
   "cell_type": "code",
   "execution_count": 10,
   "id": "7bbc6aa7",
   "metadata": {},
   "outputs": [
    {
     "name": "stdout",
     "output_type": "stream",
     "text": [
      "Python 3.9.13\n"
     ]
    }
   ],
   "source": [
    "!python --version"
   ]
  },
  {
   "cell_type": "markdown",
   "id": "cd87946c",
   "metadata": {},
   "source": [
    "9. Python supports the creation of anonymous functions at runtime,using a construct called **Lambda functions**   \n",
    "Implementation is as follow:  "
   ]
  },
  {
   "cell_type": "code",
   "execution_count": 12,
   "id": "46876c07",
   "metadata": {},
   "outputs": [
    {
     "name": "stdout",
     "output_type": "stream",
     "text": [
      "100\n"
     ]
    }
   ],
   "source": [
    "square_of_num =lambda x:x**2\n",
    "print(square_of_num(10))"
   ]
  },
  {
   "cell_type": "markdown",
   "id": "75a1df31",
   "metadata": {},
   "source": [
    "10. What does pip stand for python ?\n",
    "\n",
    "**Ans: pip is the package manager in python which installs the libraries .It stands for 'Pip Installs Packages'.  \n",
    "       Example of pip to installing libraries: pip install pandas**"
   ]
  },
  {
   "cell_type": "markdown",
   "id": "47661017",
   "metadata": {},
   "source": [
    "11. Mention few bult-in functions in python  \n",
    "\n",
    "**Ans: Python has a set of built in functions in its standard library.Following are few examples of built-in    \n",
    "    functions of python.      \n",
    "    bool() , int() , str() ,len() ,min() ,max() ,sum() ,abs() ,bin() , any() ,all(), etc.**"
   ]
  },
  {
   "cell_type": "markdown",
   "id": "218dc2eb",
   "metadata": {},
   "source": [
    "12. What is the maximum possible lenght of an identifier in python ?   \n",
    "\n",
    "**Ans:  An identifier can have a maximum length of 79 characters in Python.**"
   ]
  },
  {
   "cell_type": "markdown",
   "id": "55d041ba",
   "metadata": {},
   "source": [
    "13. What the benefits of using python ?\n",
    "\n",
    "**Ans: Python is a general purpose object oriented programming language which is easy to learn and used in wide number of fields        such as Data Science , Web Development , Game development ,computer vision ,etc. It is also open source,  \n",
    "     therefore it is growing fast and has many libraries for vast number of fields.**"
   ]
  },
  {
   "cell_type": "markdown",
   "id": "135e2a10",
   "metadata": {},
   "source": [
    "14. How is memory managed in pyhton ?\n",
    "\n",
    "**Ans: In Python memory allocation and deallocation method is automatic as the Python developers created a garbage   \n",
    "    collector for   Python so that the user does not have to do manual garbage collection.    \n",
    "    Garbage collection is a process in which the interpreter frees up the memory when not in use to make it available for other   objects.  \n",
    "    Reference counting works by counting the number of times an object is referenced by other objects in the system. When references to an object are removed, the reference count for an object is decremented. When the reference count becomes zero, the object is deallocated.**\n"
   ]
  },
  {
   "cell_type": "markdown",
   "id": "aa5235e1",
   "metadata": {},
   "source": [
    "15. How to install python on Windows and set path variable ?\n",
    "\n",
    "**Ans: Download python from : https://www.python.org/downloads/ and when the installing window pop up select   \n",
    "'Add python to PATH'.We can also add pyhton to path by adding its installation location in enviornment varibales in PATH     varibale.**   "
   ]
  },
  {
   "cell_type": "markdown",
   "id": "cc6324ed",
   "metadata": {},
   "source": [
    "16. Is indentation required in python ?  \n",
    "\n",
    "**Ans: Yes, indentation is required in python as it is used to indicate a block of code in python.**"
   ]
  },
  {
   "cell_type": "code",
   "execution_count": null,
   "id": "f095d764",
   "metadata": {},
   "outputs": [],
   "source": []
  }
 ],
 "metadata": {
  "kernelspec": {
   "display_name": "Python 3 (ipykernel)",
   "language": "python",
   "name": "python3"
  },
  "language_info": {
   "codemirror_mode": {
    "name": "ipython",
    "version": 3
   },
   "file_extension": ".py",
   "mimetype": "text/x-python",
   "name": "python",
   "nbconvert_exporter": "python",
   "pygments_lexer": "ipython3",
   "version": "3.9.13"
  }
 },
 "nbformat": 4,
 "nbformat_minor": 5
}
