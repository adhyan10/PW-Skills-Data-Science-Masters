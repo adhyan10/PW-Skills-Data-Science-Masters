{
 "cells": [
  {
   "cell_type": "markdown",
   "id": "24c4e1ff",
   "metadata": {},
   "source": [
    "## Statistics Advance 2"
   ]
  },
  {
   "cell_type": "markdown",
   "id": "db3216bd",
   "metadata": {},
   "source": [
    "#### 1.  What are the Probability Mass Function (PMF) and Probability Density Function (PDF)? Explain with an example."
   ]
  },
  {
   "cell_type": "markdown",
   "id": "ce93481e",
   "metadata": {},
   "source": [
    "Ans:  \n",
    "**The Probability Mass Function (PMF) and Probability Density Function (PDF) are two fundamental concepts in probability theory and statistics that are used to describe the probability distribution of a random variable.**  \n",
    "  \n",
    "**A probability mass function (PMF) is a function that assigns a probability to each possible outcome of a discrete random variable. It maps each value of the random variable to its probability of occurrence. The PMF of a discrete random variable is often represented as a table or a graph that shows the probability of each possible outcome.**  \n",
    "**For example, consider a fair six-sided die. The possible outcomes are the numbers 1 through 6, and each outcome has a probability of 1/6.**    \n",
    "    \n",
    "**A probability density function (PDF) is a function that describes the probability distribution of a continuous random variable. It is a continuous function that assigns a probability density to each possible value of the random variable. The area under the curve of the PDF between any two values represents the probability of the random variable falling between those values.**    \n",
    "**For example, consider the normal distribution of the heights of students The bell shaped curve that describes the distribution of a continuous random variable with a mean and a standard deviation.**"
   ]
  },
  {
   "cell_type": "markdown",
   "id": "e2208356",
   "metadata": {},
   "source": [
    "#### 2. What is Cumulative Density Function (CDF)? Explain with an example. Why CDF is used?"
   ]
  },
  {
   "cell_type": "markdown",
   "id": "049a461c",
   "metadata": {},
   "source": [
    "Ans:  \n",
    "**The Cumulative Distribution Function (CDF) is a function that describes the probability distribution of a random variable X. The CDF gives the probability that X is less than or equal to a given value x, i.e., F(x) = P(X ≤ x). The CDF is defined for both discrete and continuous random variables.**  \n",
    "**For a discrete random variable X, the CDF is the sum of the probabilities of all values less than or equal to x. For a continuous random variable X, the CDF is the integral of the probability density function (PDF) up to x.**  \n",
    "**Example of CDF: For a normal distribution of scores of students in a class we can get the percentiles like what is the 90th percentile of the class.**  \n",
    "  \n",
    "**The CDF is used for several purposes in statistics, including:**  \n",
    "**Probability calculations: The CDF allows us to calculate the probability of a random variable falling within a certain range of values. This is useful for hypothesis testing, confidence interval calculations, and other statistical analyses.**  \n",
    "**Finding percentiles: The CDF can be used to find the value of x that corresponds to a given percentile. For example, the 75th percentile is the value of x such that F(x) = 0.75.**  \n",
    "**Comparing distributions: The CDF can be used to compare the distributions of two or more random variables. By plotting the CDFs of different variables on the same graph, we can visually compare their distributions and identify similarities and differences.**"
   ]
  },
  {
   "cell_type": "markdown",
   "id": "1eaa2ccf",
   "metadata": {},
   "source": [
    "#### 3.  What are some examples of situations where the normal distribution might be used as a model?Explain how the parameters of the normal distribution relate to the shape of the distribution."
   ]
  },
  {
   "cell_type": "markdown",
   "id": "9e696e38",
   "metadata": {},
   "source": [
    "Ans:    \n",
    "**The normal distribution is often used as a model in situations where the data follow a bell-shaped curve, with a central peak and symmetric tails. Here are some examples of situations where the normal distribution might be used as a model:**  \n",
    "1. **Height and weight**\n",
    "2. **Scores**\n",
    "3. **IQ**\n",
    "4. **Stock prices**\n",
    "  \n",
    "**The normal distribution is characterized by two parameters: the mean (μ) and the standard deviation (σ). The mean of a normal distribution represents the central location of the distribution, or the point of maximum probability density. The standard deviation of a normal distribution represents the spread or dispersion of the data around the mean.**  \n",
    "**The mean of a normal distribution determines the location of the peak of the distribution, while the standard deviation determines the width of the distribution. A larger standard deviation results in a wider, flatter distribution with lower peak density, while a smaller standard deviation results in a narrower, taller distribution with higher peak density.**    \n",
    "**The normal distribution is also symmetric, with the same probability density on both sides of the mean. The shape of the distribution is bell-shaped, with most of the data falling within a few standard deviations of the mean, and the probability of extreme values decreasing rapidly as we move away from the mean.**  \n"
   ]
  },
  {
   "cell_type": "markdown",
   "id": "1ef09c16",
   "metadata": {},
   "source": [
    "#### 4.  Explain the importance of Normal Distribution. Give a few real-life examples of Normal Distribution."
   ]
  },
  {
   "cell_type": "markdown",
   "id": "64001c4c",
   "metadata": {},
   "source": [
    "Ans:      \n",
    "**The Normal Distribution, also known as the Gaussian distribution, is one of the most important probability distributions in statistics and data science. It has many desirable properties that make it useful for modeling a wide range of phenomena, both in theory and in practice. Here are some reasons why the Normal Distribution is important:**  \n",
    "\n",
    "1. **It is widely used as a model: The Normal Distribution is often used as a model for data that follow a bell-shaped curve, with a central peak and symmetric tails. Many real-world phenomena can be modeled using the Normal Distribution, making it a versatile tool in statistical analysis.**\n",
    "\n",
    "2. **It is easy to work with: The Normal Distribution is mathematically simple, and many of its properties are well understood. This makes it easy to work with and analyze, both theoretically and practically.**\n",
    "\n",
    "3. **It has many desirable properties: The Normal Distribution has several properties that make it desirable for modeling real-world phenomena, including the Central Limit Theorem, which states that the sum of a large number of independent random variables will approach a Normal Distribution.It also has the famous 68-95-99.7% rule.**\n",
    "\n",
    "**Following are the few examples of Normal Disttribution:**    \n",
    "\n",
    "1. **Heights and weights of people: The distribution of heights and weights of people in a population is often approximately Normal, with a central peak around the mean height or weight, and symmetric tails that extend outwards.**\n",
    "\n",
    "2. **Test scores: The distribution of scores on many standardized tests, such as the SAT or GRE, is often approximately Normal, with a central peak around the mean score and symmetric tails that extend outwards.**\n",
    "\n",
    "3. **Errors in measurements: The distribution of errors in measurements, such as the difference between a measured value and its true value, is often approximately Normal, with a central peak around zero error and symmetric tails that extend outwards.**\n",
    "\n",
    "4. **IQ scores: The distribution of IQ scores is often approximately Normal, with a central peak around the mean IQ score and symmetric tails that extend outwards.**\n",
    "\n",
    "5. **Stock prices: The log returns of stock prices are often modeled using the Normal Distribution, or a related distribution such as the log-normal distribution.**"
   ]
  },
  {
   "cell_type": "markdown",
   "id": "5f6c2315",
   "metadata": {},
   "source": [
    "#### 5. What is Bernaulli Distribution? Give an Example. What is the difference between Bernoulli Distribution and Binomial Distribution?"
   ]
  },
  {
   "cell_type": "markdown",
   "id": "114cbf75",
   "metadata": {},
   "source": [
    "Ans:    \n",
    "**The Bernoulli distribution is a discrete probability distribution that models the outcome of a single binary (yes/no) experiment. It is named after the Swiss mathematician Jacob Bernoulli.The Bernoulli distribution has only two possible outcomes, which are typically labeled as \"success\" (with probability p) and \"failure\" (with probability 1-p).**  \n",
    "  \n",
    "**The Bernoulli distribution is closely related to the Binomial distribution, which models the number of successes in a fixed number of independent Bernoulli trials. The main difference between the Bernoulli and Binomial distributions is that the Bernoulli distribution models the outcome of a single trial, while the Binomial distribution models the outcome of a fixed number of independent trials.**  \n",
    "  \n",
    "**More specifically, the Binomial distribution with parameters n and p represents the number of successes in n independent Bernoulli trials, each with probability of success p.**"
   ]
  },
  {
   "cell_type": "markdown",
   "id": "cf62d208",
   "metadata": {},
   "source": [
    "#### 6. Consider a dataset with a mean of 50 and a standard deviation of 10. If we assume that the dataset is normally distributed, what is the probability that a randomly selected observation will be greater than 60? Use the appropriate formula and show your calculations."
   ]
  },
  {
   "cell_type": "markdown",
   "id": "842f2061",
   "metadata": {},
   "source": [
    "Ans:    \n",
    "**Given: mean = 50, standard deviation =10 ,data is normally distributed**    \n",
    "**So to find the probability(percentage) that a randomly selected observation will be greater than 60 we will use the z table and z test.**    \n",
    "**First we calculate the z score,**    \n",
    "z score = $(60 - mean)/standarddeviation$  \n",
    "        = $(60 - 50)/10$  \n",
    "        = $1$\n",
    "        \n",
    "**Now we check the value for 1 in the z table and we get** $0.84134$  \n",
    "To get greater than value we will subtract 1 by the value obtained = $1 - 0.84134$ = $0.15866$\n",
    "\n",
    "**Therefore the probability that a randomly selected observation will be greater than 60 is 0.15866 .i.e. 15.87%**"
   ]
  },
  {
   "cell_type": "markdown",
   "id": "9448d9cf",
   "metadata": {},
   "source": [
    "#### 7.  Explain uniform Distribution with an example"
   ]
  },
  {
   "cell_type": "markdown",
   "id": "0cdd815b",
   "metadata": {},
   "source": [
    "Ans:  \n",
    "**Uniform Distribution is a probability distribution in which every value within a given interval is equally likely to occur. In other words, the probability density function (PDF) of the Uniform Distribution is constant within the interval and zero outside of it. The Uniform Distribution is often used to model situations where there is no a priori reason to believe that any value within the interval is more likely than any other value.**  \n",
    "  \n",
    "**An example of the Uniform Distribution is rolling a fair six-sided die. In this case, the possible outcomes are the integers 1, 2, 3, 4, 5, and 6, and each outcome is equally likely to occur. We can represent the probability distribution of rolling the die with a uniform distribution over the interval [1, 6], where the PDF is 1/6 for all values within the interval and 0 for all values outside the interval.**  "
   ]
  },
  {
   "cell_type": "markdown",
   "id": "ccad5921",
   "metadata": {},
   "source": [
    "#### 8.  What is the z score? State the importance of the z score"
   ]
  },
  {
   "cell_type": "markdown",
   "id": "6cb30fde",
   "metadata": {},
   "source": [
    "Ans:    \n",
    "**A z-score, also known as a standard score, is a statistical measure that indicates how many standard deviations a data point is from the mean of its distribution. It is calculated by subtracting the mean of the distribution from the data point and then dividing by the standard deviation.**\n",
    "  \n",
    "**The formula for the z-score is:**\n",
    "\n",
    "$z = (x - μ) / σ$\n",
    "  \n",
    "Where:  \n",
    "  \n",
    "x is the data point  \n",
    "μ is the mean of the distribution  \n",
    "σ is the standard deviation of the distribution  \n",
    "  \n",
    "**The z-score can be positive or negative, indicating whether the data point is above or below the mean of the distribution, respectively. A z-score of 0 indicates that the data point is equal to the mean of the distribution.**  \n",
    "    \n",
    "**The importance of the z-score lies in its ability to standardize data and facilitate comparisons between different distributions. By converting data points into z-scores, we can compare values from different distributions that have different units and scales, and determine how far a particular data point is from the mean of its distribution.**  \n",
    "**The z-score is also useful for hypothesis testing and statistical inference. For example, if we have a sample mean and want to test whether it is significantly different from a known population mean, we can calculate the z-score and compare it to the standard normal distribution. The z-score tells us how many standard deviations the sample mean is from the population mean, and we can use this information to calculate a p-value and determine whether the difference is statistically significant.**  \n",
    "  \n",
    "**Overall, the z-score is a powerful statistical tool that enables us to standardize data, compare distributions, and make inferences about population parameters from sample data.**"
   ]
  },
  {
   "cell_type": "markdown",
   "id": "245bbc12",
   "metadata": {},
   "source": [
    "#### 9. What is Central Limit Theorem? State the significance of the Central Limit Theorem"
   ]
  },
  {
   "cell_type": "markdown",
   "id": "7824ec49",
   "metadata": {},
   "source": [
    "Ans:  \n",
    "**The Central Limit Theorem (CLT) is a fundamental concept in statistics that states that the distribution of sample means from a population with any distribution approaches a normal distribution as the sample size increases. In other words, if we take repeated random samples of a fixed size from any population, then the distribution of the sample means will be approximately normal, regardless of the shape of the population distribution.**   \n",
    "**Significance of Central Limit Theorem:**  \n",
    "1. **Normality: The CLT implies that many real-world phenomena can be modeled using a normal distribution, which is a useful and widely used statistical model.**\n",
    "\n",
    "2. **Sample Size: The CLT shows that as the sample size increases, the distribution of sample means becomes more and more normal. This means that larger sample sizes can provide more accurate estimates of population parameters.**\n",
    "\n",
    "3. **Hypothesis Testing: The CLT is often used in hypothesis testing to test the significance of a sample mean. By assuming that the sample mean follows a normal distribution, we can calculate the probability of observing a sample mean as extreme as the one we have obtained, given the null hypothesis.**\n",
    "\n",
    "4. **Confidence Intervals: The CLT is used to calculate confidence intervals for population parameters such as the mean and the variance. These intervals provide a range of plausible values for the population parameter based on the sample data.**"
   ]
  },
  {
   "cell_type": "markdown",
   "id": "86dbd29a",
   "metadata": {},
   "source": [
    "#### 10. State the assumptions of the Central Limit Theorem."
   ]
  },
  {
   "cell_type": "markdown",
   "id": "ffc56443",
   "metadata": {},
   "source": [
    "Ans:  \n",
    "**The Central Limit Theorem (CLT) has certain assumptions that must be met in order for it to hold true:**  \n",
    "\n",
    "1. **Independence: The observations in the sample must be independent of each other. This means that the value of one observation should not be influenced by the value of another observation in the sample.**  \n",
    "\n",
    "2. **Sample Size: The sample size must be sufficiently large. A general rule of thumb is that the sample size should be at least 30 in order for the CLT to hold true, although this may vary depending on the distribution of the population.**\n",
    "\n",
    "3. **Population Distribution: The population from which the sample is drawn must have a finite mean and a finite variance. The shape of the population distribution does not matter as long as it is not extremely skewed or heavy-tailed.**\n",
    "\n",
    "4. **Sampling Method: The sample must be drawn randomly from the population. This means that every member of the population must have an equal chance of being selected for the sample.**"
   ]
  },
  {
   "cell_type": "code",
   "execution_count": null,
   "id": "a6925cc5",
   "metadata": {},
   "outputs": [],
   "source": []
  }
 ],
 "metadata": {
  "kernelspec": {
   "display_name": "Python 3 (ipykernel)",
   "language": "python",
   "name": "python3"
  },
  "language_info": {
   "codemirror_mode": {
    "name": "ipython",
    "version": 3
   },
   "file_extension": ".py",
   "mimetype": "text/x-python",
   "name": "python",
   "nbconvert_exporter": "python",
   "pygments_lexer": "ipython3",
   "version": "3.9.13"
  }
 },
 "nbformat": 4,
 "nbformat_minor": 5
}
