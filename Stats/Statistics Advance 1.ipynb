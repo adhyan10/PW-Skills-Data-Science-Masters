{
 "cells": [
  {
   "cell_type": "markdown",
   "id": "63bbfccc",
   "metadata": {},
   "source": [
    "## Statistics Advance 1"
   ]
  },
  {
   "cell_type": "markdown",
   "id": "f0a34fc1",
   "metadata": {},
   "source": [
    "#### 1.  What is the Probability density function?"
   ]
  },
  {
   "cell_type": "markdown",
   "id": "f93fa74d",
   "metadata": {},
   "source": [
    "**Ans: In probability theory, a probability density function (PDF) is a function that describes the relative likelihood for a random variable to take on a given value. The PDF gives the probability of a continuous random variable falling within a particular range of values, as opposed to taking on any one specific value.**\n",
    "  \n",
    "**the PDF of a continuous random variable X is a function f(x) that satisfies the following properties:**\n",
    "1. **f(x) is non-negative for all x.**\n",
    "2. **The total area under the curve of f(x) is equal to 1.**\n",
    "3. **The probability that X lies within a certain range [a,b] is equal to the integral of f(x) over that range:**\n",
    "P(a ≤ X ≤ b) = ∫[a,b] f(x) dx."
   ]
  },
  {
   "cell_type": "markdown",
   "id": "252c12b5",
   "metadata": {},
   "source": [
    "#### 2. What are the types of Probability distribution?"
   ]
  },
  {
   "cell_type": "markdown",
   "id": "97524708",
   "metadata": {},
   "source": [
    "**Ans: Following are the types of Probability distributions:**\n",
    "1. *Gaussian/Normal distribution* \n",
    "2. *Bernoulli distribution*\n",
    "3. *Binomial distribution*\n",
    "4. *Poisson distribution*\n",
    "5. *Uniform distribution*\n",
    "6. *Power Law distribution*\n",
    "7. *Log Normal distribution*"
   ]
  },
  {
   "cell_type": "markdown",
   "id": "2b5cf4e2",
   "metadata": {},
   "source": [
    "#### 3. Write a Python function to calculate the probability density function of a normal distribution with given mean and standard deviation at a given point."
   ]
  },
  {
   "cell_type": "code",
   "execution_count": 1,
   "id": "70b7716d",
   "metadata": {},
   "outputs": [],
   "source": [
    "#f(x) = (1 / (σ * sqrt(2 * π))) * e^(-(x-μ)^2 / (2 * σ^2))"
   ]
  },
  {
   "cell_type": "code",
   "execution_count": 2,
   "id": "5453ea32",
   "metadata": {},
   "outputs": [],
   "source": [
    "import math\n",
    "\n",
    "def noraml_pdf(x,mean,std):\n",
    "    coefficient = (1 / ( std *  math.sqrt(2 * math.pi)))\n",
    "    exponent = math.exp(-(x-mean)**2 / (2* std**2 ))\n",
    "    \n",
    "    soln = coefficient*exponent\n",
    "    return soln"
   ]
  },
  {
   "cell_type": "code",
   "execution_count": 3,
   "id": "44121229",
   "metadata": {},
   "outputs": [
    {
     "data": {
      "text/plain": [
       "0.0388372109966426"
      ]
     },
     "execution_count": 3,
     "metadata": {},
     "output_type": "execute_result"
    }
   ],
   "source": [
    "noraml_pdf(8,2,5)"
   ]
  },
  {
   "cell_type": "markdown",
   "id": "6c00c677",
   "metadata": {},
   "source": [
    "#### 4. What are the properties of Binomial distribution? Give two examples of events where binomial distribution can be applied."
   ]
  },
  {
   "cell_type": "markdown",
   "id": "96d6edc5",
   "metadata": {},
   "source": [
    "**Ans: The binomial distribution is a discrete probability distribution that models the probability of obtaining a certain number of successes in a fixed number of independent trials, where each trial has only two possible outcomes, usually labeled as success and failure. The following are some of the properties of the binomial distribution:**  \n",
    "  \n",
    "**The probability of success remains constant across all trials.**  \n",
    "1. *The trials are independent of each other.*\n",
    "2. *The number of trials is fixed.*\n",
    "3. *The outcomes of each trial are mutually exclusive (i.e., only one outcome can occur per trial).*\n",
    "4. *The random variable representing the number of successes in the trials follows a binomial distribution.*\n",
    "**Examples of events where a binomial distribution can be applied include:**\n",
    "  \n",
    "**Tossing a coin: Suppose you toss a fair coin 10 times and want to know the probability of getting exactly 5 heads. Each coin toss is independent of the others, there are only two possible outcomes (heads or tails), and the probability of getting a head is 0.5. This is a classic example of a binomial distribution.**    \n",
    "  \n",
    "**Product quality control: A manufacturer produces a batch of 1000 items and wants to know the probability of having exactly 5 defective items in the batch. Each item is either defective or not defective, and the probability of an item being defective is constant across the batch. The items are produced independently of each other. This situation can be modeled using a binomial distribution**"
   ]
  },
  {
   "cell_type": "markdown",
   "id": "dfcc0068",
   "metadata": {},
   "source": [
    "#### 5. Generate a random sample of size 1000 from a binomial distribution with probability of success 0.4 and plot a histogram of the results using matplotlib"
   ]
  },
  {
   "cell_type": "code",
   "execution_count": 4,
   "id": "3ba736b0",
   "metadata": {},
   "outputs": [
    {
     "data": {
      "image/png": "[encoded data removed]",
      "text/plain": [
       "<Figure size 640x480 with 1 Axes>"
      ]
     },
     "metadata": {},
     "output_type": "display_data"
    }
   ],
   "source": [
    "import numpy as np\n",
    "import matplotlib.pyplot as plt\n",
    "\n",
    "\n",
    "# Generate a random sample of size 1000 from a binomial distribution with p=0.4\n",
    "data = np.random.binomial(n=1, p=0.4, size=1000)\n",
    "\n",
    "# Plot a histogram of the sample\n",
    "plt.hist(data, bins=2, edgecolor='black')\n",
    "plt.xlabel('Outcome')\n",
    "plt.ylabel('Frequency')\n",
    "plt.title('Histogram of a Random Sample from a Binomial Distribution')\n",
    "plt.xticks([0, 1], ['Failure', 'Success'])\n",
    "plt.show()"
   ]
  },
  {
   "cell_type": "markdown",
   "id": "359c058f",
   "metadata": {},
   "source": [
    "#### 6.  Write a Python function to calculate the cumulative distribution function of a Poisson distribution with given mean at a given point."
   ]
  },
  {
   "cell_type": "code",
   "execution_count": 5,
   "id": "336cb8d1",
   "metadata": {},
   "outputs": [],
   "source": [
    "def cdf_poisson(x,mean):\n",
    "    cdf = 0\n",
    "    for i in range(x+1):\n",
    "        numerator = math.exp(-mean) * mean**i\n",
    "        denominator = math.factorial(i)\n",
    "        cdf += numerator/denominator\n",
    "    return cdf"
   ]
  },
  {
   "cell_type": "code",
   "execution_count": 6,
   "id": "c66d5627",
   "metadata": {},
   "outputs": [
    {
     "data": {
      "text/plain": [
       "0.9488663842071525"
      ]
     },
     "execution_count": 6,
     "metadata": {},
     "output_type": "execute_result"
    }
   ],
   "source": [
    "cdf_poisson(7,4)"
   ]
  },
  {
   "cell_type": "markdown",
   "id": "13fecb35",
   "metadata": {},
   "source": [
    "This means that with lambda/mean (the expected events to occurs) at 4 and point 7 of time interval the cdf is 0.95 approx.This means there is 0.95 probability and 95% chance that he number of occurrences in a Poisson distribution with mean 4 is less than or equal to 7."
   ]
  },
  {
   "cell_type": "markdown",
   "id": "335e466f",
   "metadata": {},
   "source": [
    "#### 7. How Binomial distribution different from Poisson distribution?"
   ]
  },
  {
   "cell_type": "markdown",
   "id": "512df41b",
   "metadata": {},
   "source": [
    "**Ans: Both binomial and poisson disrtibutions are disributions for discrete random variables.The differnce betwwen them is that\n",
    "Binomial distribution is used when the number of trials is fixed and the outcome is either success or failure, such as the number of heads in a coin flip experiment or the number of defective items in a production batch.**     \n",
    "**Where as Poisson distribution is used when the number of occurrences in a fixed interval of time or space is of interest, such as the number of calls to a call center in an hour or the number of accidents on a highway in a month.**    \n",
    "**They also differ in term of parameters as Binomial distribution has two parameters: n, the number of trials, and p, the probability of success in each trial.Poisson distribution has only one parameter, λ, which represents the average number of occurrences in the interval.**"
   ]
  },
  {
   "cell_type": "markdown",
   "id": "eb41aaa1",
   "metadata": {},
   "source": [
    "#### 8. Generate a random sample of size 1000 from a Poisson distribution with mean 5 and calculate the sample mean and variance."
   ]
  },
  {
   "cell_type": "code",
   "execution_count": 7,
   "id": "7cc3df63",
   "metadata": {},
   "outputs": [
    {
     "name": "stdout",
     "output_type": "stream",
     "text": [
      "Sample mean: 4.887\n",
      "Sample variance: 5.062231\n"
     ]
    }
   ],
   "source": [
    "import numpy as np\n",
    "\n",
    "# Generate a random sample of size 1000 from a Poisson distribution with mean 5\n",
    "sample = np.random.poisson(lam=5, size=1000)\n",
    "\n",
    "# Calculate the sample mean and variance\n",
    "mean = np.mean(sample)\n",
    "variance = np.var(sample)\n",
    "\n",
    "# Print the results\n",
    "print(\"Sample mean:\", mean)\n",
    "print(\"Sample variance:\", variance)"
   ]
  },
  {
   "cell_type": "markdown",
   "id": "da904a3a",
   "metadata": {},
   "source": [
    "#### 9.  How mean and variance are related in Binomial distribution and Poisson distribution?"
   ]
  },
  {
   "cell_type": "markdown",
   "id": "9c906b5d",
   "metadata": {},
   "source": [
    "**Ans: In Poison Distribution the mean is equal to variance.**  \n",
    "$mean(poisson) = lambda * t$  \n",
    "and\n",
    "$variance(poisson) = lambda * t$  \n",
    "**where lambda is the expected number of average occurences and t is the time interval**  \n",
    "    \n",
    "**In Binomial distribution,**  \n",
    "$mean(binomial) = n*p$  \n",
    "and  \n",
    "$variance(binomial) = n*p*q$  \n",
    "**where  n is the number of trials,p is the probability of success and q is the porbability of failure(1-p)**"
   ]
  },
  {
   "cell_type": "markdown",
   "id": "ee6e7617",
   "metadata": {},
   "source": [
    "**We notice that in both poisson and binomial distributions the variances are directly proportional to their means.This means as the mean increases or decreases, the variance also increases or decreases and vice versa**"
   ]
  },
  {
   "cell_type": "markdown",
   "id": "cf5c486d",
   "metadata": {},
   "source": [
    "#### 10. In normal distribution with respect to mean position, where does the least frequent data appear?"
   ]
  },
  {
   "cell_type": "markdown",
   "id": "6b83567b",
   "metadata": {},
   "source": [
    "**Ans: In a normal distribution, the least frequent data points appear in the tails of the distribution, which are located furthest away from the mean.**  \n",
    "**The normal distribution is symmetric about its mean, with the highest frequency of data points located at the center of the distribution, where the mean is located. As we move away from the mean towards the tails of the distribution, the frequency of data points gradually decreases.**"
   ]
  },
  {
   "cell_type": "code",
   "execution_count": null,
   "id": "d4510151",
   "metadata": {},
   "outputs": [],
   "source": []
  }
 ],
 "metadata": {
  "kernelspec": {
   "display_name": "Python 3 (ipykernel)",
   "language": "python",
   "name": "python3"
  },
  "language_info": {
   "codemirror_mode": {
    "name": "ipython",
    "version": 3
   },
   "file_extension": ".py",
   "mimetype": "text/x-python",
   "name": "python",
   "nbconvert_exporter": "python",
   "pygments_lexer": "ipython3",
   "version": "3.9.13"
  }
 },
 "nbformat": 4,
 "nbformat_minor": 5
}
