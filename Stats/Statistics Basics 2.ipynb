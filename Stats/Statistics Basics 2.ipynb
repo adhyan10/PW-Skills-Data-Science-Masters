{
 "cells": [
  {
   "cell_type": "markdown",
   "id": "12cb641e",
   "metadata": {},
   "source": [
    "## Statistics Basics 2"
   ]
  },
  {
   "cell_type": "markdown",
   "id": "cd1e2ed3",
   "metadata": {},
   "source": [
    "#### 1. What are the three measures of central tendency?"
   ]
  },
  {
   "cell_type": "markdown",
   "id": "9a3f526a",
   "metadata": {},
   "source": [
    "**Ans: The three measures of central tendencies are:**  \n",
    "1. **mean: It is the average of the data**\n",
    "2. **median: It is the “middle value” or the average of “middle two values” in a data set when the numbers are arranged in an order.**\n",
    "3. **mode: It is the most ferquent occuring  value in the data.**"
   ]
  },
  {
   "cell_type": "markdown",
   "id": "13e75a53",
   "metadata": {},
   "source": [
    "#### 2.  What is the difference between the mean, median, and mode? How are they used to measure the central tendency of a dataset?"
   ]
  },
  {
   "cell_type": "markdown",
   "id": "33464a6f",
   "metadata": {},
   "source": [
    "**Ans: All three, the mean,meadian and mode are measures of central tendencies which provide a descriptive summarization of the data.They differ in how the are calculated and when they are used.**  \n",
    "**Mean is arthimetic average of the dataset ,calculated by adding all values in data set and dividing by the cardinality(length) of the dataset.**  \n",
    "**Median is the middle value of the dataset,but first we have to sort it.If dataset has odd number of values/elements/members we just pick the middle value,but if it has even vlaues we take mean of the middle 2 elements.**  \n",
    "**Mode is the element that most frequeently occurs in the data.**  \n",
    "  \n",
    "**To choose which measure of central tendency to use, you should consider the type of data you have and whether there are any extreme values or outliers. For normally distributed data with no outliers, the mean is usually the best measure of central tendency. For non-normally distributed data or data with outliers, the median is often a better choice. The mode is most useful for nominal data or when you want to know the most common value or category in a dataset. In some cases, it may be useful to report multiple measures of central tendency to provide a more complete picture of the data.**"
   ]
  },
  {
   "cell_type": "markdown",
   "id": "f3366e66",
   "metadata": {},
   "source": [
    "#### 3.  Measure the three measures of central tendency for the given height data:"
   ]
  },
  {
   "cell_type": "code",
   "execution_count": 1,
   "id": "a8398ca2",
   "metadata": {},
   "outputs": [],
   "source": [
    "data = [178,177,176,177,178.2,178,175,179,180,175,178.9,176.2,177,172.5,178,176.5]"
   ]
  },
  {
   "cell_type": "code",
   "execution_count": 2,
   "id": "f62c3856",
   "metadata": {},
   "outputs": [],
   "source": [
    "import numpy as np\n",
    "from scipy import stats"
   ]
  },
  {
   "cell_type": "code",
   "execution_count": 3,
   "id": "8586ef4c",
   "metadata": {},
   "outputs": [
    {
     "name": "stdout",
     "output_type": "stream",
     "text": [
      "mean of data: 177.01875\n"
     ]
    }
   ],
   "source": [
    "mean = np.mean(data)\n",
    "print(f\"mean of data: {mean}\")"
   ]
  },
  {
   "cell_type": "code",
   "execution_count": 4,
   "id": "1ebef7e9",
   "metadata": {},
   "outputs": [
    {
     "name": "stdout",
     "output_type": "stream",
     "text": [
      "median of data: 177.0\n"
     ]
    }
   ],
   "source": [
    "median = np.median(data)\n",
    "print(f\"median of data: {median}\")"
   ]
  },
  {
   "cell_type": "code",
   "execution_count": 5,
   "id": "a0614d43",
   "metadata": {},
   "outputs": [
    {
     "name": "stdout",
     "output_type": "stream",
     "text": [
      "mode of data: ModeResult(mode=array([177.]), count=array([3]))\n"
     ]
    },
    {
     "name": "stderr",
     "output_type": "stream",
     "text": [
      "C:\\Users\\dhyan\\AppData\\Local\\Temp\\ipykernel_11304\\4239787474.py:1: FutureWarning: Unlike other reduction functions (e.g. `skew`, `kurtosis`), the default behavior of `mode` typically preserves the axis it acts along. In SciPy 1.11.0, this behavior will change: the default value of `keepdims` will become False, the `axis` over which the statistic is taken will be eliminated, and the value None will no longer be accepted. Set `keepdims` to True or False to avoid this warning.\n",
      "  mode = stats.mode(data)\n"
     ]
    }
   ],
   "source": [
    "mode = stats.mode(data)\n",
    "print(f\"mode of data: {mode}\")"
   ]
  },
  {
   "cell_type": "markdown",
   "id": "befb26d3",
   "metadata": {},
   "source": [
    "#### 4.  Find the standard deviation for the given data:"
   ]
  },
  {
   "cell_type": "code",
   "execution_count": 6,
   "id": "f73894fa",
   "metadata": {},
   "outputs": [],
   "source": [
    "data = [178,177,176,177,178.2,178,175,179,180,175,178.9,176.2,177,172.5,178,176.5]"
   ]
  },
  {
   "cell_type": "code",
   "execution_count": 7,
   "id": "1febcb61",
   "metadata": {},
   "outputs": [
    {
     "name": "stdout",
     "output_type": "stream",
     "text": [
      "Standard deviation of the data: 1.7885814036548633\n"
     ]
    }
   ],
   "source": [
    "std = np.std(data)\n",
    "print(f\"Standard deviation of the data: {std}\")"
   ]
  },
  {
   "cell_type": "markdown",
   "id": "0e593769",
   "metadata": {},
   "source": [
    "#### 5. How are measures of dispersion such as range, variance, and standard deviation used to describe the spread of a dataset? Provide an example."
   ]
  },
  {
   "cell_type": "markdown",
   "id": "c466c996",
   "metadata": {},
   "source": [
    "**Ans: Measures of dispersion are used to describe the spread or variability of a dataset. The common measures of dispersion include range, variance, and standard deviation.**  \n",
    "  \n",
    "**Variance: The variance is a measure of how much the values in a dataset deviate from the mean. It is calculated by taking the sum of the squared differences between each value and the mean, divided by the total number of values minus one. The variance is useful for understanding how much the data is spread out from the mean. For example, if a dataset contains the following values: 1, 3, 5, 7, 9, and the mean is 5, the variance would be ((1-5)^2 + (3-5)^2 + (5-5)^2 + (7-5)^2 + (9-5)^2)/(5-1) = 8.**  \n",
    "  \n",
    "**Standard deviation: The standard deviation is the square root of the variance. It is a commonly used measure of dispersion that is useful for understanding how tightly the values in a dataset are clustered around the mean. A smaller standard deviation indicates that the values are closer together, while a larger standard deviation indicates that the values are more spread out. For example, if a dataset contains the same values as in the variance example, the standard deviation would be the square root of 8, which is approximately 2.83.**  \n",
    "  \n",
    "**Range: The range is the difference between the maximum and minimum values in a dataset. It is a simple measure of dispersion that can be calculated quickly. However, it is sensitive to extreme values and may not accurately reflect the spread of the data if there are outliers. For example, if a dataset contains the following values: 1, 3, 5, 7, 9, the range would be 9-1=8.**  "
   ]
  },
  {
   "cell_type": "markdown",
   "id": "2c4c4953",
   "metadata": {},
   "source": [
    "Example:grades in a class for a test"
   ]
  },
  {
   "cell_type": "code",
   "execution_count": 8,
   "id": "2b25e148",
   "metadata": {},
   "outputs": [],
   "source": [
    "marks = np.array([20,33,53,61,74,88,96,100,45,81])\n",
    "\n",
    "range_of_marks = marks.max() - marks.min()"
   ]
  },
  {
   "cell_type": "code",
   "execution_count": 9,
   "id": "6b8f6791",
   "metadata": {},
   "outputs": [
    {
     "name": "stdout",
     "output_type": "stream",
     "text": [
      "Range of the marks: 80\n"
     ]
    }
   ],
   "source": [
    "print(f\"Range of the marks: {range_of_marks}\")"
   ]
  },
  {
   "cell_type": "markdown",
   "id": "f0731a91",
   "metadata": {},
   "source": [
    "The range does not tell much about the dispersion as the distance/difference between the max and min marks is very big."
   ]
  },
  {
   "cell_type": "code",
   "execution_count": 10,
   "id": "67f5d495",
   "metadata": {},
   "outputs": [
    {
     "name": "stdout",
     "output_type": "stream",
     "text": [
      "the variance is: 666.09\n"
     ]
    }
   ],
   "source": [
    "var = np.var(marks)\n",
    "\n",
    "print(f\"the variance is: {var}\")"
   ]
  },
  {
   "cell_type": "markdown",
   "id": "43489039",
   "metadata": {},
   "source": [
    "We can't tell much about the dispersion using variance as it is a squared value"
   ]
  },
  {
   "cell_type": "code",
   "execution_count": 11,
   "id": "00379419",
   "metadata": {},
   "outputs": [
    {
     "name": "stdout",
     "output_type": "stream",
     "text": [
      "The standard deviation is: 25.808719456803743\n"
     ]
    }
   ],
   "source": [
    "std = np.std(marks)\n",
    "print(f\"The standard deviation is: {std}\")"
   ]
  },
  {
   "cell_type": "markdown",
   "id": "12795188",
   "metadata": {},
   "source": [
    "The standard deviation od 25.808 tells that the marks of students are spread by a value of almost 29 marks form the mean."
   ]
  },
  {
   "cell_type": "markdown",
   "id": "599b8bc3",
   "metadata": {},
   "source": [
    "#### 6. What is a Venn diagram?"
   ]
  },
  {
   "cell_type": "markdown",
   "id": "5aa0a4bc",
   "metadata": {},
   "source": [
    "**s: A Venn diagram is a graphical representation of set relationships. It is a diagram that shows all possible logical relations between a finite collection of sets. Venn diagrams are composed of overlapping circles that represent sets and the areas where the circles overlap represent the intersection of those sets.**  \n",
    "  \n",
    "**ch set is represented by a circle, and the elements of the set are contained within the circle. The overlap between the circles represents the intersection of the sets, or the elements that are common to both sets. The non-overlapping areas represent the elements that are unique to each set.**  \n",
    "  \n",
    "**nn diagrams can be used to illustrate various logical relationships between sets, such as subset relationships, mutual exclusion, and overlap. They can also be used to visualize data and to compare and contrast different sets of data.**"
   ]
  },
  {
   "cell_type": "markdown",
   "id": "f7f491e6",
   "metadata": {},
   "source": [
    "#### 7. For the two given sets A = (2,3,4,5,6,7) & B = (0,2,6,8,10). Find:"
   ]
  },
  {
   "cell_type": "code",
   "execution_count": 12,
   "id": "0e3ef74d",
   "metadata": {},
   "outputs": [],
   "source": [
    "A = {2,3,4,5,6,7}\n",
    "B = {0,2,6,8,1}"
   ]
  },
  {
   "cell_type": "code",
   "execution_count": 13,
   "id": "30b1a928",
   "metadata": {},
   "outputs": [],
   "source": [
    "intersection = A.intersection(B)"
   ]
  },
  {
   "cell_type": "code",
   "execution_count": 14,
   "id": "52763c77",
   "metadata": {},
   "outputs": [
    {
     "data": {
      "text/plain": [
       "{2, 6}"
      ]
     },
     "execution_count": 14,
     "metadata": {},
     "output_type": "execute_result"
    }
   ],
   "source": [
    "intersection"
   ]
  },
  {
   "cell_type": "markdown",
   "id": "e7d77021",
   "metadata": {},
   "source": [
    "(i)  $A \\cap B$ = {2, 6}"
   ]
  },
  {
   "cell_type": "code",
   "execution_count": 15,
   "id": "5641fe96",
   "metadata": {},
   "outputs": [
    {
     "data": {
      "text/plain": [
       "{0, 1, 2, 3, 4, 5, 6, 7, 8}"
      ]
     },
     "execution_count": 15,
     "metadata": {},
     "output_type": "execute_result"
    }
   ],
   "source": [
    "union = A.union(B)\n",
    "union"
   ]
  },
  {
   "cell_type": "markdown",
   "id": "3fd6f7d4",
   "metadata": {},
   "source": [
    "(ii) $A \\cup B$ = {0, 1, 2, 3, 4, 5, 6, 7, 8}"
   ]
  },
  {
   "cell_type": "markdown",
   "id": "20b5b183",
   "metadata": {},
   "source": [
    "#### 8.  What do you understand about skewness in data?"
   ]
  },
  {
   "cell_type": "markdown",
   "id": "84b7636a",
   "metadata": {},
   "source": [
    "**Ans: Skewness measures the asymmetry of the dataset or the probability distribution.When the distribution is such that it looks similar on left and right from the centre it is called a symmetric distribution.When a distribution is not symmetric then it is asymmetric and skewed.We can then measure the skewness of the skewed distributions by measuring its distortion away from a normal symmetric distibution.A skewed distribution can be left (negative) skewed or right (postive) skewed.Based on the skewness and distribution we can make some assumptions about the dataset.**  \n",
    "  \n",
    "**Skewness is an important characteristic of data because it can have an impact on statistical analysis and modeling. For example, if a dataset is positively skewed, the mean will be greater than the median, indicating that the dataset is skewed towards the higher values. On the other hand, if a dataset is negatively skewed, the mean will be less than the median, indicating that the dataset is skewed towards the lower values.**"
   ]
  },
  {
   "cell_type": "markdown",
   "id": "c4f1b3c6",
   "metadata": {},
   "source": [
    "#### 9.  If a data is right skewed then what will be the position of median with respect to mean?"
   ]
  },
  {
   "cell_type": "markdown",
   "id": "d0942be5",
   "metadata": {},
   "source": [
    "**Ans: If a dataset is right(positively) skewed, the mean will be greater than the median, indicating that the dataset is skewed towards the higher value**"
   ]
  },
  {
   "cell_type": "markdown",
   "id": "52349296",
   "metadata": {},
   "source": [
    "#### 10.  Explain the difference between covariance and correlation. How are these measures used in statistical analysis?"
   ]
  },
  {
   "cell_type": "markdown",
   "id": "49fcb6f0",
   "metadata": {},
   "source": [
    "**Ans: Covariance and correlation are both measures of the relationship between two variables, but they differ in their interpretation and scaling.**  \n",
    "  \n",
    "**Covariance measures the degree to which two variables vary together. It measures the strength and direction of the linear relationship between two variables. A positive covariance indicates that two variables tend to increase or decrease together, while a negative covariance indicates that one variable tends to increase while the other decreases. However, the magnitude of covariance is not standardized and depends on the units of the variables, which makes it difficult to compare covariances across different datasets.**  \n",
    "  \n",
    "**On the other hand, correlation measures the strength and direction of the linear relationship between two variables, but it scales the covariance by the product of the standard deviations of the two variables. This results in a value between -1 and 1, which indicates the strength and direction of the relationship between the two variables. A correlation coefficient of 1 indicates a perfect positive correlation, a correlation coefficient of -1 indicates a perfect negative correlation, and a correlation coefficient of 0 indicates no correlation.**  \n",
    "  \n",
    "**Correlation is preferred over covariance in statistical analysis because it provides a standardized measure of the relationship between two variables that is not affected by the units of measurement. Correlation is also useful in identifying patterns and trends in data and in making predictions based on those patterns.**  "
   ]
  },
  {
   "cell_type": "markdown",
   "id": "5a62df70",
   "metadata": {},
   "source": [
    "#### 11. . What is the formula for calculating the sample mean? Provide an example calculation for a dataset."
   ]
  },
  {
   "cell_type": "markdown",
   "id": "e99355c8",
   "metadata": {},
   "source": [
    "**Ans:**    \n",
    "**sample mean is denoted by x bar: $ \\bar{x} $**  \n",
    "**Formula:**    \n",
    "  \n",
    "$ \\bar{x} = \\frac{\\sum_{i=1}^{n} x_i}{n}$"
   ]
  },
  {
   "cell_type": "markdown",
   "id": "ec5477a3",
   "metadata": {},
   "source": [
    "Example:"
   ]
  },
  {
   "cell_type": "code",
   "execution_count": 16,
   "id": "293d11dc",
   "metadata": {},
   "outputs": [
    {
     "data": {
      "text/plain": [
       "array([2, 1, 7, 5, 9, 7])"
      ]
     },
     "execution_count": 16,
     "metadata": {},
     "output_type": "execute_result"
    }
   ],
   "source": [
    "data = np.random.randint(1,10,6)\n",
    "data"
   ]
  },
  {
   "cell_type": "code",
   "execution_count": 17,
   "id": "bd2f7bcf",
   "metadata": {},
   "outputs": [
    {
     "data": {
      "text/plain": [
       "5.166666666666667"
      ]
     },
     "execution_count": 17,
     "metadata": {},
     "output_type": "execute_result"
    }
   ],
   "source": [
    "mean = sum(data)/len(data)\n",
    "mean"
   ]
  },
  {
   "cell_type": "markdown",
   "id": "f5d09b94",
   "metadata": {},
   "source": [
    "using numpy:"
   ]
  },
  {
   "cell_type": "code",
   "execution_count": 18,
   "id": "5d9f267f",
   "metadata": {},
   "outputs": [
    {
     "data": {
      "text/plain": [
       "5.166666666666667"
      ]
     },
     "execution_count": 18,
     "metadata": {},
     "output_type": "execute_result"
    }
   ],
   "source": [
    "np.mean(data)"
   ]
  },
  {
   "cell_type": "markdown",
   "id": "eb58a66b",
   "metadata": {},
   "source": [
    "#### 12.  For a normal distribution data what is the relationship between its measure of central tendency?"
   ]
  },
  {
   "cell_type": "markdown",
   "id": "5b140102",
   "metadata": {},
   "source": [
    "**Ans: For a normal distribution data, the relationship between the measures of central tendencies:**  \n",
    "$mean = median = mode$"
   ]
  },
  {
   "cell_type": "markdown",
   "id": "4bf005fc",
   "metadata": {},
   "source": [
    "#### 13. How is covariance different from correlation?"
   ]
  },
  {
   "cell_type": "markdown",
   "id": "8628bfe1",
   "metadata": {},
   "source": [
    "**Ans: The magnitude of covariance is not standardized and depends on the units of the variables, which makes it difficult to compare covariances across different datasets and has not limits on its upper and lower bounds.This makes it difficult to interpret.On the other hand, correlation techniques like pearson correlation coefficient results a value between +1 and -1.Values closer to -1 means that there is a strong negative relationship between the variables and value closer to +1 means a strong positive relationship between the variables.Value closer or equal to 0 indicates no relationship.Correlation is preferred over covariance in statistical analysis because it provides a standardized measure of the relationship between two variables that is not affected by the units of measurement.**"
   ]
  },
  {
   "cell_type": "markdown",
   "id": "0ee402d0",
   "metadata": {},
   "source": [
    "#### 14.  How do outliers affect measures of central tendency and dispersion? Provide an example"
   ]
  },
  {
   "cell_type": "markdown",
   "id": "9782e209",
   "metadata": {},
   "source": [
    "**Ans: outliers are extreme values in the dataset that are extremely different from its other values.**\n",
    "  \n",
    "**For measures of central tendency, outliers can significantly affect the mean. The mean is highly sensitive to outliers because it takes into account all values in the dataset. The presence of outliers can skew the mean away from the center of the distribution. On the other hand, the median and mode are less affected by outliers because they only take into account the middle value or the most common value, respectively.**\n",
    "    \n",
    "**For measures of dispersion, outliers can significantly affect the range, variance, and standard deviation. The range is highly sensitive to outliers because it is calculated as the difference between the maximum and minimum values in the dataset. The presence of outliers can increase the range, making it a poor measure of dispersion. The variance and standard deviation are also highly sensitive to outliers because they take into account the distance of each value from the mean. The presence of outliers can increase the variance and standard deviation, making them larger than they would be without the outliers.**"
   ]
  },
  {
   "cell_type": "markdown",
   "id": "7005f6b1",
   "metadata": {},
   "source": [
    "Example:"
   ]
  },
  {
   "cell_type": "code",
   "execution_count": 19,
   "id": "d170f2bb",
   "metadata": {},
   "outputs": [
    {
     "name": "stdout",
     "output_type": "stream",
     "text": [
      "Without outlier:\n",
      "Mean:  5.5\n",
      "Median:  5.5\n",
      "Mode:  ModeResult(mode=array([1]), count=array([1]))\n",
      "Range:  9\n",
      "Variance:  8.25\n",
      "Standard deviation:  2.8722813232690143\n",
      "****************************************\n",
      "With outlier:\n",
      "Mean:  14.5\n",
      "Median:  5.5\n",
      "Mode:  ModeResult(mode=array([1]), count=array([1]))\n",
      "Range:  99\n",
      "Variance:  818.25\n",
      "Standard deviation:  28.605069480775605\n"
     ]
    },
    {
     "name": "stderr",
     "output_type": "stream",
     "text": [
      "C:\\Users\\dhyan\\AppData\\Local\\Temp\\ipykernel_11304\\1575890777.py:12: FutureWarning: Unlike other reduction functions (e.g. `skew`, `kurtosis`), the default behavior of `mode` typically preserves the axis it acts along. In SciPy 1.11.0, this behavior will change: the default value of `keepdims` will become False, the `axis` over which the statistic is taken will be eliminated, and the value None will no longer be accepted. Set `keepdims` to True or False to avoid this warning.\n",
      "  mode_without_outlier = stats.mode(data)\n",
      "C:\\Users\\dhyan\\AppData\\Local\\Temp\\ipykernel_11304\\1575890777.py:16: FutureWarning: Unlike other reduction functions (e.g. `skew`, `kurtosis`), the default behavior of `mode` typically preserves the axis it acts along. In SciPy 1.11.0, this behavior will change: the default value of `keepdims` will become False, the `axis` over which the statistic is taken will be eliminated, and the value None will no longer be accepted. Set `keepdims` to True or False to avoid this warning.\n",
      "  mode_with_outlier = stats.mode(data_out)\n"
     ]
    }
   ],
   "source": [
    "import numpy as np\n",
    "from scipy import stats\n",
    "\n",
    "# Generate a sample of data with and without an outlier\n",
    "data = np.array([1, 2, 3, 4, 5, 6, 7, 8, 9, 10])\n",
    "data_out = np.array([1, 2, 3, 4, 5, 6, 7, 8, 9, 100])\n",
    "\n",
    "\n",
    "# Calculate the mean, median, and mode of each dataset\n",
    "mean_without_outlier = np.mean(data)\n",
    "median_without_outlier = np.median(data)\n",
    "mode_without_outlier = stats.mode(data)\n",
    "\n",
    "mean_with_outlier = np.mean(data_out)\n",
    "median_with_outlier = np.median(data_out)\n",
    "mode_with_outlier = stats.mode(data_out)\n",
    "\n",
    "\n",
    "# Calculate the range, variance, and standard deviation of each dataset\n",
    "range_without_outlier = data.max() - data.min()\n",
    "range_with_outlier = data_out.max() - data_out.min()\n",
    "variance_without_outlier = np.var(data)\n",
    "variance_with_outlier = np.var(data_out)\n",
    "std_without_outlier = np.std(data)\n",
    "std_with_outlier = np.std(data_out)\n",
    "\n",
    "# Print the results\n",
    "print(\"Without outlier:\")\n",
    "print(\"Mean: \", mean_without_outlier)\n",
    "print(\"Median: \", median_without_outlier)\n",
    "print(\"Mode: \", mode_without_outlier)\n",
    "print(\"Range: \", range_without_outlier)\n",
    "print(\"Variance: \", variance_without_outlier)\n",
    "print(\"Standard deviation: \", std_without_outlier)\n",
    "print(\"*\" * 40)\n",
    "print(\"With outlier:\")\n",
    "print(\"Mean: \", mean_with_outlier)\n",
    "print(\"Median: \", median_with_outlier)\n",
    "print(\"Mode: \", mode_with_outlier)\n",
    "print(\"Range: \", range_with_outlier)\n",
    "print(\"Variance: \", variance_with_outlier)\n",
    "print(\"Standard deviation: \", std_with_outlier)\n",
    "\n"
   ]
  },
  {
   "cell_type": "code",
   "execution_count": null,
   "id": "03de4df1",
   "metadata": {},
   "outputs": [],
   "source": []
  }
 ],
 "metadata": {
  "kernelspec": {
   "display_name": "Python 3 (ipykernel)",
   "language": "python",
   "name": "python3"
  },
  "language_info": {
   "codemirror_mode": {
    "name": "ipython",
    "version": 3
   },
   "file_extension": ".py",
   "mimetype": "text/x-python",
   "name": "python",
   "nbconvert_exporter": "python",
   "pygments_lexer": "ipython3",
   "version": "3.9.13"
  }
 },
 "nbformat": 4,
 "nbformat_minor": 5
}
