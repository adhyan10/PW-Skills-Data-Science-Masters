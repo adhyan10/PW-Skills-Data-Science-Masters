{
 "cells": [
  {
   "cell_type": "markdown",
   "id": "702a4dc7",
   "metadata": {},
   "source": [
    "## Statistics Bascis 1"
   ]
  },
  {
   "cell_type": "markdown",
   "id": "3c309390",
   "metadata": {},
   "source": [
    "#### 1. What is Statistics?"
   ]
  },
  {
   "cell_type": "markdown",
   "id": "820a8c19",
   "metadata": {},
   "source": [
    "**Ans: Statistics is the science/study of collecting, organizing and analyzing of data,where data is facts or information. It is divided into two types as descriptive statistics and inferential statistics.**  "
   ]
  },
  {
   "cell_type": "markdown",
   "id": "c1e3819e",
   "metadata": {},
   "source": [
    "#### 2.  Define the different types of statistics and give an example of when each type might be used."
   ]
  },
  {
   "cell_type": "markdown",
   "id": "0e350e4a",
   "metadata": {},
   "source": [
    "**Ans: Statistics can be branched in to two types:**  \n",
    "1. **Descriptive Statistics: Descriptive statistics gives the summarised information of the data sample and its measurements so that we can make uses them for analysing the data.**  \n",
    "**Example: measures of central tendencies: mean,median and mode(e.g:mean salary of an employee in the department.)**  \n",
    "  \n",
    "2. **Inferential Statistics: Inferenetial statistics helps to make conclusions for a population based on the analysis results we obtained by analyzing a sample of that population.The goal of inferential statistics is to make generalizations about a population.**\n",
    "**Example: Experimental tests like: z-test,to test(e.g: Is the mean salary of the employee in the department similar to what you expect in other compaines.)**  \n"
   ]
  },
  {
   "cell_type": "markdown",
   "id": "580158e7",
   "metadata": {},
   "source": [
    "#### 3. What are the different types of data and how do they differ from each other? Provide an example of each type of data."
   ]
  },
  {
   "cell_type": "markdown",
   "id": "8af38c69",
   "metadata": {},
   "source": [
    "**Ans: Data can be classified into types,quatitaive and qualitaitive data.**  \n",
    "**Quatitative data: This is numerical data that can be counted or measured.Quatitative data can be of 2 types:**\n",
    "1. **Discrete : a numerical type of data that includes whole, concrete numbers with specific and fixed data values determined by counting.e.g:Number of kids in a family,number of employees in a company**\n",
    "2. **Continuous \" a numerical type of data that can take any values . Continuous data has an infinite number of possible values that can be measured.e.g: Height of students,Lenght of a road.**\n",
    "**Qualitaitve data: This is categorical data that defines the data with some quality.It has 2 major types:**  \n",
    "1. **Nominal data: categrical data where the categories do not have a rank associated with them.Each category is equal in terms of rank.e.g: Gender:male and female.**\n",
    "2. **Ordinal data: categorical data where the categories have a specified order of rank associacted with them.Here one category can have more importance than other .e.g: Reviews and rating stars: 1 to 5 (5 is best and 1 is worst) .**\n"
   ]
  },
  {
   "cell_type": "markdown",
   "id": "879b988e",
   "metadata": {},
   "source": [
    "#### 4.  Categorise the following datasets with respect to quantitative and qualitative data types:"
   ]
  },
  {
   "cell_type": "markdown",
   "id": "3aadc35c",
   "metadata": {},
   "source": [
    "**(i)\tGrading in exam: A+, A, B+, B, C+, C, D, E**  \n",
    "\n",
    "**Ans: Qualitaive(Ordinal) data**"
   ]
  },
  {
   "cell_type": "markdown",
   "id": "b65d78c3",
   "metadata": {},
   "source": [
    "**(ii)\tColour of mangoes: yellow, green, orange, red**  \n",
    "\n",
    "**Ans:Qualtitaive(Nonimal) data .This can not be ordianal as even a green(raw) mango is useful .So we can't say :\n",
    "green mango < orange or yellow mango.**"
   ]
  },
  {
   "cell_type": "markdown",
   "id": "d76bbbb6",
   "metadata": {},
   "source": [
    "**(iii)\tHeight data of a class: [178.9, 179, 179.5, 176, 177.2, 178.3, 175.8,...]**    \n",
    "**Ans: Quantitative (Continuous) data**"
   ]
  },
  {
   "cell_type": "markdown",
   "id": "3f5b9ae8",
   "metadata": {},
   "source": [
    "**(iv)\tNumber of mangoes exported by a farm: [500, 600, 478, 672, …]**  \n",
    "**Ans: Quantitaive (Discrete) data**"
   ]
  },
  {
   "cell_type": "markdown",
   "id": "4e88084f",
   "metadata": {},
   "source": [
    "#### 5.  Explain the concept of levels of measurement and give an example of a variable for each level"
   ]
  },
  {
   "cell_type": "markdown",
   "id": "8648ddce",
   "metadata": {},
   "source": [
    "**Ans: Levels of measurement, also called scales of measurement, tell you how precisely variables are recorded.\n",
    "The four levels of measuremetns are:**  \n",
    "1. **Nominal Scale Data: this data can only be categorized and there is no ranking.Eg:Gender :Male and female**\n",
    "2. **Ordinal Scale Data: this data can be categorized and ranked but we can not measure differnce between the values.e.g: Rating in terms of stars:1(worst) to 5(best)Qualifications.**\n",
    "3. **Interval Scale Data: this data can be categorized and ranked and you can also measure the the differnce between the values(excluding the ratios) but can not start at 0.e.g: Temperature:[104 F,200 F,208 F]**\n",
    "4. **Ratio Scale Data: this data can be categorized and ranked and differnces and ratios are measurable and can have a 0 as starting .e.g: Grades/scores [20,40,59,80]**"
   ]
  },
  {
   "cell_type": "markdown",
   "id": "22e0bb13",
   "metadata": {},
   "source": [
    "#### 6.  Why is it important to understand the level of measurement when analyzing data? Provide an example to illustrate your answer"
   ]
  },
  {
   "cell_type": "markdown",
   "id": "edc0097a",
   "metadata": {},
   "source": [
    "**Ans: The level at which you measure a variable determines how you can analyze your data.**  \n",
    "\n",
    "**The different levels limit which descriptive statistics you can use to get an overall summary of your data, and which type of inferential statistics you can perform on your data to support or refute your hypothesis.**  \n",
    "**In many cases, your variables can be measured at different levels, so you have to choose the level of measurement you will use before data collection begins.**  \n",
    "\n",
    "**Example:You can measure the variable of income at an ordinal or ratio level.**  \n",
    "**Ordinal level: You create brackets of income ranges: 0–19,999, 20,000–39,999, and 40,000–59,999. You ask participants to select the bracket that represents their annual income. The brackets are coded with numbers from 1–3.**  \n",
    "**Ratio level: You collect data on the exact annual incomes of your participants.**    \n",
    "\n",
    "**At a ratio level, you can see that the difference between A and B’s incomes is far greater than the difference between B and C’s incomes.At an ordinal level, however, you only know the income bracket for each participant, not their exact income. Since you cannot say exactly how much each income differs from the others in your data set, you can only order the income levels and group the participants.**  "
   ]
  },
  {
   "cell_type": "markdown",
   "id": "cee6c656",
   "metadata": {},
   "source": [
    "#### 7.  How nominal data type is different from ordinal data type"
   ]
  },
  {
   "cell_type": "markdown",
   "id": "7c2b0e47",
   "metadata": {},
   "source": [
    "**Ans: Nominal data type can only be categorized and it can not be ranked, while on the other hand ordinal data type follows a rank order where on category is better or importatnt than other .**  \n",
    "**Example of Nominal data type: colour of ball: red ,green**  \n",
    "**Example of ordianl data type: position in the race: third ,second and first.**"
   ]
  },
  {
   "cell_type": "markdown",
   "id": "114d3608",
   "metadata": {},
   "source": [
    "#### 8. Which type of plot can be used to display data in terms of range?"
   ]
  },
  {
   "cell_type": "markdown",
   "id": "0307787f",
   "metadata": {},
   "source": [
    "**Ans: If the values of the data a numeric then we can make bins of a particular range for that data and plot the data in histogram.It will the the frequency of that range on the y axis and the ranges will be in x axis.**"
   ]
  },
  {
   "cell_type": "code",
   "execution_count": 1,
   "id": "d571af37",
   "metadata": {},
   "outputs": [],
   "source": [
    "import seaborn as sns\n",
    "import numpy as np"
   ]
  },
  {
   "cell_type": "code",
   "execution_count": 2,
   "id": "35b7ccb2",
   "metadata": {},
   "outputs": [],
   "source": [
    "data = np.random.randint(20,100,50)"
   ]
  },
  {
   "cell_type": "code",
   "execution_count": 3,
   "id": "b6a381c8",
   "metadata": {},
   "outputs": [
    {
     "data": {
      "text/plain": [
       "<AxesSubplot:ylabel='Count'>"
      ]
     },
     "execution_count": 3,
     "metadata": {},
     "output_type": "execute_result"
    },
    {
     "data": {
      "image/png": "[encoded data removed]",
      "text/plain": [
       "<Figure size 640x480 with 1 Axes>"
      ]
     },
     "metadata": {},
     "output_type": "display_data"
    }
   ],
   "source": [
    "sns.histplot(data=data,bins=5)"
   ]
  },
  {
   "cell_type": "markdown",
   "id": "2647a5ad",
   "metadata": {},
   "source": [
    "**9.  Describe the difference between descriptive and inferential statistics. Give an example of each type of statistics and explain how they are used.**"
   ]
  },
  {
   "cell_type": "markdown",
   "id": "f0a68f25",
   "metadata": {},
   "source": [
    "**Ans: The differnece between inferential and descriptive statistics is that Inferential statistics helps to compare data, make hypotheses and predictions while the  Descriptive statistics explains already known data related to a particular sample or population of a small size by summarizing the data. Inferential statistics, however, aims to draw inferences or conclusions about a whole population.**  \n",
    "**Example of descriptive statistics:Measures of Central Tendency - These help to describe the central position of the data by using measures such as mean, median, and mode.e.g: Mean salary of an employee in the department**\n",
    "**Example of inferenctial statistics:Hypothesis Testing - This technique involves the use of hypothesis tests such as the z test, f test, t test, etc. to make inferences about the population data. It requires setting up the null hypothesis, alternative hypothesis, and testing the decision criteria.e.g: is the student going to get an pass based on his study hours**"
   ]
  },
  {
   "cell_type": "markdown",
   "id": "d533f753",
   "metadata": {},
   "source": [
    "#### 10. What are some common measures of central tendency and variability used in statistics? Explain how each measure can be used to describe a dataset."
   ]
  },
  {
   "cell_type": "markdown",
   "id": "f4295200",
   "metadata": {},
   "source": [
    "**Ans: Common measures of central tendencies:**  \n",
    "1. **Mean :average of data values.**\n",
    "$$\\bar{x} = \\frac{1}{n} \\sum_{i=1}^{n} x_i$$\n",
    "2. **Median: “middle value” or the average of “middle two values” in a data set when the numbers are arranged in an order.**\n",
    "3. **Mode: value that occurs with greatest frequency.**\n",
    "\n",
    "**Common measures of variation/variablity:**\n",
    "1. **Variance: variance is a measure of how far a set of data are dispersed out from their mean or average value.**\n",
    "$$s^2 = \\frac{1}{n-1} \\sum_{i=1}^{n} (x_i - \\bar{x})^2$$\n",
    "2. **Standard deviation:variance returns value as squared.So we square root the varicance to get the standard deviation. It alo gives measure of how much data values are deviated away from mean.** \n",
    "$$s = \\sqrt{\\frac{1}{n-1} \\sum_{i=1}^{n} (x_i - \\bar{x})^2}$$\n",
    "3. **Range: difference between the maximum value and the minimum value in a data set**\n"
   ]
  },
  {
   "cell_type": "code",
   "execution_count": null,
   "id": "c9f08481",
   "metadata": {},
   "outputs": [],
   "source": []
  }
 ],
 "metadata": {
  "kernelspec": {
   "display_name": "Python 3 (ipykernel)",
   "language": "python",
   "name": "python3"
  },
  "language_info": {
   "codemirror_mode": {
    "name": "ipython",
    "version": 3
   },
   "file_extension": ".py",
   "mimetype": "text/x-python",
   "name": "python",
   "nbconvert_exporter": "python",
   "pygments_lexer": "ipython3",
   "version": "3.9.13"
  }
 },
 "nbformat": 4,
 "nbformat_minor": 5
}
